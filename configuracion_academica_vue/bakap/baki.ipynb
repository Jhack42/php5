{
 "cells": [
  {
   "cell_type": "code",
   "execution_count": 1,
   "metadata": {},
   "outputs": [
    {
     "name": "stdout",
     "output_type": "stream",
     "text": [
      "Requirement already satisfied: requests in c:\\users\\jhack alberth\\appdata\\local\\programs\\python\\python312\\lib\\site-packages (2.32.3)\n",
      "Requirement already satisfied: charset-normalizer<4,>=2 in c:\\users\\jhack alberth\\appdata\\local\\programs\\python\\python312\\lib\\site-packages (from requests) (3.3.2)\n",
      "Requirement already satisfied: idna<4,>=2.5 in c:\\users\\jhack alberth\\appdata\\local\\programs\\python\\python312\\lib\\site-packages (from requests) (3.7)\n",
      "Requirement already satisfied: urllib3<3,>=1.21.1 in c:\\users\\jhack alberth\\appdata\\local\\programs\\python\\python312\\lib\\site-packages (from requests) (2.2.2)\n",
      "Requirement already satisfied: certifi>=2017.4.17 in c:\\users\\jhack alberth\\appdata\\local\\programs\\python\\python312\\lib\\site-packages (from requests) (2024.7.4)\n"
     ]
    },
    {
     "name": "stderr",
     "output_type": "stream",
     "text": [
      "\n",
      "[notice] A new release of pip is available: 24.2 -> 24.3.1\n",
      "[notice] To update, run: python.exe -m pip install --upgrade pip\n"
     ]
    }
   ],
   "source": [
    "!pip install requests"
   ]
  },
  {
   "cell_type": "code",
   "execution_count": null,
   "metadata": {},
   "outputs": [
    {
     "name": "stdout",
     "output_type": "stream",
     "text": [
      "Categorías: [\n",
      "  {\n",
      "    \"n_id_categoria\": \"1\",\n",
      "    \"v_titulo\": \"baki\"\n",
      "  },\n",
      "  {\n",
      "    \"n_id_categoria\": \"2\",\n",
      "    \"v_titulo\": \"baki 2\"\n",
      "  }\n",
      "]\n",
      "Error al crear la categoría: 500\n",
      "Categoría actualizada: {\n",
      "  \"n_id_categoria\": \"1\",\n",
      "  \"v_titulo\": \"baki\",\n",
      "  \"V_TITULO\": \"Baki actualizado\"\n",
      "}\n",
      "Categoría eliminada.\n",
      "Categorías: [\n",
      "  {\n",
      "    \"n_id_categoria\": \"1\",\n",
      "    \"v_titulo\": \"baki\"\n",
      "  },\n",
      "  {\n",
      "    \"n_id_categoria\": \"2\",\n",
      "    \"v_titulo\": \"baki 2\"\n",
      "  }\n",
      "]\n"
     ]
    }
   ],
   "source": [
    "import requests\n",
    "import json\n",
    "\n",
    "# URL base de la API\n",
    "base_url = 'http://localhost:8000/api/categorias'\n",
    "\n",
    "# 1. Obtener todas las categorías (GET)\n",
    "def obtener_categorias():\n",
    "    response = requests.get(base_url)\n",
    "    if response.status_code == 200:\n",
    "        categorias = response.json()\n",
    "        print(\"Categorías:\", json.dumps(categorias, indent=2))\n",
    "    else:\n",
    "        print(f\"Error al obtener las categorías: {response.status_code}\")\n",
    "\n",
    "# 2. Crear una nueva categoría (POST)\n",
    "def crear_categoria(n_id_categoria, v_titulo):\n",
    "    data = {\n",
    "        'N_ID_CATEGORIA': n_id_categoria,\n",
    "        'V_TITULO': v_titulo\n",
    "    }\n",
    "    response = requests.post(base_url, json=data)\n",
    "    if response.status_code == 201:\n",
    "        print(\"Categoría creada:\", json.dumps(response.json(), indent=2))\n",
    "    else:\n",
    "        print(f\"Error al crear la categoría: {response.status_code}\")\n",
    "\n",
    "# 3. Actualizar una categoría (PUT)\n",
    "def actualizar_categoria(id_categoria, v_titulo):\n",
    "    url = f'{base_url}/{id_categoria}'\n",
    "    data = {\n",
    "        'V_TITULO': v_titulo\n",
    "    }\n",
    "    response = requests.put(url, json=data)\n",
    "    if response.status_code == 200:\n",
    "        print(\"Categoría actualizada:\", json.dumps(response.json(), indent=2))\n",
    "    else:\n",
    "        print(f\"Error al actualizar la categoría: {response.status_code}\")\n",
    "\n",
    "# 4. Eliminar una categoría (DELETE)\n",
    "def eliminar_categoria(id_categoria):\n",
    "    url = f'{base_url}/{id_categoria}'\n",
    "    response = requests.delete(url)\n",
    "    if response.status_code == 200:\n",
    "        print(\"Categoría eliminada.\")\n",
    "    else:\n",
    "        print(f\"Error al eliminar la categoría: {response.status_code}\")\n",
    "\n",
    "# Ejecución de las funciones\n",
    "if __name__ == \"__main__\":\n",
    "    # Obtener todas las categorías\n",
    "    obtener_categorias()\n",
    "\n",
    "    # Crear una nueva categoría\n",
    "    crear_categoria(2, \"baki 2\")\n",
    "\n",
    "    # Actualizar una categoría (supongamos que la categoría con ID 1 existe)\n",
    "    actualizar_categoria(1, \"Baki actualizado\")\n",
    "\n",
    "    # Eliminar una categoría (supongamos que la categoría con ID 1 existe)\n",
    "    eliminar_categoria(1)\n",
    "\n",
    "    # Obtener nuevamente las categorías para ver los cambios\n",
    "    obtener_categorias()\n"
   ]
  }
 ],
 "metadata": {
  "kernelspec": {
   "display_name": "Python 3",
   "language": "python",
   "name": "python3"
  },
  "language_info": {
   "codemirror_mode": {
    "name": "ipython",
    "version": 3
   },
   "file_extension": ".py",
   "mimetype": "text/x-python",
   "name": "python",
   "nbconvert_exporter": "python",
   "pygments_lexer": "ipython3",
   "version": "3.12.4"
  }
 },
 "nbformat": 4,
 "nbformat_minor": 2
}
