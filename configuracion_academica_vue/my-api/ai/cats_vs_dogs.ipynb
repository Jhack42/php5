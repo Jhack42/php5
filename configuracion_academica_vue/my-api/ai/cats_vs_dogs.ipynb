{
 "cells": [
  {
   "cell_type": "code",
   "execution_count": 19,
   "metadata": {},
   "outputs": [],
   "source": [
    "import os\n",
    "import csv\n",
    "\n",
    "DIRECTORIO_IMAGENES = \"C:/Users/Jhack Alberth/Downloads/kagglecatsanddogs_5340/PetImages\"\n",
    "archivo_csv = \"C:/Users/Jhack Alberth/Downloads/kagglecatsanddogs_5340/etiquetas.csv\"\n",
    "\n",
    "# Crear el archivo CSV\n",
    "with open(archivo_csv, mode='w', newline='') as file:\n",
    "    writer = csv.writer(file)\n",
    "    writer.writerow([\"nombre_archivo\", \"etiqueta\"])  # Encabezado\n",
    "\n",
    "    for categoria in [\"Cat\", \"Dog\"]:\n",
    "        etiqueta = 1 if categoria == \"Dog\" else 0\n",
    "        directorio_categoria = os.path.join(DIRECTORIO_IMAGENES, categoria)\n",
    "\n",
    "        for nombre_archivo in os.listdir(directorio_categoria):\n",
    "            ruta_completa = os.path.join(directorio_categoria, nombre_archivo)\n",
    "            if os.path.isfile(ruta_completa):\n",
    "                writer.writerow([ruta_completa, etiqueta])  # Escribir ruta y etiqueta"
   ]
  },
  {
   "cell_type": "code",
   "execution_count": 1,
   "metadata": {},
   "outputs": [
    {
     "name": "stdout",
     "output_type": "stream",
     "text": [
      "Requirement already satisfied: tensorflow_datasets in c:\\users\\jhack alberth\\appdata\\local\\programs\\python\\python312\\lib\\site-packages (4.9.7)\n",
      "Requirement already satisfied: absl-py in c:\\users\\jhack alberth\\appdata\\local\\programs\\python\\python312\\lib\\site-packages (from tensorflow_datasets) (2.1.0)\n",
      "Requirement already satisfied: click in c:\\users\\jhack alberth\\appdata\\local\\programs\\python\\python312\\lib\\site-packages (from tensorflow_datasets) (8.1.7)\n",
      "Requirement already satisfied: dm-tree in c:\\users\\jhack alberth\\appdata\\local\\programs\\python\\python312\\lib\\site-packages (from tensorflow_datasets) (0.1.8)\n",
      "Requirement already satisfied: immutabledict in c:\\users\\jhack alberth\\appdata\\local\\programs\\python\\python312\\lib\\site-packages (from tensorflow_datasets) (4.2.0)\n",
      "Requirement already satisfied: numpy in c:\\users\\jhack alberth\\appdata\\local\\programs\\python\\python312\\lib\\site-packages (from tensorflow_datasets) (1.26.4)\n",
      "Requirement already satisfied: promise in c:\\users\\jhack alberth\\appdata\\local\\programs\\python\\python312\\lib\\site-packages (from tensorflow_datasets) (2.3)\n",
      "Requirement already satisfied: protobuf>=3.20 in c:\\users\\jhack alberth\\appdata\\local\\programs\\python\\python312\\lib\\site-packages (from tensorflow_datasets) (4.25.4)\n",
      "Requirement already satisfied: psutil in c:\\users\\jhack alberth\\appdata\\roaming\\python\\python312\\site-packages (from tensorflow_datasets) (6.0.0)\n",
      "Requirement already satisfied: pyarrow in c:\\users\\jhack alberth\\appdata\\local\\programs\\python\\python312\\lib\\site-packages (from tensorflow_datasets) (18.0.0)\n",
      "Requirement already satisfied: requests>=2.19.0 in c:\\users\\jhack alberth\\appdata\\local\\programs\\python\\python312\\lib\\site-packages (from tensorflow_datasets) (2.32.3)\n",
      "Requirement already satisfied: simple-parsing in c:\\users\\jhack alberth\\appdata\\local\\programs\\python\\python312\\lib\\site-packages (from tensorflow_datasets) (0.1.6)\n",
      "Requirement already satisfied: tensorflow-metadata in c:\\users\\jhack alberth\\appdata\\local\\programs\\python\\python312\\lib\\site-packages (from tensorflow_datasets) (1.16.1)\n",
      "Requirement already satisfied: termcolor in c:\\users\\jhack alberth\\appdata\\local\\programs\\python\\python312\\lib\\site-packages (from tensorflow_datasets) (2.4.0)\n",
      "Requirement already satisfied: toml in c:\\users\\jhack alberth\\appdata\\local\\programs\\python\\python312\\lib\\site-packages (from tensorflow_datasets) (0.10.2)\n",
      "Requirement already satisfied: tqdm in c:\\users\\jhack alberth\\appdata\\local\\programs\\python\\python312\\lib\\site-packages (from tensorflow_datasets) (4.66.5)\n",
      "Requirement already satisfied: wrapt in c:\\users\\jhack alberth\\appdata\\local\\programs\\python\\python312\\lib\\site-packages (from tensorflow_datasets) (1.16.0)\n",
      "Requirement already satisfied: etils>=1.9.1 in c:\\users\\jhack alberth\\appdata\\local\\programs\\python\\python312\\lib\\site-packages (from etils[edc,enp,epath,epy,etree]>=1.9.1; python_version >= \"3.11\"->tensorflow_datasets) (1.10.0)\n",
      "Requirement already satisfied: fsspec in c:\\users\\jhack alberth\\appdata\\local\\programs\\python\\python312\\lib\\site-packages (from etils[edc,enp,epath,epy,etree]>=1.9.1; python_version >= \"3.11\"->tensorflow_datasets) (2024.6.1)\n",
      "Requirement already satisfied: importlib_resources in c:\\users\\jhack alberth\\appdata\\local\\programs\\python\\python312\\lib\\site-packages (from etils[edc,enp,epath,epy,etree]>=1.9.1; python_version >= \"3.11\"->tensorflow_datasets) (6.4.5)\n",
      "Requirement already satisfied: typing_extensions in c:\\users\\jhack alberth\\appdata\\local\\programs\\python\\python312\\lib\\site-packages (from etils[edc,enp,epath,epy,etree]>=1.9.1; python_version >= \"3.11\"->tensorflow_datasets) (4.12.2)\n",
      "Requirement already satisfied: zipp in c:\\users\\jhack alberth\\appdata\\local\\programs\\python\\python312\\lib\\site-packages (from etils[edc,enp,epath,epy,etree]>=1.9.1; python_version >= \"3.11\"->tensorflow_datasets) (3.21.0)\n",
      "Requirement already satisfied: charset-normalizer<4,>=2 in c:\\users\\jhack alberth\\appdata\\local\\programs\\python\\python312\\lib\\site-packages (from requests>=2.19.0->tensorflow_datasets) (3.3.2)\n",
      "Requirement already satisfied: idna<4,>=2.5 in c:\\users\\jhack alberth\\appdata\\local\\programs\\python\\python312\\lib\\site-packages (from requests>=2.19.0->tensorflow_datasets) (3.7)\n",
      "Requirement already satisfied: urllib3<3,>=1.21.1 in c:\\users\\jhack alberth\\appdata\\local\\programs\\python\\python312\\lib\\site-packages (from requests>=2.19.0->tensorflow_datasets) (2.2.2)\n",
      "Requirement already satisfied: certifi>=2017.4.17 in c:\\users\\jhack alberth\\appdata\\local\\programs\\python\\python312\\lib\\site-packages (from requests>=2.19.0->tensorflow_datasets) (2024.7.4)\n",
      "Requirement already satisfied: colorama in c:\\users\\jhack alberth\\appdata\\roaming\\python\\python312\\site-packages (from click->tensorflow_datasets) (0.4.6)\n",
      "Requirement already satisfied: six in c:\\users\\jhack alberth\\appdata\\roaming\\python\\python312\\site-packages (from promise->tensorflow_datasets) (1.16.0)\n",
      "Requirement already satisfied: docstring-parser<1.0,>=0.15 in c:\\users\\jhack alberth\\appdata\\local\\programs\\python\\python312\\lib\\site-packages (from simple-parsing->tensorflow_datasets) (0.16)\n",
      "Requirement already satisfied: googleapis-common-protos<2,>=1.56.4 in c:\\users\\jhack alberth\\appdata\\local\\programs\\python\\python312\\lib\\site-packages (from tensorflow-metadata->tensorflow_datasets) (1.66.0)\n"
     ]
    },
    {
     "name": "stderr",
     "output_type": "stream",
     "text": [
      "\n",
      "[notice] A new release of pip is available: 24.2 -> 24.3.1\n",
      "[notice] To update, run: python.exe -m pip install --upgrade pip\n"
     ]
    }
   ],
   "source": [
    "!pip install tensorflow_datasets"
   ]
  },
  {
   "cell_type": "code",
   "execution_count": 2,
   "metadata": {},
   "outputs": [],
   "source": [
    "# Importar librerías necesarias\n",
    "import tensorflow as tf\n",
    "import pandas as pd\n",
    "import numpy as np\n",
    "import matplotlib.pyplot as plt\n",
    "from tensorflow.keras.callbacks import TensorBoard\n",
    "import cv2\n",
    "import os"
   ]
  },
  {
   "cell_type": "code",
   "execution_count": 3,
   "metadata": {},
   "outputs": [],
   "source": [
    "# Definir rutas y tamaño de las imágenes\n",
    "TAMANO_IMG = 100\n",
    "ARCHIVO_CSV = \"C:/Users/Jhack Alberth/Downloads/kagglecatsanddogs_5340/etiquetas.csv\""
   ]
  },
  {
   "cell_type": "code",
   "execution_count": 4,
   "metadata": {},
   "outputs": [],
   "source": [
    "# Leer el archivo CSV\n",
    "data = pd.read_csv(ARCHIVO_CSV, header=None, names=[\"ruta\", \"etiqueta\"])"
   ]
  },
  {
   "cell_type": "code",
   "execution_count": 5,
   "metadata": {},
   "outputs": [],
   "source": [
    "# Función para cargar y preprocesar imágenes\n",
    "def cargar_y_preprocesar_img(ruta, etiqueta):\n",
    "    # Cargar la imagen desde la ruta\n",
    "    img = tf.io.read_file(ruta)\n",
    "    img = tf.image.decode_jpeg(img, channels=3)  # Decodificar como RGB\n",
    "    img = tf.image.resize(img, [TAMANO_IMG, TAMANO_IMG])\n",
    "    img = tf.image.rgb_to_grayscale(img)  # Convertir a escala de grises si lo deseas\n",
    "    img = img / 255.0  # Normalizar los valores de los píxeles entre 0 y 1\n",
    "    return img, etiqueta"
   ]
  },
  {
   "cell_type": "code",
   "execution_count": 6,
   "metadata": {},
   "outputs": [],
   "source": [
    "# Crear el dataset desde el archivo CSV\n",
    "ruta_dataset = tf.data.Dataset.from_tensor_slices((data[\"ruta\"].values, data[\"etiqueta\"].values))\n",
    "dataset = ruta_dataset.map(lambda x, y: cargar_y_preprocesar_img(x, y), num_parallel_calls=tf.data.AUTOTUNE)"
   ]
  },
  {
   "cell_type": "code",
   "execution_count": 7,
   "metadata": {},
   "outputs": [],
   "source": [
    "# Dividir el dataset en entrenamiento y validación (85% - 15%)\n",
    "datos_entrenamiento = dataset.skip(int(len(dataset) * 0.15))\n",
    "datos_validacion = dataset.take(int(len(dataset) * 0.15))"
   ]
  },
  {
   "cell_type": "code",
   "execution_count": 8,
   "metadata": {},
   "outputs": [],
   "source": [
    "# Configurar lotes y prefetch para un entrenamiento eficiente\n",
    "datos_entrenamiento = datos_entrenamiento.batch(32).prefetch(tf.data.AUTOTUNE)\n",
    "datos_validacion = datos_validacion.batch(32).prefetch(tf.data.AUTOTUNE)"
   ]
  },
  {
   "cell_type": "code",
   "execution_count": 10,
   "metadata": {},
   "outputs": [],
   "source": [
    "import pandas as pd\n",
    "import os\n",
    "\n",
    "# Cargar el archivo CSV\n",
    "archivo_csv = \"C:/Users/Jhack Alberth/Downloads/kagglecatsanddogs_5340/etiquetas.csv\"\n",
    "data = pd.read_csv(archivo_csv, header=None, names=[\"ruta\", \"etiqueta\"])\n",
    "\n",
    "# Filtrar solo las filas donde las rutas existen\n",
    "data = data[data[\"ruta\"].apply(os.path.exists)]\n",
    "\n",
    "# Guardar el CSV filtrado para referencias futuras (opcional)\n",
    "data.to_csv(\"C:/Users/Jhack Alberth/Downloads/kagglecatsanddogs_5340/etiquetas_filtrado.csv\", index=False)"
   ]
  },
  {
   "cell_type": "code",
   "execution_count": 11,
   "metadata": {},
   "outputs": [],
   "source": [
    "# Usar el CSV filtrado para cargar el dataset\n",
    "data = pd.read_csv(\"C:/Users/Jhack Alberth/Downloads/kagglecatsanddogs_5340/etiquetas_filtrado.csv\")\n",
    "\n",
    "# Continuar con el resto del código como se había planeado\n",
    "# Crear el dataset desde el archivo CSV\n",
    "ruta_dataset = tf.data.Dataset.from_tensor_slices((data[\"ruta\"].values, data[\"etiqueta\"].values))\n",
    "dataset = ruta_dataset.map(lambda x, y: cargar_y_preprocesar_img(x, y), num_parallel_calls=tf.data.AUTOTUNE)\n",
    "\n",
    "# Dividir en entrenamiento y validación\n",
    "datos_entrenamiento = dataset.skip(int(len(dataset) * 0.15))\n",
    "datos_validacion = dataset.take(int(len(dataset) * 0.15))\n",
    "\n",
    "# Configuración de lotes para entrenamiento\n",
    "datos_entrenamiento = datos_entrenamiento.batch(32).prefetch(tf.data.AUTOTUNE)\n",
    "datos_validacion = datos_validacion.batch(32).prefetch(tf.data.AUTOTUNE)"
   ]
  },
  {
   "cell_type": "code",
   "execution_count": 12,
   "metadata": {},
   "outputs": [
    {
     "name": "stderr",
     "output_type": "stream",
     "text": [
      "c:\\Users\\Jhack Alberth\\AppData\\Local\\Programs\\Python\\Python312\\Lib\\site-packages\\keras\\src\\layers\\convolutional\\base_conv.py:107: UserWarning: Do not pass an `input_shape`/`input_dim` argument to a layer. When using Sequential models, prefer using an `Input(shape)` object as the first layer in the model instead.\n",
      "  super().__init__(activity_regularizer=activity_regularizer, **kwargs)\n"
     ]
    }
   ],
   "source": [
    "# Definir el modelo de red neuronal convolucional (CNN)\n",
    "modeloCNN = tf.keras.models.Sequential([\n",
    "    tf.keras.layers.Conv2D(32, (3,3), activation='relu', input_shape=(TAMANO_IMG, TAMANO_IMG, 1)),\n",
    "    tf.keras.layers.MaxPooling2D(2, 2),\n",
    "    tf.keras.layers.Conv2D(64, (3,3), activation='relu'),\n",
    "    tf.keras.layers.MaxPooling2D(2, 2),\n",
    "    tf.keras.layers.Conv2D(128, (3,3), activation='relu'),\n",
    "    tf.keras.layers.MaxPooling2D(2, 2),\n",
    "    tf.keras.layers.Flatten(),\n",
    "    tf.keras.layers.Dense(100, activation='relu'),\n",
    "    tf.keras.layers.Dense(1, activation='sigmoid')\n",
    "])"
   ]
  },
  {
   "cell_type": "code",
   "execution_count": 13,
   "metadata": {},
   "outputs": [],
   "source": [
    "# Compilar el modelo\n",
    "modeloCNN.compile(optimizer='adam',\n",
    "                  loss='binary_crossentropy',\n",
    "                  metrics=['accuracy'])"
   ]
  },
  {
   "cell_type": "code",
   "execution_count": 14,
   "metadata": {},
   "outputs": [],
   "source": [
    "# Configuración de TensorBoard para visualizar el entrenamiento\n",
    "tensorboardCNN = TensorBoard(log_dir='logs/cnn')"
   ]
  },
  {
   "cell_type": "code",
   "execution_count": 15,
   "metadata": {},
   "outputs": [
    {
     "name": "stdout",
     "output_type": "stream",
     "text": [
      "Epoch 1/10\n"
     ]
    },
    {
     "ename": "InvalidArgumentError",
     "evalue": "Graph execution error:\n\nDetected at node DecodeJpeg defined at (most recent call last):\n<stack traces unavailable>\nError in user-defined function passed to ParallelMapDatasetV2:11 transformation with iterator: Iterator::Root::Prefetch::BatchV2::FiniteSkip::ParallelMapV2: Trying to decode BMP format using a wrong op. Use `decode_bmp` or `decode_image` instead. Op used: DecodeJpeg\n\t [[{{node DecodeJpeg}}]]\n\t [[IteratorGetNext]] [Op:__inference_one_step_on_iterator_2142]",
     "output_type": "error",
     "traceback": [
      "\u001b[1;31m---------------------------------------------------------------------------\u001b[0m",
      "\u001b[1;31mInvalidArgumentError\u001b[0m                      Traceback (most recent call last)",
      "Cell \u001b[1;32mIn[15], line 2\u001b[0m\n\u001b[0;32m      1\u001b[0m \u001b[38;5;66;03m# Entrenar el modelo\u001b[39;00m\n\u001b[1;32m----> 2\u001b[0m \u001b[43mmodeloCNN\u001b[49m\u001b[38;5;241;43m.\u001b[39;49m\u001b[43mfit\u001b[49m\u001b[43m(\u001b[49m\n\u001b[0;32m      3\u001b[0m \u001b[43m    \u001b[49m\u001b[43mdatos_entrenamiento\u001b[49m\u001b[43m,\u001b[49m\n\u001b[0;32m      4\u001b[0m \u001b[43m    \u001b[49m\u001b[43mvalidation_data\u001b[49m\u001b[38;5;241;43m=\u001b[39;49m\u001b[43mdatos_validacion\u001b[49m\u001b[43m,\u001b[49m\n\u001b[0;32m      5\u001b[0m \u001b[43m    \u001b[49m\u001b[43mepochs\u001b[49m\u001b[38;5;241;43m=\u001b[39;49m\u001b[38;5;241;43m10\u001b[39;49m\u001b[43m,\u001b[49m\u001b[43m  \u001b[49m\u001b[38;5;66;43;03m# Puedes ajustar el número de épocas según tus necesidades\u001b[39;49;00m\n\u001b[0;32m      6\u001b[0m \u001b[43m    \u001b[49m\u001b[43mcallbacks\u001b[49m\u001b[38;5;241;43m=\u001b[39;49m\u001b[43m[\u001b[49m\u001b[43mtensorboardCNN\u001b[49m\u001b[43m]\u001b[49m\n\u001b[0;32m      7\u001b[0m \u001b[43m)\u001b[49m\n",
      "File \u001b[1;32mc:\\Users\\Jhack Alberth\\AppData\\Local\\Programs\\Python\\Python312\\Lib\\site-packages\\keras\\src\\utils\\traceback_utils.py:122\u001b[0m, in \u001b[0;36mfilter_traceback.<locals>.error_handler\u001b[1;34m(*args, **kwargs)\u001b[0m\n\u001b[0;32m    119\u001b[0m     filtered_tb \u001b[38;5;241m=\u001b[39m _process_traceback_frames(e\u001b[38;5;241m.\u001b[39m__traceback__)\n\u001b[0;32m    120\u001b[0m     \u001b[38;5;66;03m# To get the full stack trace, call:\u001b[39;00m\n\u001b[0;32m    121\u001b[0m     \u001b[38;5;66;03m# `keras.config.disable_traceback_filtering()`\u001b[39;00m\n\u001b[1;32m--> 122\u001b[0m     \u001b[38;5;28;01mraise\u001b[39;00m e\u001b[38;5;241m.\u001b[39mwith_traceback(filtered_tb) \u001b[38;5;28;01mfrom\u001b[39;00m \u001b[38;5;28;01mNone\u001b[39;00m\n\u001b[0;32m    123\u001b[0m \u001b[38;5;28;01mfinally\u001b[39;00m:\n\u001b[0;32m    124\u001b[0m     \u001b[38;5;28;01mdel\u001b[39;00m filtered_tb\n",
      "File \u001b[1;32mc:\\Users\\Jhack Alberth\\AppData\\Local\\Programs\\Python\\Python312\\Lib\\site-packages\\tensorflow\\python\\eager\\execute.py:53\u001b[0m, in \u001b[0;36mquick_execute\u001b[1;34m(op_name, num_outputs, inputs, attrs, ctx, name)\u001b[0m\n\u001b[0;32m     51\u001b[0m \u001b[38;5;28;01mtry\u001b[39;00m:\n\u001b[0;32m     52\u001b[0m   ctx\u001b[38;5;241m.\u001b[39mensure_initialized()\n\u001b[1;32m---> 53\u001b[0m   tensors \u001b[38;5;241m=\u001b[39m pywrap_tfe\u001b[38;5;241m.\u001b[39mTFE_Py_Execute(ctx\u001b[38;5;241m.\u001b[39m_handle, device_name, op_name,\n\u001b[0;32m     54\u001b[0m                                       inputs, attrs, num_outputs)\n\u001b[0;32m     55\u001b[0m \u001b[38;5;28;01mexcept\u001b[39;00m core\u001b[38;5;241m.\u001b[39m_NotOkStatusException \u001b[38;5;28;01mas\u001b[39;00m e:\n\u001b[0;32m     56\u001b[0m   \u001b[38;5;28;01mif\u001b[39;00m name \u001b[38;5;129;01mis\u001b[39;00m \u001b[38;5;129;01mnot\u001b[39;00m \u001b[38;5;28;01mNone\u001b[39;00m:\n",
      "\u001b[1;31mInvalidArgumentError\u001b[0m: Graph execution error:\n\nDetected at node DecodeJpeg defined at (most recent call last):\n<stack traces unavailable>\nError in user-defined function passed to ParallelMapDatasetV2:11 transformation with iterator: Iterator::Root::Prefetch::BatchV2::FiniteSkip::ParallelMapV2: Trying to decode BMP format using a wrong op. Use `decode_bmp` or `decode_image` instead. Op used: DecodeJpeg\n\t [[{{node DecodeJpeg}}]]\n\t [[IteratorGetNext]] [Op:__inference_one_step_on_iterator_2142]"
     ]
    }
   ],
   "source": [
    "# Entrenar el modelo\n",
    "modeloCNN.fit(\n",
    "    datos_entrenamiento,\n",
    "    validation_data=datos_validacion,\n",
    "    epochs=10,  # Puedes ajustar el número de épocas según tus necesidades\n",
    "    callbacks=[tensorboardCNN]\n",
    ")"
   ]
  }
 ],
 "metadata": {
  "kernelspec": {
   "display_name": "Python 3",
   "language": "python",
   "name": "python3"
  },
  "language_info": {
   "codemirror_mode": {
    "name": "ipython",
    "version": 3
   },
   "file_extension": ".py",
   "mimetype": "text/x-python",
   "name": "python",
   "nbconvert_exporter": "python",
   "pygments_lexer": "ipython3",
   "version": "3.12.4"
  }
 },
 "nbformat": 4,
 "nbformat_minor": 2
}
