{
 "cells": [
  {
   "cell_type": "code",
   "execution_count": 1,
   "metadata": {},
   "outputs": [
    {
     "name": "stdout",
     "output_type": "stream",
     "text": [
      "Tu directorio en formato Bash es: /c/xampp_php5/htdocs/php5/configuracion_academica_vue/programitas/project\n"
     ]
    }
   ],
   "source": [
    "import os\n",
    "\n",
    "def get_bash_path(directory):\n",
    "    # Reemplaza las barras invertidas con barras normales (Windows a estilo Unix)\n",
    "    bash_path = directory.replace(\"\\\\\", \"/\")\n",
    "    # Si es Windows, convierte la unidad (por ejemplo, C:) al formato /c/\n",
    "    if os.name == 'nt':\n",
    "        bash_path = bash_path.replace(\":\", \"\").lower()\n",
    "        bash_path = f\"/{bash_path[0]}{bash_path[1:]}\"\n",
    "    return bash_path\n",
    "\n",
    "# Obtener el directorio de trabajo actual\n",
    "current_directory = os.getcwd()\n",
    "bash_directory = get_bash_path(current_directory)\n",
    "\n",
    "print(f\"Tu directorio en formato Bash es: {bash_directory}\")\n"
   ]
  }
 ],
 "metadata": {
  "kernelspec": {
   "display_name": "Python 3",
   "language": "python",
   "name": "python3"
  },
  "language_info": {
   "codemirror_mode": {
    "name": "ipython",
    "version": 3
   },
   "file_extension": ".py",
   "mimetype": "text/x-python",
   "name": "python",
   "nbconvert_exporter": "python",
   "pygments_lexer": "ipython3",
   "version": "3.12.4"
  }
 },
 "nbformat": 4,
 "nbformat_minor": 2
}
