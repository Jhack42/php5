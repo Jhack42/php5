{
 "cells": [
  {
   "cell_type": "code",
   "execution_count": 1,
   "metadata": {},
   "outputs": [
    {
     "name": "stdout",
     "output_type": "stream",
     "text": [
      "Usuarios:\n",
      "[(1, 'Juan', 28), (2, 'Ana', 22)]\n",
      "\n",
      "Órdenes:\n",
      "[(1, 1, 'Laptop', 1), (2, 2, 'Teclado', 2)]\n"
     ]
    }
   ],
   "source": [
    "import sqlite3\n",
    "\n",
    "# Crear una conexión al archivo de base de datos \"bd.db\"\n",
    "# Si no existe, SQLite lo creará automáticamente\n",
    "conn = sqlite3.connect('bd.db')  # El archivo será 'bd.db'\n",
    "cursor = conn.cursor()\n",
    "\n",
    "# Crear la tabla de usuarios\n",
    "cursor.execute('''\n",
    "    CREATE TABLE IF NOT EXISTS usuarios (\n",
    "        id INTEGER PRIMARY KEY,\n",
    "        nombre TEXT NOT NULL,\n",
    "        edad INTEGER NOT NULL\n",
    "    )\n",
    "''')\n",
    "\n",
    "# Crear la tabla de órdenes relacionada con la tabla de usuarios\n",
    "cursor.execute('''\n",
    "    CREATE TABLE IF NOT EXISTS ordenes (\n",
    "        id INTEGER PRIMARY KEY,\n",
    "        usuario_id INTEGER NOT NULL,\n",
    "        producto TEXT NOT NULL,\n",
    "        cantidad INTEGER NOT NULL,\n",
    "        FOREIGN KEY (usuario_id) REFERENCES usuarios(id)\n",
    "    )\n",
    "''')\n",
    "\n",
    "# Insertar datos en la tabla de usuarios\n",
    "cursor.execute(\"INSERT INTO usuarios (nombre, edad) VALUES ('Juan', 28)\")\n",
    "cursor.execute(\"INSERT INTO usuarios (nombre, edad) VALUES ('Ana', 22)\")\n",
    "\n",
    "# Insertar datos en la tabla de órdenes\n",
    "cursor.execute(\"INSERT INTO ordenes (usuario_id, producto, cantidad) VALUES (1, 'Laptop', 1)\")\n",
    "cursor.execute(\"INSERT INTO ordenes (usuario_id, producto, cantidad) VALUES (2, 'Teclado', 2)\")\n",
    "\n",
    "# Guardar los cambios en el archivo de base de datos\n",
    "conn.commit()\n",
    "\n",
    "# Realizar una consulta para verificar los datos insertados\n",
    "cursor.execute('SELECT * FROM usuarios')\n",
    "print(\"Usuarios:\")\n",
    "print(cursor.fetchall())\n",
    "\n",
    "cursor.execute('SELECT * FROM ordenes')\n",
    "print(\"\\nÓrdenes:\")\n",
    "print(cursor.fetchall())\n",
    "\n",
    "# Cerrar la conexión con la base de datos\n",
    "conn.close()"
   ]
  },
  {
   "cell_type": "code",
   "execution_count": 2,
   "metadata": {},
   "outputs": [
    {
     "name": "stdout",
     "output_type": "stream",
     "text": [
      "[(1, 'Juan', 28), (2, 'Ana', 22)]\n"
     ]
    }
   ],
   "source": [
    "conn = sqlite3.connect('bd.db')\n",
    "cursor = conn.cursor()\n",
    "\n",
    "# Ahora puedes hacer consultas o inserciones\n",
    "cursor.execute('SELECT * FROM usuarios')\n",
    "print(cursor.fetchall())\n",
    "\n",
    "# No olvides cerrar la conexión cuando termines\n",
    "conn.close()\n"
   ]
  },
  {
   "cell_type": "code",
   "execution_count": 3,
   "metadata": {},
   "outputs": [
    {
     "name": "stdout",
     "output_type": "stream",
     "text": [
      "Tablas en la base de datos:\n",
      "usuarios\n",
      "ordenes\n"
     ]
    }
   ],
   "source": [
    "import sqlite3\n",
    "\n",
    "# Conectar a la base de datos\n",
    "conn = sqlite3.connect('bd.db')\n",
    "cursor = conn.cursor()\n",
    "\n",
    "# Consulta para obtener el nombre de todas las tablas\n",
    "cursor.execute(\"SELECT name FROM sqlite_master WHERE type='table';\")\n",
    "\n",
    "# Obtener y mostrar todas las tablas\n",
    "tablas = cursor.fetchall()\n",
    "print(\"Tablas en la base de datos:\")\n",
    "for tabla in tablas:\n",
    "    print(tabla[0])\n",
    "\n",
    "# Cerrar la conexión\n",
    "conn.close()\n"
   ]
  },
  {
   "cell_type": "code",
   "execution_count": 7,
   "metadata": {},
   "outputs": [
    {
     "name": "stdout",
     "output_type": "stream",
     "text": [
      "Tabla 'ordenes' eliminada.\n"
     ]
    }
   ],
   "source": [
    "import sqlite3\n",
    "\n",
    "# Conectar a la base de datos\n",
    "conn = sqlite3.connect('bd.db')\n",
    "cursor = conn.cursor()\n",
    "\n",
    "# Borrar la tabla 'ordenes'\n",
    "cursor.execute(\"DROP TABLE IF EXISTS ordenes;\")\n",
    "conn.commit()\n",
    "\n",
    "print(\"Tabla 'ordenes' eliminada.\")\n",
    "\n",
    "# Cerrar la conexión\n",
    "conn.close()\n"
   ]
  },
  {
   "cell_type": "code",
   "execution_count": 12,
   "metadata": {},
   "outputs": [
    {
     "name": "stdout",
     "output_type": "stream",
     "text": [
      "Tabla 'ordenes' eliminada.\n",
      "Tablas en la base de datos después de eliminar:\n"
     ]
    }
   ],
   "source": [
    "import sqlite3\n",
    "\n",
    "# Conectar a la base de datos\n",
    "conn = sqlite3.connect('bd.db')\n",
    "cursor = conn.cursor()\n",
    "\n",
    "# Borrar la tabla 'ordenes'\n",
    "cursor.execute(\"DROP TABLE IF EXISTS usuarios;\")\n",
    "conn.commit()\n",
    "\n",
    "print(\"Tabla 'ordenes' eliminada.\")\n",
    "\n",
    "# Consultar las tablas restantes\n",
    "cursor.execute(\"SELECT name FROM sqlite_master WHERE type='table';\")\n",
    "tablas = cursor.fetchall()\n",
    "print(\"Tablas en la base de datos después de eliminar:\")\n",
    "for tabla in tablas:\n",
    "    print(tabla[0])\n",
    "\n",
    "# Cerrar la conexión\n",
    "conn.close()\n"
   ]
  },
  {
   "cell_type": "code",
   "execution_count": 13,
   "metadata": {},
   "outputs": [
    {
     "name": "stdout",
     "output_type": "stream",
     "text": [
      "Tablas en la base de datos:\n",
      "contenedor\n",
      "sqlite_sequence\n",
      "contenedor2\n",
      "contenedor3\n",
      "contenedor4\n"
     ]
    }
   ],
   "source": [
    "import sqlite3\n",
    "\n",
    "# Conectar a la base de datos o crearla si no existe\n",
    "conn = sqlite3.connect('bd.db')\n",
    "cursor = conn.cursor()\n",
    "\n",
    "# Crear la tabla contenedor\n",
    "cursor.execute('''\n",
    "    CREATE TABLE IF NOT EXISTS contenedor (\n",
    "        id INTEGER PRIMARY KEY AUTOINCREMENT,\n",
    "        name TEXT NOT NULL,\n",
    "        contenedor2_id INTEGER,\n",
    "        FOREIGN KEY (contenedor2_id) REFERENCES contenedor2(id)\n",
    "    )\n",
    "''')\n",
    "\n",
    "# Crear la tabla contenedor2 (Facultades)\n",
    "cursor.execute('''\n",
    "    CREATE TABLE IF NOT EXISTS contenedor2 (\n",
    "        id INTEGER PRIMARY KEY AUTOINCREMENT,\n",
    "        name_abreviado TEXT NOT NULL,\n",
    "        name_completo TEXT NOT NULL,\n",
    "        url_paginaweb TEXT,\n",
    "        contenedor3_id INTEGER,\n",
    "        FOREIGN KEY (contenedor3_id) REFERENCES contenedor3(id)\n",
    "    )\n",
    "''')\n",
    "\n",
    "# Crear la tabla contenedor3 (Especialidades)\n",
    "cursor.execute('''\n",
    "    CREATE TABLE IF NOT EXISTS contenedor3 (\n",
    "        id INTEGER PRIMARY KEY AUTOINCREMENT,\n",
    "        name_especialidad TEXT NOT NULL,\n",
    "        url_paginaweb TEXT,\n",
    "        contenedor2_id INTEGER,\n",
    "        FOREIGN KEY (contenedor2_id) REFERENCES contenedor2(id)\n",
    "    )\n",
    "''')\n",
    "\n",
    "# Crear la tabla contenedor4 (Eventos)\n",
    "cursor.execute('''\n",
    "    CREATE TABLE IF NOT EXISTS contenedor4 (\n",
    "        id INTEGER PRIMARY KEY AUTOINCREMENT,\n",
    "        name TEXT NOT NULL,\n",
    "        descripcion TEXT,\n",
    "        medio TEXT,\n",
    "        responsable TEXT,\n",
    "        procesa TEXT,\n",
    "        observacion TEXT,\n",
    "        start_date DATETIME NOT NULL,\n",
    "        end_date DATETIME,\n",
    "        backgroundColor TEXT,\n",
    "        textColor TEXT,\n",
    "        allDay BOOLEAN,\n",
    "        contenedor3_id INTEGER,\n",
    "        contenedor2_id INTEGER,\n",
    "        FOREIGN KEY (contenedor3_id) REFERENCES contenedor3(id),\n",
    "        FOREIGN KEY (contenedor2_id) REFERENCES contenedor2(id)\n",
    "    )\n",
    "''')\n",
    "\n",
    "# Poblar la tabla contenedor2 (Facultades)\n",
    "cursor.execute('''\n",
    "    INSERT INTO contenedor2 (name_abreviado, name_completo) VALUES\n",
    "    ('A', 'Arquitectura, Urbanismo y Artes'),\n",
    "    ('C', 'Ingeniería Civil'),\n",
    "    ('E', 'Ingeniería Económica, Estadística y Ciencias Sociales')\n",
    "''')\n",
    "\n",
    "# Poblar la tabla contenedor3 (Especialidades)\n",
    "cursor.execute('''\n",
    "    INSERT INTO contenedor3 (name_especialidad, url_paginaweb, contenedor2_id) VALUES\n",
    "    ('Arquitectura', 'http://arquitectura.ejemplo.com', 1),\n",
    "    ('Ingeniería Civil', 'http://civil.ejemplo.com', 2),\n",
    "    ('Ingeniería Económica', 'http://economica.ejemplo.com', 3)\n",
    "''')\n",
    "\n",
    "# Poblar la tabla contenedor4 (Eventos)\n",
    "cursor.execute('''\n",
    "    INSERT INTO contenedor4 (name, descripcion, medio, responsable, procesa, observacion, start_date, end_date, backgroundColor, textColor, allDay, contenedor3_id, contenedor2_id) VALUES\n",
    "    ('Conferencia sobre Arquitectura Sostenible', 'Charla sobre diseños sostenibles', 'Online', 'Dr. Juan Pérez', 'Conferencia', 'Evento virtual', '2024-10-15 09:00:00', '2024-10-15 11:00:00', '#ff0000', '#ffffff', 0, 1, 1),\n",
    "    ('Taller de Ingeniería Civil', 'Taller práctico sobre nuevas técnicas', 'Presencial', 'Ing. Ana Rodríguez', 'Taller', 'En el campus principal', '2024-10-20 14:00:00', '2024-10-20 17:00:00', '#00ff00', '#000000', 0, 2, 2)\n",
    "''')\n",
    "\n",
    "# Confirmar los cambios\n",
    "conn.commit()\n",
    "\n",
    "# Consultar las tablas creadas\n",
    "cursor.execute(\"SELECT name FROM sqlite_master WHERE type='table';\")\n",
    "tablas = cursor.fetchall()\n",
    "print(\"Tablas en la base de datos:\")\n",
    "for tabla in tablas:\n",
    "    print(tabla[0])\n",
    "\n",
    "# Cerrar la conexión\n",
    "conn.close()\n"
   ]
  },
  {
   "cell_type": "code",
   "execution_count": 16,
   "metadata": {},
   "outputs": [
    {
     "name": "stdout",
     "output_type": "stream",
     "text": [
      "Contenido de la tabla 'contenedor':\n",
      "(1, 'Facultades', None)\n"
     ]
    }
   ],
   "source": [
    "import sqlite3\n",
    "\n",
    "# Conectar a la base de datos\n",
    "conn = sqlite3.connect('bd.db')\n",
    "cursor = conn.cursor()\n",
    "\n",
    "# Crear la tabla contenedor si no existe\n",
    "cursor.execute('''\n",
    "    CREATE TABLE IF NOT EXISTS contenedor (\n",
    "        id INTEGER PRIMARY KEY AUTOINCREMENT,\n",
    "        name TEXT NOT NULL,\n",
    "        contenedor2_id INTEGER,\n",
    "        FOREIGN KEY (contenedor2_id) REFERENCES contenedor2(id)\n",
    "    )\n",
    "''')\n",
    "\n",
    "# Insertar el valor \"Facultades\" en la tabla contenedor\n",
    "cursor.execute('''\n",
    "    INSERT INTO contenedor (name, contenedor2_id) VALUES\n",
    "    ('Facultades', NULL)\n",
    "''')\n",
    "\n",
    "# Guardar los cambios\n",
    "conn.commit()\n",
    "\n",
    "# Consultar la tabla contenedor para verificar la inserción\n",
    "cursor.execute('SELECT * FROM contenedor')\n",
    "contenedores = cursor.fetchall()\n",
    "\n",
    "print(\"Contenido de la tabla 'contenedor':\")\n",
    "for contenedor in contenedores:\n",
    "    print(contenedor)\n",
    "\n",
    "# Cerrar la conexión (después de que todas las operaciones estén completas)\n",
    "conn.close()"
   ]
  }
 ],
 "metadata": {
  "kernelspec": {
   "display_name": "Python 3",
   "language": "python",
   "name": "python3"
  },
  "language_info": {
   "codemirror_mode": {
    "name": "ipython",
    "version": 3
   },
   "file_extension": ".py",
   "mimetype": "text/x-python",
   "name": "python",
   "nbconvert_exporter": "python",
   "pygments_lexer": "ipython3",
   "version": "3.12.4"
  }
 },
 "nbformat": 4,
 "nbformat_minor": 2
}
