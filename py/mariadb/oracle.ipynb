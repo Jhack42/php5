{
 "cells": [
  {
   "cell_type": "code",
   "execution_count": 1,
   "metadata": {},
   "outputs": [
    {
     "name": "stdout",
     "output_type": "stream",
     "text": [
      "Requirement already satisfied: cx_Oracle in c:\\users\\jhack alberth\\appdata\\local\\programs\\python\\python312\\lib\\site-packages (8.3.0)\n"
     ]
    },
    {
     "name": "stderr",
     "output_type": "stream",
     "text": [
      "\n",
      "[notice] A new release of pip is available: 24.2 -> 24.3.1\n",
      "[notice] To update, run: python.exe -m pip install --upgrade pip\n"
     ]
    }
   ],
   "source": [
    "!pip install cx_Oracle"
   ]
  },
  {
   "cell_type": "code",
   "execution_count": 2,
   "metadata": {},
   "outputs": [
    {
     "name": "stdout",
     "output_type": "stream",
     "text": [
      "Conexión exitosa\n",
      "('X',)\n"
     ]
    },
    {
     "ename": "",
     "evalue": "",
     "output_type": "error",
     "traceback": [
      "\u001b[1;31mEl kernel se bloqueó al ejecutar código en la celda actual o en una celda anterior. \n",
      "\u001b[1;31mRevise el código de las celdas para identificar una posible causa del error. \n",
      "\u001b[1;31mHaga clic <a href='https://aka.ms/vscodeJupyterKernelCrash'>aquí</a> para obtener más información. \n",
      "\u001b[1;31mVea Jupyter <a href='command:jupyter.viewOutput'>log</a> para obtener más detalles."
     ]
    }
   ],
   "source": [
    "import cx_Oracle\n",
    "\n",
    "# Configuración de la conexión\n",
    "username = \"ONOTIFICACIONES\"       # Nombre de usuario en Oracle\n",
    "password = \"ONOTIFICACIONES\"         # Reemplaza con tu contraseña\n",
    "host = \"localhost\"                 # Host de la base de datos (en este caso localhost)\n",
    "port = 1521                        # Puerto de Oracle (por defecto es 1521)\n",
    "service_name = \"XEPDB1\"            # Nombre del servicio (según tu configuración en Pentaho)\n",
    "\n",
    "# Formatear el DSN (Data Source Name)\n",
    "dsn = cx_Oracle.makedsn(host, port, service_name=service_name)\n",
    "\n",
    "try:\n",
    "    # Crear la conexión\n",
    "    connection = cx_Oracle.connect(user=username, password=password, dsn=dsn)\n",
    "    print(\"Conexión exitosa\")\n",
    "\n",
    "    # Realizar una consulta de prueba\n",
    "    cursor = connection.cursor()\n",
    "    cursor.execute(\"SELECT * FROM dual\")  # Consulta de prueba para Oracle\n",
    "    for row in cursor:\n",
    "        print(row)\n",
    "\n",
    "    # Cerrar el cursor y la conexión\n",
    "    cursor.close()\n",
    "    connection.close()\n",
    "except cx_Oracle.DatabaseError as e:\n",
    "    print(\"Error al conectar a la base de datos:\", e)\n"
   ]
  }
 ],
 "metadata": {
  "kernelspec": {
   "display_name": "Python 3",
   "language": "python",
   "name": "python3"
  },
  "language_info": {
   "codemirror_mode": {
    "name": "ipython",
    "version": 3
   },
   "file_extension": ".py",
   "mimetype": "text/x-python",
   "name": "python",
   "nbconvert_exporter": "python",
   "pygments_lexer": "ipython3",
   "version": "3.12.4"
  }
 },
 "nbformat": 4,
 "nbformat_minor": 2
}
