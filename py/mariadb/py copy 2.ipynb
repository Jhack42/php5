{
 "cells": [
  {
   "cell_type": "code",
   "execution_count": 6,
   "metadata": {},
   "outputs": [
    {
     "name": "stdout",
     "output_type": "stream",
     "text": [
      "Requirement already satisfied: pymysql in c:\\users\\jhack alberth\\appdata\\local\\programs\\python\\python312\\lib\\site-packages (1.1.1)\n"
     ]
    },
    {
     "name": "stderr",
     "output_type": "stream",
     "text": [
      "\n",
      "[notice] A new release of pip is available: 24.2 -> 24.3.1\n",
      "[notice] To update, run: python.exe -m pip install --upgrade pip\n"
     ]
    }
   ],
   "source": [
    "!pip install pymysql"
   ]
  },
  {
   "cell_type": "code",
   "execution_count": 1,
   "metadata": {},
   "outputs": [
    {
     "name": "stdout",
     "output_type": "stream",
     "text": [
      "Requirement already satisfied: mysql-connector-python in c:\\users\\jhack alberth\\appdata\\local\\programs\\python\\python312\\lib\\site-packages (9.0.0)\n"
     ]
    },
    {
     "name": "stderr",
     "output_type": "stream",
     "text": [
      "\n",
      "[notice] A new release of pip is available: 24.2 -> 24.3.1\n",
      "[notice] To update, run: python.exe -m pip install --upgrade pip\n"
     ]
    }
   ],
   "source": [
    "!pip install mysql-connector-python"
   ]
  },
  {
   "cell_type": "code",
   "execution_count": 7,
   "metadata": {},
   "outputs": [
    {
     "name": "stdout",
     "output_type": "stream",
     "text": [
      "Conexión exitosa a la base de datos 'dirce' en MariaDB usando PyMySQL\n",
      "Inserción realizada con éxito en la tabla CORREO_BIENVENIDA\n",
      "Conexión cerrada\n"
     ]
    },
    {
     "ename": "",
     "evalue": "",
     "output_type": "error",
     "traceback": [
      "\u001b[1;31mEl kernel se bloqueó al ejecutar código en la celda actual o en una celda anterior. \n",
      "\u001b[1;31mRevise el código de las celdas para identificar una posible causa del error. \n",
      "\u001b[1;31mHaga clic <a href='https://aka.ms/vscodeJupyterKernelCrash'>aquí</a> para obtener más información. \n",
      "\u001b[1;31mVea Jupyter <a href='command:jupyter.viewOutput'>log</a> para obtener más detalles."
     ]
    }
   ],
   "source": [
    "import pymysql\n",
    "\n",
    "try:\n",
    "    # Configuración de la conexión usando PyMySQL\n",
    "    conn = pymysql.connect(\n",
    "        host=\"localhost\",\n",
    "        user=\"root\",\n",
    "        password=\"123456\",\n",
    "        database=\"dirce\",\n",
    "        port=3306,\n",
    "        charset=\"utf8mb4\"  # Especifica utf8mb4 para el charset\n",
    "    )\n",
    "\n",
    "    if conn.open:\n",
    "        print(\"Conexión exitosa a la base de datos 'dirce' en MariaDB usando PyMySQL\")\n",
    "        \n",
    "        cursor = conn.cursor()\n",
    "        \n",
    "        # Forzar collation y charset en la conexión\n",
    "        cursor.execute(\"SET NAMES 'utf8mb4' COLLATE 'utf8mb4_general_ci';\")\n",
    "        cursor.execute(\"SET collation_connection = 'utf8mb4_general_ci';\")\n",
    "        cursor.execute(\"SET character_set_client = 'utf8mb4';\")\n",
    "        cursor.execute(\"SET character_set_results = 'utf8mb4';\")\n",
    "        cursor.execute(\"SET character_set_connection = 'utf8mb4';\")\n",
    "        \n",
    "        # Prueba de inserción\n",
    "        insert_query = \"\"\"\n",
    "        INSERT INTO CORREO_BIENVENIDA (N_ID_CURSO, T_FECHA_HORA, V_ESTADO_CORREO)\n",
    "        VALUES (%s, NOW(), %s)\n",
    "        \"\"\"\n",
    "        cursor.execute(insert_query, (1, 'pendiente'))\n",
    "        conn.commit()\n",
    "        \n",
    "        print(\"Inserción realizada con éxito en la tabla CORREO_BIENVENIDA\")\n",
    "\n",
    "except pymysql.MySQLError as e:\n",
    "    print(f\"Error al conectar o insertar con PyMySQL: {e}\")\n",
    "\n",
    "finally:\n",
    "    if 'conn' in locals() and conn.open:\n",
    "        conn.close()\n",
    "        print(\"Conexión cerrada\")\n"
   ]
  }
 ],
 "metadata": {
  "kernelspec": {
   "display_name": "Python 3",
   "language": "python",
   "name": "python3"
  },
  "language_info": {
   "codemirror_mode": {
    "name": "ipython",
    "version": 3
   },
   "file_extension": ".py",
   "mimetype": "text/x-python",
   "name": "python",
   "nbconvert_exporter": "python",
   "pygments_lexer": "ipython3",
   "version": "3.12.4"
  }
 },
 "nbformat": 4,
 "nbformat_minor": 2
}
