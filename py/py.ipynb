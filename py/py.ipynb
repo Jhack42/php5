{
 "cells": [
  {
   "cell_type": "code",
   "execution_count": 1,
   "metadata": {},
   "outputs": [
    {
     "ename": "ModuleNotFoundError",
     "evalue": "No module named 'pdfplumber'",
     "output_type": "error",
     "traceback": [
      "\u001b[1;31m---------------------------------------------------------------------------\u001b[0m",
      "\u001b[1;31mModuleNotFoundError\u001b[0m                       Traceback (most recent call last)",
      "Cell \u001b[1;32mIn[1], line 1\u001b[0m\n\u001b[1;32m----> 1\u001b[0m \u001b[38;5;28;01mimport\u001b[39;00m \u001b[38;5;21;01mpdfplumber\u001b[39;00m\n\u001b[0;32m      2\u001b[0m \u001b[38;5;28;01mimport\u001b[39;00m \u001b[38;5;21;01mpandas\u001b[39;00m \u001b[38;5;28;01mas\u001b[39;00m \u001b[38;5;21;01mpd\u001b[39;00m\n\u001b[0;32m      4\u001b[0m \u001b[38;5;66;03m# Crear una lista para almacenar los datos de todas las páginas\u001b[39;00m\n",
      "\u001b[1;31mModuleNotFoundError\u001b[0m: No module named 'pdfplumber'"
     ]
    }
   ],
   "source": [
    "import pdfplumber\n",
    "import pandas as pd\n",
    "\n",
    "# Crear una lista para almacenar los datos de todas las páginas\n",
    "all_data = []\n",
    "\n",
    "# Abrir el archivo PDF\n",
    "with pdfplumber.open(\"convertir.pdf\") as pdf:\n",
    "    # Iterar a través de todas las páginas del PDF\n",
    "    for page in pdf.pages:\n",
    "        # Extraer la tabla de la página\n",
    "        table = page.extract_table()\n",
    "        \n",
    "        # Verifica si se extrajo una tabla\n",
    "        if table:\n",
    "            # Agregar los datos de la tabla a la lista\n",
    "            all_data.extend(table[1:])  # Ignorar la fila de encabezado\n",
    "\n",
    "# Verificar si se han encontrado datos\n",
    "if not all_data:\n",
    "    print(\"No se encontraron tablas en el PDF.\")\n",
    "    exit()\n",
    "\n",
    "# Convertir todos los datos extraídos en un DataFrame, usando la primera fila como encabezados\n",
    "df = pd.DataFrame(all_data)\n",
    "\n",
    "# Suponiendo que conoces los nombres de las columnas, puedes definirlos manualmente\n",
    "# Cambia estos nombres según los encabezados reales de tu tabla\n",
    "df.columns = ['COD.ACTI', 'DESCRIPCIÓN', 'FECHA INICIO', 'FECHA FIN']\n",
    "\n",
    "# Guardar el resultado directamente en un archivo Excel (.xlsx)\n",
    "df.to_excel(\"datos_extraidos.xlsx\", index=False)\n",
    "\n",
    "# Mostrar los datos extraídos\n",
    "print(\"Datos guardados en archivo Excel: datos_extraidos.xlsx\")"
   ]
  }
 ],
 "metadata": {
  "kernelspec": {
   "display_name": "Python 3",
   "language": "python",
   "name": "python3"
  },
  "language_info": {
   "codemirror_mode": {
    "name": "ipython",
    "version": 3
   },
   "file_extension": ".py",
   "mimetype": "text/x-python",
   "name": "python",
   "nbconvert_exporter": "python",
   "pygments_lexer": "ipython3",
   "version": "3.12.4"
  }
 },
 "nbformat": 4,
 "nbformat_minor": 2
}
