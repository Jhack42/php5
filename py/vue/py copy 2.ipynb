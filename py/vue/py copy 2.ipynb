{
 "cells": [
  {
   "cell_type": "code",
   "execution_count": 2,
   "metadata": {},
   "outputs": [
    {
     "name": "stdout",
     "output_type": "stream",
     "text": [
      "Collecting websocket-client\n",
      "  Using cached websocket_client-1.8.0-py3-none-any.whl.metadata (8.0 kB)\n",
      "Using cached websocket_client-1.8.0-py3-none-any.whl (58 kB)\n",
      "Installing collected packages: websocket-client\n",
      "Successfully installed websocket-client-1.8.0\n"
     ]
    },
    {
     "name": "stderr",
     "output_type": "stream",
     "text": [
      "\n",
      "[notice] A new release of pip is available: 24.2 -> 24.3.1\n",
      "[notice] To update, run: python.exe -m pip install --upgrade pip\n"
     ]
    }
   ],
   "source": [
    "!pip install websocket-client"
   ]
  },
  {
   "cell_type": "code",
   "execution_count": 4,
   "metadata": {},
   "outputs": [
    {
     "name": "stdout",
     "output_type": "stream",
     "text": [
      "Conectado al WebSocket, enviando ID para la API objetivo...\n",
      "Respuesta de la API objetivo: {'success': True, 'id': '1', 'mensaje_recibido': 'La API puente ha sido llamada a través de WebSocket'}\n",
      "Error en la conexión: [WinError 10054] Se ha forzado la interrupción de una conexión existente por el host remoto\n",
      "Conexión cerrada\n"
     ]
    },
    {
     "data": {
      "text/plain": [
       "True"
      ]
     },
     "execution_count": 4,
     "metadata": {},
     "output_type": "execute_result"
    }
   ],
   "source": [
    "import websocket\n",
    "import json\n",
    "\n",
    "# URL del servidor WebSocket\n",
    "ws_url = \"ws://localhost:8080\"\n",
    "\n",
    "def on_message(ws, message):\n",
    "    # Procesa el mensaje recibido desde el servidor\n",
    "    print(\"Respuesta de la API objetivo:\", json.loads(message))\n",
    "\n",
    "def on_error(ws, error):\n",
    "    print(\"Error en la conexión:\", error)\n",
    "\n",
    "def on_close(ws, close_status_code, close_msg):\n",
    "    print(\"Conexión cerrada\")\n",
    "\n",
    "def on_open(ws):\n",
    "    # Envía el ID cuando se establece la conexión\n",
    "    print(\"Conectado al WebSocket, enviando ID para la API objetivo...\")\n",
    "    ws.send(\"1\")  # Envía el ID de ejemplo\n",
    "\n",
    "# Configuración de WebSocket con eventos\n",
    "ws = websocket.WebSocketApp(ws_url,\n",
    "                            on_open=on_open,\n",
    "                            on_message=on_message,\n",
    "                            on_error=on_error,\n",
    "                            on_close=on_close)\n",
    "\n",
    "# Ejecuta la conexión WebSocket\n",
    "ws.run_forever()\n"
   ]
  }
 ],
 "metadata": {
  "kernelspec": {
   "display_name": ".venv",
   "language": "python",
   "name": "python3"
  },
  "language_info": {
   "codemirror_mode": {
    "name": "ipython",
    "version": 3
   },
   "file_extension": ".py",
   "mimetype": "text/x-python",
   "name": "python",
   "nbconvert_exporter": "python",
   "pygments_lexer": "ipython3",
   "version": "3.12.6"
  }
 },
 "nbformat": 4,
 "nbformat_minor": 2
}
