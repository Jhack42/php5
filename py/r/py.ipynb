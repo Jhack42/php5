{
 "cells": [
  {
   "cell_type": "code",
   "execution_count": 1,
   "metadata": {},
   "outputs": [],
   "source": [
    "import pandas as pd\n",
    "import tkinter as tk\n",
    "from tkinter import messagebox\n",
    "from sklearn.preprocessing import MinMaxScaler\n",
    "from sklearn.neural_network import MLPRegressor\n",
    "from sklearn.metrics import mean_squared_error\n",
    "import matplotlib.pyplot as plt\n",
    "from matplotlib.backends.backend_tkagg import FigureCanvasTkAgg\n"
   ]
  },
  {
   "cell_type": "code",
   "execution_count": 2,
   "metadata": {},
   "outputs": [
    {
     "name": "stdout",
     "output_type": "stream",
     "text": [
      "Cargando datos...\n",
      "Datos cargados y escalados con éxito.\n"
     ]
    }
   ],
   "source": [
    "# Cargar y preparar datos\n",
    "print(\"Cargando datos...\")\n",
    "file_path = r\"C:\\xampp_php5\\htdocs\\php5\\py\\r\\StudentsPerformance.csv\"\n",
    "datos = pd.read_csv(file_path)\n",
    "X = datos[['género', 'raza/etnicidad', 'nivel de educación de los padres', 'almuerzo', 'curso de preparación para el examen']]\n",
    "y = datos[['calificación de matemáticas', 'calificación de lectura', 'calificación de escritura']]\n",
    "X = pd.get_dummies(X)\n",
    "scaler_y = MinMaxScaler()\n",
    "y_scaled = scaler_y.fit_transform(y)\n",
    "print(\"Datos cargados y escalados con éxito.\")"
   ]
  },
  {
   "cell_type": "code",
   "execution_count": 3,
   "metadata": {},
   "outputs": [
    {
     "data": {
      "text/plain": [
       "''"
      ]
     },
     "execution_count": 3,
     "metadata": {},
     "output_type": "execute_result"
    }
   ],
   "source": [
    "# Inicializar la interfaz gráfica de Tkinter\n",
    "root = tk.Tk()\n",
    "root.title(\"Predicción de Calificaciones con Entrenamiento en Vivo\")\n",
    "root.geometry(\"600x500\")"
   ]
  },
  {
   "cell_type": "code",
   "execution_count": 4,
   "metadata": {},
   "outputs": [],
   "source": [
    "# Variables para los inputs\n",
    "genero_var = tk.StringVar()\n",
    "raza_var = tk.StringVar()\n",
    "educacion_var = tk.StringVar()\n",
    "almuerzo_var = tk.StringVar()\n",
    "preparacion_var = tk.StringVar()"
   ]
  },
  {
   "cell_type": "code",
   "execution_count": 5,
   "metadata": {},
   "outputs": [
    {
     "data": {
      "image/png": "[encoded data removed]",
      "text/plain": [
       "<Figure size 640x480 with 1 Axes>"
      ]
     },
     "metadata": {},
     "output_type": "display_data"
    }
   ],
   "source": [
    "# Crear un contenedor para el gráfico de matplotlib en tkinter\n",
    "fig, ax = plt.subplots()\n",
    "ax.set_title(\"Precisión y Error en Vivo\")\n",
    "ax.set_xlabel(\"Iteración\")\n",
    "ax.set_ylabel(\"Error (MSE)\")\n",
    "canvas = FigureCanvasTkAgg(fig, master=root)\n",
    "canvas.get_tk_widget().pack()"
   ]
  },
  {
   "cell_type": "code",
   "execution_count": 6,
   "metadata": {},
   "outputs": [],
   "source": [
    "# Función de entrenamiento optimizada\n",
    "def entrenar_modelo():\n",
    "    global model\n",
    "    iteraciones, errores = [], []\n",
    "    threshold_error = 0.05  # Umbral de error que corresponde a ~95% de precisión\n",
    "    max_iter = 1000  # Máximo de iteraciones\n",
    "    print(\"Iniciando entrenamiento...\")\n",
    "\n",
    "    # Inicializar el modelo de red neuronal\n",
    "    model = MLPRegressor(hidden_layer_sizes=(2, 3), max_iter=1, warm_start=True, random_state=0)\n",
    "    \n",
    "    # Entrenar iterativamente hasta alcanzar el umbral de error\n",
    "    for i in range(1, max_iter + 1):\n",
    "        model.fit(X, y_scaled)\n",
    "        pred_scaled = model.predict(X)\n",
    "        mse = mean_squared_error(y_scaled, pred_scaled)\n",
    "        print(f\"Iteración {i}: Error cuadrático medio (MSE) = {mse:.5f}\")\n",
    "\n",
    "        # Guardar el error para el gráfico\n",
    "        iteraciones.append(i)\n",
    "        errores.append(mse)\n",
    "        \n",
    "        # Actualizar gráfico en tiempo real\n",
    "        ax.clear()\n",
    "        ax.plot(iteraciones, errores, label=\"Error (MSE)\", color=\"blue\")\n",
    "        ax.axhline(y=threshold_error, color=\"red\", linestyle=\"--\", label=\"Umbral de Precisión Deseada\")\n",
    "        ax.legend()\n",
    "        canvas.draw()\n",
    "        root.update_idletasks()  # Refrescar la interfaz de Tkinter\n",
    "\n",
    "        # Verificar si se ha alcanzado el umbral de precisión deseada\n",
    "        if mse <= threshold_error:\n",
    "            print(f\"Objetivo alcanzado en iteración {i} con MSE de {mse:.5f}\")\n",
    "            break\n",
    "    print(\"Entrenamiento completado.\")"
   ]
  },
  {
   "cell_type": "code",
   "execution_count": 7,
   "metadata": {},
   "outputs": [],
   "source": [
    "# Función para hacer la predicción\n",
    "def predecir():\n",
    "    print(\"Preparando datos de entrada para predicción...\")\n",
    "    input_data = pd.DataFrame([[genero_var.get(), raza_var.get(), educacion_var.get(), almuerzo_var.get(), preparacion_var.get()]],\n",
    "                              columns=['género', 'raza/etnicidad', 'nivel de educación de los padres', 'almuerzo', 'curso de preparación para el examen'])\n",
    "    input_data = pd.get_dummies(input_data).reindex(columns=X.columns, fill_value=0)\n",
    "    print(\"Datos preparados.\")\n",
    "\n",
    "    # Realizar la predicción\n",
    "    print(\"Realizando predicción...\")\n",
    "    pred_scaled = model.predict(input_data)\n",
    "    pred_unscaled = scaler_y.inverse_transform(pred_scaled)\n",
    "    \n",
    "    # Mostrar resultados en un cuadro de diálogo\n",
    "    print(f\"Resultado de la predicción:\\n\"\n",
    "          f\"Calificación de Matemáticas: {pred_unscaled[0][0]:.2f}\\n\"\n",
    "          f\"Calificación de Lectura: {pred_unscaled[0][1]:.2f}\\n\"\n",
    "          f\"Calificación de Escritura: {pred_unscaled[0][2]:.2f}\")\n",
    "    \n",
    "    messagebox.showinfo(\"Predicción\", \n",
    "                        f\"Calificación de Matemáticas: {pred_unscaled[0][0]:.2f}\\n\"\n",
    "                        f\"Calificación de Lectura: {pred_unscaled[0][1]:.2f}\\n\"\n",
    "                        f\"Calificación de Escritura: {pred_unscaled[0][2]:.2f}\")\n"
   ]
  },
  {
   "cell_type": "code",
   "execution_count": 8,
   "metadata": {},
   "outputs": [],
   "source": [
    "# Crear los campos y etiquetas en la interfaz\n",
    "tk.Label(root, text=\"Género (male/female):\").pack()\n",
    "tk.Entry(root, textvariable=genero_var).pack()\n",
    "\n",
    "tk.Label(root, text=\"Raza/etnicidad (group A, B, C, D, E):\").pack()\n",
    "tk.Entry(root, textvariable=raza_var).pack()\n",
    "\n",
    "tk.Label(root, text=\"Nivel de educación de los padres:\").pack()\n",
    "tk.Entry(root, textvariable=educacion_var).pack()\n",
    "\n",
    "tk.Label(root, text=\"Almuerzo (standard/free/reduced):\").pack()\n",
    "tk.Entry(root, textvariable=almuerzo_var).pack()\n",
    "\n",
    "tk.Label(root, text=\"Curso de preparación para el examen (completed/none):\").pack()\n",
    "tk.Entry(root, textvariable=preparacion_var).pack()\n",
    "\n",
    "# Botón para iniciar el entrenamiento y otro para realizar la predicción\n",
    "tk.Button(root, text=\"Entrenar hasta 95% Precisión\", command=entrenar_modelo).pack()\n",
    "tk.Button(root, text=\"Predecir\", command=predecir).pack()\n",
    "\n",
    "# Iniciar el loop de la interfaz\n",
    "root.mainloop()\n"
   ]
  }
 ],
 "metadata": {
  "kernelspec": {
   "display_name": "Python 3",
   "language": "python",
   "name": "python3"
  },
  "language_info": {
   "codemirror_mode": {
    "name": "ipython",
    "version": 3
   },
   "file_extension": ".py",
   "mimetype": "text/x-python",
   "name": "python",
   "nbconvert_exporter": "python",
   "pygments_lexer": "ipython3",
   "version": "3.12.4"
  }
 },
 "nbformat": 4,
 "nbformat_minor": 2
}
