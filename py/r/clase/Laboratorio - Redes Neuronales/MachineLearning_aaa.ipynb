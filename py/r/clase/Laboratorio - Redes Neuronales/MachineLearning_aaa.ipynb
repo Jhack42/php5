{
 "cells": [
  {
   "cell_type": "code",
   "execution_count": 1,
   "metadata": {},
   "outputs": [
    {
     "name": "stdout",
     "output_type": "stream",
     "text": [
      "Requirement already satisfied: pandas in c:\\users\\jhack alberth\\appdata\\local\\programs\\python\\python312\\lib\\site-packages (2.2.2)\n",
      "Requirement already satisfied: numpy in c:\\users\\jhack alberth\\appdata\\local\\programs\\python\\python312\\lib\\site-packages (1.26.4)\n",
      "Requirement already satisfied: seaborn in c:\\users\\jhack alberth\\appdata\\local\\programs\\python\\python312\\lib\\site-packages (0.13.2)\n",
      "Requirement already satisfied: matplotlib in c:\\users\\jhack alberth\\appdata\\local\\programs\\python\\python312\\lib\\site-packages (3.9.2)\n",
      "Requirement already satisfied: tensorflow in c:\\users\\jhack alberth\\appdata\\local\\programs\\python\\python312\\lib\\site-packages (2.17.0)\n",
      "Requirement already satisfied: scikit-learn in c:\\users\\jhack alberth\\appdata\\local\\programs\\python\\python312\\lib\\site-packages (1.5.1)\n",
      "Requirement already satisfied: python-dateutil>=2.8.2 in c:\\users\\jhack alberth\\appdata\\roaming\\python\\python312\\site-packages (from pandas) (2.9.0.post0)\n",
      "Requirement already satisfied: pytz>=2020.1 in c:\\users\\jhack alberth\\appdata\\local\\programs\\python\\python312\\lib\\site-packages (from pandas) (2024.1)\n",
      "Requirement already satisfied: tzdata>=2022.7 in c:\\users\\jhack alberth\\appdata\\local\\programs\\python\\python312\\lib\\site-packages (from pandas) (2024.1)\n",
      "Requirement already satisfied: contourpy>=1.0.1 in c:\\users\\jhack alberth\\appdata\\local\\programs\\python\\python312\\lib\\site-packages (from matplotlib) (1.2.1)\n",
      "Requirement already satisfied: cycler>=0.10 in c:\\users\\jhack alberth\\appdata\\local\\programs\\python\\python312\\lib\\site-packages (from matplotlib) (0.12.1)\n",
      "Requirement already satisfied: fonttools>=4.22.0 in c:\\users\\jhack alberth\\appdata\\local\\programs\\python\\python312\\lib\\site-packages (from matplotlib) (4.53.1)\n",
      "Requirement already satisfied: kiwisolver>=1.3.1 in c:\\users\\jhack alberth\\appdata\\local\\programs\\python\\python312\\lib\\site-packages (from matplotlib) (1.4.5)\n",
      "Requirement already satisfied: packaging>=20.0 in c:\\users\\jhack alberth\\appdata\\roaming\\python\\python312\\site-packages (from matplotlib) (24.1)\n",
      "Requirement already satisfied: pillow>=8 in c:\\users\\jhack alberth\\appdata\\local\\programs\\python\\python312\\lib\\site-packages (from matplotlib) (10.4.0)\n",
      "Requirement already satisfied: pyparsing>=2.3.1 in c:\\users\\jhack alberth\\appdata\\local\\programs\\python\\python312\\lib\\site-packages (from matplotlib) (3.1.2)\n",
      "Requirement already satisfied: tensorflow-intel==2.17.0 in c:\\users\\jhack alberth\\appdata\\local\\programs\\python\\python312\\lib\\site-packages (from tensorflow) (2.17.0)\n",
      "Requirement already satisfied: absl-py>=1.0.0 in c:\\users\\jhack alberth\\appdata\\local\\programs\\python\\python312\\lib\\site-packages (from tensorflow-intel==2.17.0->tensorflow) (2.1.0)\n",
      "Requirement already satisfied: astunparse>=1.6.0 in c:\\users\\jhack alberth\\appdata\\local\\programs\\python\\python312\\lib\\site-packages (from tensorflow-intel==2.17.0->tensorflow) (1.6.3)\n",
      "Requirement already satisfied: flatbuffers>=24.3.25 in c:\\users\\jhack alberth\\appdata\\local\\programs\\python\\python312\\lib\\site-packages (from tensorflow-intel==2.17.0->tensorflow) (24.3.25)\n",
      "Requirement already satisfied: gast!=0.5.0,!=0.5.1,!=0.5.2,>=0.2.1 in c:\\users\\jhack alberth\\appdata\\local\\programs\\python\\python312\\lib\\site-packages (from tensorflow-intel==2.17.0->tensorflow) (0.6.0)\n",
      "Requirement already satisfied: google-pasta>=0.1.1 in c:\\users\\jhack alberth\\appdata\\local\\programs\\python\\python312\\lib\\site-packages (from tensorflow-intel==2.17.0->tensorflow) (0.2.0)\n",
      "Requirement already satisfied: h5py>=3.10.0 in c:\\users\\jhack alberth\\appdata\\local\\programs\\python\\python312\\lib\\site-packages (from tensorflow-intel==2.17.0->tensorflow) (3.11.0)\n",
      "Requirement already satisfied: libclang>=13.0.0 in c:\\users\\jhack alberth\\appdata\\local\\programs\\python\\python312\\lib\\site-packages (from tensorflow-intel==2.17.0->tensorflow) (18.1.1)\n",
      "Requirement already satisfied: ml-dtypes<0.5.0,>=0.3.1 in c:\\users\\jhack alberth\\appdata\\local\\programs\\python\\python312\\lib\\site-packages (from tensorflow-intel==2.17.0->tensorflow) (0.4.0)\n",
      "Requirement already satisfied: opt-einsum>=2.3.2 in c:\\users\\jhack alberth\\appdata\\local\\programs\\python\\python312\\lib\\site-packages (from tensorflow-intel==2.17.0->tensorflow) (3.3.0)\n",
      "Requirement already satisfied: protobuf!=4.21.0,!=4.21.1,!=4.21.2,!=4.21.3,!=4.21.4,!=4.21.5,<5.0.0dev,>=3.20.3 in c:\\users\\jhack alberth\\appdata\\local\\programs\\python\\python312\\lib\\site-packages (from tensorflow-intel==2.17.0->tensorflow) (4.25.4)\n",
      "Requirement already satisfied: requests<3,>=2.21.0 in c:\\users\\jhack alberth\\appdata\\local\\programs\\python\\python312\\lib\\site-packages (from tensorflow-intel==2.17.0->tensorflow) (2.32.3)\n",
      "Requirement already satisfied: setuptools in c:\\users\\jhack alberth\\appdata\\local\\programs\\python\\python312\\lib\\site-packages (from tensorflow-intel==2.17.0->tensorflow) (72.2.0)\n",
      "Requirement already satisfied: six>=1.12.0 in c:\\users\\jhack alberth\\appdata\\roaming\\python\\python312\\site-packages (from tensorflow-intel==2.17.0->tensorflow) (1.16.0)\n",
      "Requirement already satisfied: termcolor>=1.1.0 in c:\\users\\jhack alberth\\appdata\\local\\programs\\python\\python312\\lib\\site-packages (from tensorflow-intel==2.17.0->tensorflow) (2.4.0)\n",
      "Requirement already satisfied: typing-extensions>=3.6.6 in c:\\users\\jhack alberth\\appdata\\local\\programs\\python\\python312\\lib\\site-packages (from tensorflow-intel==2.17.0->tensorflow) (4.12.2)\n",
      "Requirement already satisfied: wrapt>=1.11.0 in c:\\users\\jhack alberth\\appdata\\local\\programs\\python\\python312\\lib\\site-packages (from tensorflow-intel==2.17.0->tensorflow) (1.16.0)\n",
      "Requirement already satisfied: grpcio<2.0,>=1.24.3 in c:\\users\\jhack alberth\\appdata\\local\\programs\\python\\python312\\lib\\site-packages (from tensorflow-intel==2.17.0->tensorflow) (1.65.4)\n",
      "Requirement already satisfied: tensorboard<2.18,>=2.17 in c:\\users\\jhack alberth\\appdata\\local\\programs\\python\\python312\\lib\\site-packages (from tensorflow-intel==2.17.0->tensorflow) (2.17.1)\n",
      "Requirement already satisfied: keras>=3.2.0 in c:\\users\\jhack alberth\\appdata\\local\\programs\\python\\python312\\lib\\site-packages (from tensorflow-intel==2.17.0->tensorflow) (3.5.0)\n",
      "Requirement already satisfied: scipy>=1.6.0 in c:\\users\\jhack alberth\\appdata\\local\\programs\\python\\python312\\lib\\site-packages (from scikit-learn) (1.14.0)\n",
      "Requirement already satisfied: joblib>=1.2.0 in c:\\users\\jhack alberth\\appdata\\local\\programs\\python\\python312\\lib\\site-packages (from scikit-learn) (1.4.2)\n",
      "Requirement already satisfied: threadpoolctl>=3.1.0 in c:\\users\\jhack alberth\\appdata\\local\\programs\\python\\python312\\lib\\site-packages (from scikit-learn) (3.5.0)\n",
      "Requirement already satisfied: wheel<1.0,>=0.23.0 in c:\\users\\jhack alberth\\appdata\\local\\programs\\python\\python312\\lib\\site-packages (from astunparse>=1.6.0->tensorflow-intel==2.17.0->tensorflow) (0.44.0)\n",
      "Requirement already satisfied: rich in c:\\users\\jhack alberth\\appdata\\local\\programs\\python\\python312\\lib\\site-packages (from keras>=3.2.0->tensorflow-intel==2.17.0->tensorflow) (13.7.1)\n",
      "Requirement already satisfied: namex in c:\\users\\jhack alberth\\appdata\\local\\programs\\python\\python312\\lib\\site-packages (from keras>=3.2.0->tensorflow-intel==2.17.0->tensorflow) (0.0.8)\n",
      "Requirement already satisfied: optree in c:\\users\\jhack alberth\\appdata\\local\\programs\\python\\python312\\lib\\site-packages (from keras>=3.2.0->tensorflow-intel==2.17.0->tensorflow) (0.12.1)\n",
      "Requirement already satisfied: charset-normalizer<4,>=2 in c:\\users\\jhack alberth\\appdata\\local\\programs\\python\\python312\\lib\\site-packages (from requests<3,>=2.21.0->tensorflow-intel==2.17.0->tensorflow) (3.3.2)\n",
      "Requirement already satisfied: idna<4,>=2.5 in c:\\users\\jhack alberth\\appdata\\local\\programs\\python\\python312\\lib\\site-packages (from requests<3,>=2.21.0->tensorflow-intel==2.17.0->tensorflow) (3.7)\n",
      "Requirement already satisfied: urllib3<3,>=1.21.1 in c:\\users\\jhack alberth\\appdata\\local\\programs\\python\\python312\\lib\\site-packages (from requests<3,>=2.21.0->tensorflow-intel==2.17.0->tensorflow) (2.2.2)\n",
      "Requirement already satisfied: certifi>=2017.4.17 in c:\\users\\jhack alberth\\appdata\\local\\programs\\python\\python312\\lib\\site-packages (from requests<3,>=2.21.0->tensorflow-intel==2.17.0->tensorflow) (2024.7.4)\n",
      "Requirement already satisfied: markdown>=2.6.8 in c:\\users\\jhack alberth\\appdata\\local\\programs\\python\\python312\\lib\\site-packages (from tensorboard<2.18,>=2.17->tensorflow-intel==2.17.0->tensorflow) (3.6)\n",
      "Requirement already satisfied: tensorboard-data-server<0.8.0,>=0.7.0 in c:\\users\\jhack alberth\\appdata\\local\\programs\\python\\python312\\lib\\site-packages (from tensorboard<2.18,>=2.17->tensorflow-intel==2.17.0->tensorflow) (0.7.2)\n",
      "Requirement already satisfied: werkzeug>=1.0.1 in c:\\users\\jhack alberth\\appdata\\local\\programs\\python\\python312\\lib\\site-packages (from tensorboard<2.18,>=2.17->tensorflow-intel==2.17.0->tensorflow) (3.0.3)\n",
      "Requirement already satisfied: MarkupSafe>=2.1.1 in c:\\users\\jhack alberth\\appdata\\local\\programs\\python\\python312\\lib\\site-packages (from werkzeug>=1.0.1->tensorboard<2.18,>=2.17->tensorflow-intel==2.17.0->tensorflow) (2.1.5)\n",
      "Requirement already satisfied: markdown-it-py>=2.2.0 in c:\\users\\jhack alberth\\appdata\\local\\programs\\python\\python312\\lib\\site-packages (from rich->keras>=3.2.0->tensorflow-intel==2.17.0->tensorflow) (3.0.0)\n",
      "Requirement already satisfied: pygments<3.0.0,>=2.13.0 in c:\\users\\jhack alberth\\appdata\\roaming\\python\\python312\\site-packages (from rich->keras>=3.2.0->tensorflow-intel==2.17.0->tensorflow) (2.18.0)\n",
      "Requirement already satisfied: mdurl~=0.1 in c:\\users\\jhack alberth\\appdata\\local\\programs\\python\\python312\\lib\\site-packages (from markdown-it-py>=2.2.0->rich->keras>=3.2.0->tensorflow-intel==2.17.0->tensorflow) (0.1.2)\n"
     ]
    },
    {
     "name": "stderr",
     "output_type": "stream",
     "text": [
      "\n",
      "[notice] A new release of pip is available: 24.2 -> 24.3.1\n",
      "[notice] To update, run: python.exe -m pip install --upgrade pip\n"
     ]
    }
   ],
   "source": [
    "!pip install pandas numpy seaborn matplotlib tensorflow scikit-learn"
   ]
  },
  {
   "cell_type": "markdown",
   "metadata": {
    "id": "Huh6lwAU9rAa"
   },
   "source": [
    "# **IMPORTACIÓN DE LIBRERÍAS**"
   ]
  },
  {
   "cell_type": "markdown",
   "metadata": {
    "id": "3_USoEe-MkLv"
   },
   "source": [
    "**LIBRERÍAS DE CIENCIA DE DATOS**"
   ]
  },
  {
   "cell_type": "code",
   "execution_count": 2,
   "metadata": {
    "id": "lz0ASdl8MvsH"
   },
   "outputs": [],
   "source": [
    "# Importación de librerías necesarias\n",
    "import pandas as pd\n",
    "import numpy as np\n",
    "import seaborn as sns\n",
    "import matplotlib.pyplot as plt\n",
    "import tensorflow as tf"
   ]
  },
  {
   "cell_type": "markdown",
   "metadata": {
    "id": "7g28lCqeMstu"
   },
   "source": [
    "**LIBRERÍAS ESPECÍFICAS**"
   ]
  },
  {
   "cell_type": "code",
   "execution_count": 3,
   "metadata": {
    "id": "NRD_jT1X9vD_"
   },
   "outputs": [],
   "source": [
    "\n",
    "from sklearn.preprocessing import OneHotEncoder\n",
    "from sklearn.preprocessing import MinMaxScaler\n",
    "from sklearn.model_selection import train_test_split\n",
    "from sklearn.linear_model import LogisticRegression\n",
    "from sklearn.metrics import accuracy_score\n",
    "from sklearn.metrics import confusion_matrix, classification_report\n",
    "from sklearn.ensemble import RandomForestClassifier"
   ]
  },
  {
   "cell_type": "markdown",
   "metadata": {
    "id": "KWPIvxIlMTru"
   },
   "source": [
    "# **IMPORTACIÓN DEL \"DATA SET\"**"
   ]
  },
  {
   "cell_type": "markdown",
   "metadata": {
    "id": "idyPAax4F6q9"
   },
   "source": [
    "**CONEXIÓN CON DRIVE**"
   ]
  },
  {
   "cell_type": "code",
   "execution_count": 4,
   "metadata": {
    "colab": {
     "base_uri": "https://localhost:8080/"
    },
    "id": "55mnUPS--Qst",
    "outputId": "46bd27f8-9347-427d-f270-efe523d040e1"
   },
   "outputs": [
    {
     "name": "stdout",
     "output_type": "stream",
     "text": [
      "Dataset cargado correctamente.\n"
     ]
    }
   ],
   "source": [
    "\n",
    "# Carga del dataset\n",
    "try:\n",
    "    data_set = pd.read_csv(\"C:/xampp_php5/htdocs/php5/py/r/clase/Laboratorio - Redes Neuronales/AlumnosZaragoza.csv\")\n",
    "    print(\"Dataset cargado correctamente.\")\n",
    "except FileNotFoundError:\n",
    "    print(\"Error: No se encontró el archivo en la ruta especificada.\")\n",
    "except Exception as e:\n",
    "    print(f\"Ha ocurrido un error: {e}\")"
   ]
  },
  {
   "cell_type": "markdown",
   "metadata": {
    "id": "zq6TP1JoGIlc"
   },
   "source": [
    "**IMPORTACIÓN**"
   ]
  },
  {
   "cell_type": "code",
   "execution_count": 5,
   "metadata": {
    "colab": {
     "base_uri": "https://localhost:8080/"
    },
    "id": "q4Puwi1yL9S-",
    "outputId": "8069a507-3892-4d09-9c4a-14f3034516a0"
   },
   "outputs": [
    {
     "name": "stdout",
     "output_type": "stream",
     "text": [
      "No se ha podido realizar la acción.\n"
     ]
    }
   ],
   "source": [
    "try:\n",
    "  data_set = pandas.read_csv(\n",
    "      \"AlumnosZaragoza.csv\"\n",
    "  )\n",
    "except:\n",
    "  print(\"No se ha podido realizar la acción.\")\n",
    "else:\n",
    "  print(\"Finalizado.\")"
   ]
  },
  {
   "cell_type": "markdown",
   "metadata": {
    "id": "f0TjVTgGRRft"
   },
   "source": [
    "# **EXPLORACIÓN DEL \"DATA SET\"**"
   ]
  },
  {
   "cell_type": "markdown",
   "metadata": {
    "id": "dfSILXaRZ9ai"
   },
   "source": [
    "**VISUALIZACIÓN ALEATORIA**"
   ]
  },
  {
   "cell_type": "code",
   "execution_count": 6,
   "metadata": {
    "colab": {
     "base_uri": "https://localhost:8080/"
    },
    "id": "n8D8JQU9aAf4",
    "outputId": "e9ad6840-cc27-45e4-dc4a-989a8f48342d"
   },
   "outputs": [
    {
     "data": {
      "text/plain": [
       "CURSO_ACADEMICO                             2021\n",
       "LOCALIDAD                               Zaragoza\n",
       "ESTUDIO                         Grado: Filosofía\n",
       "TIPO_ESTUDIO                               Grado\n",
       "TIPO_EGRESO                             Graduado\n",
       "SEXO                                     Hombres\n",
       "ALUMNOS_GRADUADOS                             14\n",
       "ALUMNOS_INTERRUMPEN_ESTUDIOS                   0\n",
       "ALUMNOS_INTERRUMPEN_EST_ANO1                   0\n",
       "ALUMNOS_TRASLADAN_OTRA_UNIV                    0\n",
       "DURACION_MEDIA_GRADUADOS                    5,25\n",
       "TASA_EFICIENCIA                            84,35\n",
       "FECHA_ACTUALIZACION                   30/10/2022\n",
       "Name: 379, dtype: object"
      ]
     },
     "execution_count": 6,
     "metadata": {},
     "output_type": "execute_result"
    }
   ],
   "source": [
    "middle_row = len(data_set.index) / 2\n",
    "data_set.loc[middle_row]"
   ]
  },
  {
   "cell_type": "markdown",
   "metadata": {
    "id": "FVRHyLVsQ7qh"
   },
   "source": [
    "**VISUALIZACIÓN COMPLETA**"
   ]
  },
  {
   "cell_type": "code",
   "execution_count": 7,
   "metadata": {
    "colab": {
     "base_uri": "https://localhost:8080/",
     "height": 921
    },
    "id": "SMstF51DRCZ0",
    "outputId": "24d47257-4aed-41b3-eb03-b862104a69e5"
   },
   "outputs": [
    {
     "data": {
      "text/html": [
       "<div>\n",
       "<style scoped>\n",
       "    .dataframe tbody tr th:only-of-type {\n",
       "        vertical-align: middle;\n",
       "    }\n",
       "\n",
       "    .dataframe tbody tr th {\n",
       "        vertical-align: top;\n",
       "    }\n",
       "\n",
       "    .dataframe thead th {\n",
       "        text-align: right;\n",
       "    }\n",
       "</style>\n",
       "<table border=\"1\" class=\"dataframe\">\n",
       "  <thead>\n",
       "    <tr style=\"text-align: right;\">\n",
       "      <th></th>\n",
       "      <th>CURSO_ACADEMICO</th>\n",
       "      <th>LOCALIDAD</th>\n",
       "      <th>ESTUDIO</th>\n",
       "      <th>TIPO_ESTUDIO</th>\n",
       "      <th>TIPO_EGRESO</th>\n",
       "      <th>SEXO</th>\n",
       "      <th>ALUMNOS_GRADUADOS</th>\n",
       "      <th>ALUMNOS_INTERRUMPEN_ESTUDIOS</th>\n",
       "      <th>ALUMNOS_INTERRUMPEN_EST_ANO1</th>\n",
       "      <th>ALUMNOS_TRASLADAN_OTRA_UNIV</th>\n",
       "      <th>DURACION_MEDIA_GRADUADOS</th>\n",
       "      <th>TASA_EFICIENCIA</th>\n",
       "      <th>FECHA_ACTUALIZACION</th>\n",
       "    </tr>\n",
       "  </thead>\n",
       "  <tbody>\n",
       "    <tr>\n",
       "      <th>0</th>\n",
       "      <td>2021</td>\n",
       "      <td>Almunia de Doña Godina (La)</td>\n",
       "      <td>Grado: Arquitectura Técnica</td>\n",
       "      <td>Grado</td>\n",
       "      <td>Abandono Voluntario</td>\n",
       "      <td>Hombres</td>\n",
       "      <td>0</td>\n",
       "      <td>12</td>\n",
       "      <td>5</td>\n",
       "      <td>0</td>\n",
       "      <td>NaN</td>\n",
       "      <td>NaN</td>\n",
       "      <td>30/10/2022</td>\n",
       "    </tr>\n",
       "    <tr>\n",
       "      <th>1</th>\n",
       "      <td>2021</td>\n",
       "      <td>Almunia de Doña Godina (La)</td>\n",
       "      <td>Grado: Arquitectura Técnica</td>\n",
       "      <td>Grado</td>\n",
       "      <td>Abandono Voluntario</td>\n",
       "      <td>Mujeres</td>\n",
       "      <td>0</td>\n",
       "      <td>5</td>\n",
       "      <td>3</td>\n",
       "      <td>0</td>\n",
       "      <td>NaN</td>\n",
       "      <td>NaN</td>\n",
       "      <td>30/10/2022</td>\n",
       "    </tr>\n",
       "    <tr>\n",
       "      <th>2</th>\n",
       "      <td>2021</td>\n",
       "      <td>Almunia de Doña Godina (La)</td>\n",
       "      <td>Grado: Arquitectura Técnica</td>\n",
       "      <td>Grado</td>\n",
       "      <td>Cambio de estudios sin simultaneidad</td>\n",
       "      <td>Mujeres</td>\n",
       "      <td>0</td>\n",
       "      <td>1</td>\n",
       "      <td>1</td>\n",
       "      <td>0</td>\n",
       "      <td>NaN</td>\n",
       "      <td>NaN</td>\n",
       "      <td>30/10/2022</td>\n",
       "    </tr>\n",
       "    <tr>\n",
       "      <th>3</th>\n",
       "      <td>2021</td>\n",
       "      <td>Almunia de Doña Godina (La)</td>\n",
       "      <td>Grado: Arquitectura Técnica</td>\n",
       "      <td>Grado</td>\n",
       "      <td>Graduado</td>\n",
       "      <td>Hombres</td>\n",
       "      <td>5</td>\n",
       "      <td>0</td>\n",
       "      <td>0</td>\n",
       "      <td>0</td>\n",
       "      <td>7,00</td>\n",
       "      <td>70,00</td>\n",
       "      <td>30/10/2022</td>\n",
       "    </tr>\n",
       "    <tr>\n",
       "      <th>4</th>\n",
       "      <td>2021</td>\n",
       "      <td>Almunia de Doña Godina (La)</td>\n",
       "      <td>Grado: Arquitectura Técnica</td>\n",
       "      <td>Grado</td>\n",
       "      <td>Graduado</td>\n",
       "      <td>Mujeres</td>\n",
       "      <td>2</td>\n",
       "      <td>0</td>\n",
       "      <td>0</td>\n",
       "      <td>0</td>\n",
       "      <td>11,00</td>\n",
       "      <td>75,72</td>\n",
       "      <td>30/10/2022</td>\n",
       "    </tr>\n",
       "    <tr>\n",
       "      <th>...</th>\n",
       "      <td>...</td>\n",
       "      <td>...</td>\n",
       "      <td>...</td>\n",
       "      <td>...</td>\n",
       "      <td>...</td>\n",
       "      <td>...</td>\n",
       "      <td>...</td>\n",
       "      <td>...</td>\n",
       "      <td>...</td>\n",
       "      <td>...</td>\n",
       "      <td>...</td>\n",
       "      <td>...</td>\n",
       "      <td>...</td>\n",
       "    </tr>\n",
       "    <tr>\n",
       "      <th>753</th>\n",
       "      <td>2021</td>\n",
       "      <td>Zaragoza</td>\n",
       "      <td>Relaciones Laborales</td>\n",
       "      <td>Diplomatura o equivalente</td>\n",
       "      <td>Traslado a otra Universidad</td>\n",
       "      <td>Hombres</td>\n",
       "      <td>0</td>\n",
       "      <td>0</td>\n",
       "      <td>0</td>\n",
       "      <td>1</td>\n",
       "      <td>NaN</td>\n",
       "      <td>NaN</td>\n",
       "      <td>30/10/2022</td>\n",
       "    </tr>\n",
       "    <tr>\n",
       "      <th>754</th>\n",
       "      <td>2021</td>\n",
       "      <td>Zaragoza</td>\n",
       "      <td>Relaciones Laborales</td>\n",
       "      <td>Diplomatura o equivalente</td>\n",
       "      <td>Traslado a otra Universidad</td>\n",
       "      <td>Mujeres</td>\n",
       "      <td>0</td>\n",
       "      <td>0</td>\n",
       "      <td>0</td>\n",
       "      <td>2</td>\n",
       "      <td>NaN</td>\n",
       "      <td>NaN</td>\n",
       "      <td>30/10/2022</td>\n",
       "    </tr>\n",
       "    <tr>\n",
       "      <th>755</th>\n",
       "      <td>2021</td>\n",
       "      <td>Zaragoza</td>\n",
       "      <td>Terapia Ocupacional</td>\n",
       "      <td>Diplomatura o equivalente</td>\n",
       "      <td>Traslado a otra Universidad</td>\n",
       "      <td>Mujeres</td>\n",
       "      <td>0</td>\n",
       "      <td>0</td>\n",
       "      <td>0</td>\n",
       "      <td>1</td>\n",
       "      <td>NaN</td>\n",
       "      <td>NaN</td>\n",
       "      <td>30/10/2022</td>\n",
       "    </tr>\n",
       "    <tr>\n",
       "      <th>756</th>\n",
       "      <td>2021</td>\n",
       "      <td>Zaragoza</td>\n",
       "      <td>Trabajo Social</td>\n",
       "      <td>Diplomatura o equivalente</td>\n",
       "      <td>Traslado a otra Universidad</td>\n",
       "      <td>Hombres</td>\n",
       "      <td>0</td>\n",
       "      <td>0</td>\n",
       "      <td>0</td>\n",
       "      <td>1</td>\n",
       "      <td>NaN</td>\n",
       "      <td>NaN</td>\n",
       "      <td>30/10/2022</td>\n",
       "    </tr>\n",
       "    <tr>\n",
       "      <th>757</th>\n",
       "      <td>2021</td>\n",
       "      <td>Zaragoza</td>\n",
       "      <td>Trabajo Social</td>\n",
       "      <td>Diplomatura o equivalente</td>\n",
       "      <td>Traslado a otra Universidad</td>\n",
       "      <td>Mujeres</td>\n",
       "      <td>0</td>\n",
       "      <td>0</td>\n",
       "      <td>0</td>\n",
       "      <td>1</td>\n",
       "      <td>NaN</td>\n",
       "      <td>NaN</td>\n",
       "      <td>30/10/2022</td>\n",
       "    </tr>\n",
       "  </tbody>\n",
       "</table>\n",
       "<p>758 rows × 13 columns</p>\n",
       "</div>"
      ],
      "text/plain": [
       "     CURSO_ACADEMICO                    LOCALIDAD  \\\n",
       "0               2021  Almunia de Doña Godina (La)   \n",
       "1               2021  Almunia de Doña Godina (La)   \n",
       "2               2021  Almunia de Doña Godina (La)   \n",
       "3               2021  Almunia de Doña Godina (La)   \n",
       "4               2021  Almunia de Doña Godina (La)   \n",
       "..               ...                          ...   \n",
       "753             2021                     Zaragoza   \n",
       "754             2021                     Zaragoza   \n",
       "755             2021                     Zaragoza   \n",
       "756             2021                     Zaragoza   \n",
       "757             2021                     Zaragoza   \n",
       "\n",
       "                         ESTUDIO               TIPO_ESTUDIO  \\\n",
       "0    Grado: Arquitectura Técnica                      Grado   \n",
       "1    Grado: Arquitectura Técnica                      Grado   \n",
       "2    Grado: Arquitectura Técnica                      Grado   \n",
       "3    Grado: Arquitectura Técnica                      Grado   \n",
       "4    Grado: Arquitectura Técnica                      Grado   \n",
       "..                           ...                        ...   \n",
       "753         Relaciones Laborales  Diplomatura o equivalente   \n",
       "754         Relaciones Laborales  Diplomatura o equivalente   \n",
       "755          Terapia Ocupacional  Diplomatura o equivalente   \n",
       "756               Trabajo Social  Diplomatura o equivalente   \n",
       "757               Trabajo Social  Diplomatura o equivalente   \n",
       "\n",
       "                              TIPO_EGRESO     SEXO  ALUMNOS_GRADUADOS  \\\n",
       "0                     Abandono Voluntario  Hombres                  0   \n",
       "1                     Abandono Voluntario  Mujeres                  0   \n",
       "2    Cambio de estudios sin simultaneidad  Mujeres                  0   \n",
       "3                                Graduado  Hombres                  5   \n",
       "4                                Graduado  Mujeres                  2   \n",
       "..                                    ...      ...                ...   \n",
       "753           Traslado a otra Universidad  Hombres                  0   \n",
       "754           Traslado a otra Universidad  Mujeres                  0   \n",
       "755           Traslado a otra Universidad  Mujeres                  0   \n",
       "756           Traslado a otra Universidad  Hombres                  0   \n",
       "757           Traslado a otra Universidad  Mujeres                  0   \n",
       "\n",
       "     ALUMNOS_INTERRUMPEN_ESTUDIOS  ALUMNOS_INTERRUMPEN_EST_ANO1  \\\n",
       "0                              12                             5   \n",
       "1                               5                             3   \n",
       "2                               1                             1   \n",
       "3                               0                             0   \n",
       "4                               0                             0   \n",
       "..                            ...                           ...   \n",
       "753                             0                             0   \n",
       "754                             0                             0   \n",
       "755                             0                             0   \n",
       "756                             0                             0   \n",
       "757                             0                             0   \n",
       "\n",
       "     ALUMNOS_TRASLADAN_OTRA_UNIV DURACION_MEDIA_GRADUADOS TASA_EFICIENCIA  \\\n",
       "0                              0                      NaN             NaN   \n",
       "1                              0                      NaN             NaN   \n",
       "2                              0                      NaN             NaN   \n",
       "3                              0                     7,00           70,00   \n",
       "4                              0                    11,00           75,72   \n",
       "..                           ...                      ...             ...   \n",
       "753                            1                      NaN             NaN   \n",
       "754                            2                      NaN             NaN   \n",
       "755                            1                      NaN             NaN   \n",
       "756                            1                      NaN             NaN   \n",
       "757                            1                      NaN             NaN   \n",
       "\n",
       "    FECHA_ACTUALIZACION  \n",
       "0            30/10/2022  \n",
       "1            30/10/2022  \n",
       "2            30/10/2022  \n",
       "3            30/10/2022  \n",
       "4            30/10/2022  \n",
       "..                  ...  \n",
       "753          30/10/2022  \n",
       "754          30/10/2022  \n",
       "755          30/10/2022  \n",
       "756          30/10/2022  \n",
       "757          30/10/2022  \n",
       "\n",
       "[758 rows x 13 columns]"
      ]
     },
     "execution_count": 7,
     "metadata": {},
     "output_type": "execute_result"
    }
   ],
   "source": [
    "data_set"
   ]
  },
  {
   "cell_type": "markdown",
   "metadata": {
    "id": "2ySwc4HdY0Ym"
   },
   "source": [
    "**VISUALIZACIÓN INICIO**"
   ]
  },
  {
   "cell_type": "code",
   "execution_count": 8,
   "metadata": {
    "colab": {
     "base_uri": "https://localhost:8080/",
     "height": 530
    },
    "id": "N8qry3RIZBpL",
    "outputId": "696d88b0-71da-4e39-b535-7e9438c09b8e"
   },
   "outputs": [
    {
     "data": {
      "text/html": [
       "<div>\n",
       "<style scoped>\n",
       "    .dataframe tbody tr th:only-of-type {\n",
       "        vertical-align: middle;\n",
       "    }\n",
       "\n",
       "    .dataframe tbody tr th {\n",
       "        vertical-align: top;\n",
       "    }\n",
       "\n",
       "    .dataframe thead th {\n",
       "        text-align: right;\n",
       "    }\n",
       "</style>\n",
       "<table border=\"1\" class=\"dataframe\">\n",
       "  <thead>\n",
       "    <tr style=\"text-align: right;\">\n",
       "      <th></th>\n",
       "      <th>CURSO_ACADEMICO</th>\n",
       "      <th>LOCALIDAD</th>\n",
       "      <th>ESTUDIO</th>\n",
       "      <th>TIPO_ESTUDIO</th>\n",
       "      <th>TIPO_EGRESO</th>\n",
       "      <th>SEXO</th>\n",
       "      <th>ALUMNOS_GRADUADOS</th>\n",
       "      <th>ALUMNOS_INTERRUMPEN_ESTUDIOS</th>\n",
       "      <th>ALUMNOS_INTERRUMPEN_EST_ANO1</th>\n",
       "      <th>ALUMNOS_TRASLADAN_OTRA_UNIV</th>\n",
       "      <th>DURACION_MEDIA_GRADUADOS</th>\n",
       "      <th>TASA_EFICIENCIA</th>\n",
       "      <th>FECHA_ACTUALIZACION</th>\n",
       "    </tr>\n",
       "  </thead>\n",
       "  <tbody>\n",
       "    <tr>\n",
       "      <th>0</th>\n",
       "      <td>2021</td>\n",
       "      <td>Almunia de Doña Godina (La)</td>\n",
       "      <td>Grado: Arquitectura Técnica</td>\n",
       "      <td>Grado</td>\n",
       "      <td>Abandono Voluntario</td>\n",
       "      <td>Hombres</td>\n",
       "      <td>0</td>\n",
       "      <td>12</td>\n",
       "      <td>5</td>\n",
       "      <td>0</td>\n",
       "      <td>NaN</td>\n",
       "      <td>NaN</td>\n",
       "      <td>30/10/2022</td>\n",
       "    </tr>\n",
       "    <tr>\n",
       "      <th>1</th>\n",
       "      <td>2021</td>\n",
       "      <td>Almunia de Doña Godina (La)</td>\n",
       "      <td>Grado: Arquitectura Técnica</td>\n",
       "      <td>Grado</td>\n",
       "      <td>Abandono Voluntario</td>\n",
       "      <td>Mujeres</td>\n",
       "      <td>0</td>\n",
       "      <td>5</td>\n",
       "      <td>3</td>\n",
       "      <td>0</td>\n",
       "      <td>NaN</td>\n",
       "      <td>NaN</td>\n",
       "      <td>30/10/2022</td>\n",
       "    </tr>\n",
       "    <tr>\n",
       "      <th>2</th>\n",
       "      <td>2021</td>\n",
       "      <td>Almunia de Doña Godina (La)</td>\n",
       "      <td>Grado: Arquitectura Técnica</td>\n",
       "      <td>Grado</td>\n",
       "      <td>Cambio de estudios sin simultaneidad</td>\n",
       "      <td>Mujeres</td>\n",
       "      <td>0</td>\n",
       "      <td>1</td>\n",
       "      <td>1</td>\n",
       "      <td>0</td>\n",
       "      <td>NaN</td>\n",
       "      <td>NaN</td>\n",
       "      <td>30/10/2022</td>\n",
       "    </tr>\n",
       "    <tr>\n",
       "      <th>3</th>\n",
       "      <td>2021</td>\n",
       "      <td>Almunia de Doña Godina (La)</td>\n",
       "      <td>Grado: Arquitectura Técnica</td>\n",
       "      <td>Grado</td>\n",
       "      <td>Graduado</td>\n",
       "      <td>Hombres</td>\n",
       "      <td>5</td>\n",
       "      <td>0</td>\n",
       "      <td>0</td>\n",
       "      <td>0</td>\n",
       "      <td>7,00</td>\n",
       "      <td>70,00</td>\n",
       "      <td>30/10/2022</td>\n",
       "    </tr>\n",
       "    <tr>\n",
       "      <th>4</th>\n",
       "      <td>2021</td>\n",
       "      <td>Almunia de Doña Godina (La)</td>\n",
       "      <td>Grado: Arquitectura Técnica</td>\n",
       "      <td>Grado</td>\n",
       "      <td>Graduado</td>\n",
       "      <td>Mujeres</td>\n",
       "      <td>2</td>\n",
       "      <td>0</td>\n",
       "      <td>0</td>\n",
       "      <td>0</td>\n",
       "      <td>11,00</td>\n",
       "      <td>75,72</td>\n",
       "      <td>30/10/2022</td>\n",
       "    </tr>\n",
       "  </tbody>\n",
       "</table>\n",
       "</div>"
      ],
      "text/plain": [
       "   CURSO_ACADEMICO                    LOCALIDAD                      ESTUDIO  \\\n",
       "0             2021  Almunia de Doña Godina (La)  Grado: Arquitectura Técnica   \n",
       "1             2021  Almunia de Doña Godina (La)  Grado: Arquitectura Técnica   \n",
       "2             2021  Almunia de Doña Godina (La)  Grado: Arquitectura Técnica   \n",
       "3             2021  Almunia de Doña Godina (La)  Grado: Arquitectura Técnica   \n",
       "4             2021  Almunia de Doña Godina (La)  Grado: Arquitectura Técnica   \n",
       "\n",
       "  TIPO_ESTUDIO                           TIPO_EGRESO     SEXO  \\\n",
       "0        Grado                   Abandono Voluntario  Hombres   \n",
       "1        Grado                   Abandono Voluntario  Mujeres   \n",
       "2        Grado  Cambio de estudios sin simultaneidad  Mujeres   \n",
       "3        Grado                              Graduado  Hombres   \n",
       "4        Grado                              Graduado  Mujeres   \n",
       "\n",
       "   ALUMNOS_GRADUADOS  ALUMNOS_INTERRUMPEN_ESTUDIOS  \\\n",
       "0                  0                            12   \n",
       "1                  0                             5   \n",
       "2                  0                             1   \n",
       "3                  5                             0   \n",
       "4                  2                             0   \n",
       "\n",
       "   ALUMNOS_INTERRUMPEN_EST_ANO1  ALUMNOS_TRASLADAN_OTRA_UNIV  \\\n",
       "0                             5                            0   \n",
       "1                             3                            0   \n",
       "2                             1                            0   \n",
       "3                             0                            0   \n",
       "4                             0                            0   \n",
       "\n",
       "  DURACION_MEDIA_GRADUADOS TASA_EFICIENCIA FECHA_ACTUALIZACION  \n",
       "0                      NaN             NaN          30/10/2022  \n",
       "1                      NaN             NaN          30/10/2022  \n",
       "2                      NaN             NaN          30/10/2022  \n",
       "3                     7,00           70,00          30/10/2022  \n",
       "4                    11,00           75,72          30/10/2022  "
      ]
     },
     "execution_count": 8,
     "metadata": {},
     "output_type": "execute_result"
    }
   ],
   "source": [
    "data_set.head(5)"
   ]
  },
  {
   "cell_type": "markdown",
   "metadata": {
    "id": "z-to9qppZGF9"
   },
   "source": [
    "**VISUALIZACIÓN FINAL**"
   ]
  },
  {
   "cell_type": "code",
   "execution_count": 9,
   "metadata": {
    "colab": {
     "base_uri": "https://localhost:8080/",
     "height": 444
    },
    "id": "Ip1e69TNZPxn",
    "outputId": "b7d1202c-a957-44c4-f215-817762ad9d0f"
   },
   "outputs": [
    {
     "data": {
      "text/html": [
       "<div>\n",
       "<style scoped>\n",
       "    .dataframe tbody tr th:only-of-type {\n",
       "        vertical-align: middle;\n",
       "    }\n",
       "\n",
       "    .dataframe tbody tr th {\n",
       "        vertical-align: top;\n",
       "    }\n",
       "\n",
       "    .dataframe thead th {\n",
       "        text-align: right;\n",
       "    }\n",
       "</style>\n",
       "<table border=\"1\" class=\"dataframe\">\n",
       "  <thead>\n",
       "    <tr style=\"text-align: right;\">\n",
       "      <th></th>\n",
       "      <th>CURSO_ACADEMICO</th>\n",
       "      <th>LOCALIDAD</th>\n",
       "      <th>ESTUDIO</th>\n",
       "      <th>TIPO_ESTUDIO</th>\n",
       "      <th>TIPO_EGRESO</th>\n",
       "      <th>SEXO</th>\n",
       "      <th>ALUMNOS_GRADUADOS</th>\n",
       "      <th>ALUMNOS_INTERRUMPEN_ESTUDIOS</th>\n",
       "      <th>ALUMNOS_INTERRUMPEN_EST_ANO1</th>\n",
       "      <th>ALUMNOS_TRASLADAN_OTRA_UNIV</th>\n",
       "      <th>DURACION_MEDIA_GRADUADOS</th>\n",
       "      <th>TASA_EFICIENCIA</th>\n",
       "      <th>FECHA_ACTUALIZACION</th>\n",
       "    </tr>\n",
       "  </thead>\n",
       "  <tbody>\n",
       "    <tr>\n",
       "      <th>753</th>\n",
       "      <td>2021</td>\n",
       "      <td>Zaragoza</td>\n",
       "      <td>Relaciones Laborales</td>\n",
       "      <td>Diplomatura o equivalente</td>\n",
       "      <td>Traslado a otra Universidad</td>\n",
       "      <td>Hombres</td>\n",
       "      <td>0</td>\n",
       "      <td>0</td>\n",
       "      <td>0</td>\n",
       "      <td>1</td>\n",
       "      <td>NaN</td>\n",
       "      <td>NaN</td>\n",
       "      <td>30/10/2022</td>\n",
       "    </tr>\n",
       "    <tr>\n",
       "      <th>754</th>\n",
       "      <td>2021</td>\n",
       "      <td>Zaragoza</td>\n",
       "      <td>Relaciones Laborales</td>\n",
       "      <td>Diplomatura o equivalente</td>\n",
       "      <td>Traslado a otra Universidad</td>\n",
       "      <td>Mujeres</td>\n",
       "      <td>0</td>\n",
       "      <td>0</td>\n",
       "      <td>0</td>\n",
       "      <td>2</td>\n",
       "      <td>NaN</td>\n",
       "      <td>NaN</td>\n",
       "      <td>30/10/2022</td>\n",
       "    </tr>\n",
       "    <tr>\n",
       "      <th>755</th>\n",
       "      <td>2021</td>\n",
       "      <td>Zaragoza</td>\n",
       "      <td>Terapia Ocupacional</td>\n",
       "      <td>Diplomatura o equivalente</td>\n",
       "      <td>Traslado a otra Universidad</td>\n",
       "      <td>Mujeres</td>\n",
       "      <td>0</td>\n",
       "      <td>0</td>\n",
       "      <td>0</td>\n",
       "      <td>1</td>\n",
       "      <td>NaN</td>\n",
       "      <td>NaN</td>\n",
       "      <td>30/10/2022</td>\n",
       "    </tr>\n",
       "    <tr>\n",
       "      <th>756</th>\n",
       "      <td>2021</td>\n",
       "      <td>Zaragoza</td>\n",
       "      <td>Trabajo Social</td>\n",
       "      <td>Diplomatura o equivalente</td>\n",
       "      <td>Traslado a otra Universidad</td>\n",
       "      <td>Hombres</td>\n",
       "      <td>0</td>\n",
       "      <td>0</td>\n",
       "      <td>0</td>\n",
       "      <td>1</td>\n",
       "      <td>NaN</td>\n",
       "      <td>NaN</td>\n",
       "      <td>30/10/2022</td>\n",
       "    </tr>\n",
       "    <tr>\n",
       "      <th>757</th>\n",
       "      <td>2021</td>\n",
       "      <td>Zaragoza</td>\n",
       "      <td>Trabajo Social</td>\n",
       "      <td>Diplomatura o equivalente</td>\n",
       "      <td>Traslado a otra Universidad</td>\n",
       "      <td>Mujeres</td>\n",
       "      <td>0</td>\n",
       "      <td>0</td>\n",
       "      <td>0</td>\n",
       "      <td>1</td>\n",
       "      <td>NaN</td>\n",
       "      <td>NaN</td>\n",
       "      <td>30/10/2022</td>\n",
       "    </tr>\n",
       "  </tbody>\n",
       "</table>\n",
       "</div>"
      ],
      "text/plain": [
       "     CURSO_ACADEMICO LOCALIDAD               ESTUDIO  \\\n",
       "753             2021  Zaragoza  Relaciones Laborales   \n",
       "754             2021  Zaragoza  Relaciones Laborales   \n",
       "755             2021  Zaragoza   Terapia Ocupacional   \n",
       "756             2021  Zaragoza        Trabajo Social   \n",
       "757             2021  Zaragoza        Trabajo Social   \n",
       "\n",
       "                  TIPO_ESTUDIO                  TIPO_EGRESO     SEXO  \\\n",
       "753  Diplomatura o equivalente  Traslado a otra Universidad  Hombres   \n",
       "754  Diplomatura o equivalente  Traslado a otra Universidad  Mujeres   \n",
       "755  Diplomatura o equivalente  Traslado a otra Universidad  Mujeres   \n",
       "756  Diplomatura o equivalente  Traslado a otra Universidad  Hombres   \n",
       "757  Diplomatura o equivalente  Traslado a otra Universidad  Mujeres   \n",
       "\n",
       "     ALUMNOS_GRADUADOS  ALUMNOS_INTERRUMPEN_ESTUDIOS  \\\n",
       "753                  0                             0   \n",
       "754                  0                             0   \n",
       "755                  0                             0   \n",
       "756                  0                             0   \n",
       "757                  0                             0   \n",
       "\n",
       "     ALUMNOS_INTERRUMPEN_EST_ANO1  ALUMNOS_TRASLADAN_OTRA_UNIV  \\\n",
       "753                             0                            1   \n",
       "754                             0                            2   \n",
       "755                             0                            1   \n",
       "756                             0                            1   \n",
       "757                             0                            1   \n",
       "\n",
       "    DURACION_MEDIA_GRADUADOS TASA_EFICIENCIA FECHA_ACTUALIZACION  \n",
       "753                      NaN             NaN          30/10/2022  \n",
       "754                      NaN             NaN          30/10/2022  \n",
       "755                      NaN             NaN          30/10/2022  \n",
       "756                      NaN             NaN          30/10/2022  \n",
       "757                      NaN             NaN          30/10/2022  "
      ]
     },
     "execution_count": 9,
     "metadata": {},
     "output_type": "execute_result"
    }
   ],
   "source": [
    "data_set.tail(5)"
   ]
  },
  {
   "cell_type": "markdown",
   "metadata": {
    "id": "20t61gQtRl6k"
   },
   "source": [
    "**VISUALIZACIÓN TÉCNICA**"
   ]
  },
  {
   "cell_type": "code",
   "execution_count": 10,
   "metadata": {
    "colab": {
     "base_uri": "https://localhost:8080/"
    },
    "id": "K2AMyoJRRs6h",
    "outputId": "43e3976d-320c-44af-e727-708d45373d09"
   },
   "outputs": [
    {
     "name": "stdout",
     "output_type": "stream",
     "text": [
      "<class 'pandas.core.frame.DataFrame'>\n",
      "RangeIndex: 758 entries, 0 to 757\n",
      "Data columns (total 13 columns):\n",
      " #   Column                        Non-Null Count  Dtype \n",
      "---  ------                        --------------  ----- \n",
      " 0   CURSO_ACADEMICO               758 non-null    int64 \n",
      " 1   LOCALIDAD                     758 non-null    object\n",
      " 2   ESTUDIO                       758 non-null    object\n",
      " 3   TIPO_ESTUDIO                  758 non-null    object\n",
      " 4   TIPO_EGRESO                   758 non-null    object\n",
      " 5   SEXO                          758 non-null    object\n",
      " 6   ALUMNOS_GRADUADOS             758 non-null    int64 \n",
      " 7   ALUMNOS_INTERRUMPEN_ESTUDIOS  758 non-null    int64 \n",
      " 8   ALUMNOS_INTERRUMPEN_EST_ANO1  758 non-null    int64 \n",
      " 9   ALUMNOS_TRASLADAN_OTRA_UNIV   758 non-null    int64 \n",
      " 10  DURACION_MEDIA_GRADUADOS      291 non-null    object\n",
      " 11  TASA_EFICIENCIA               222 non-null    object\n",
      " 12  FECHA_ACTUALIZACION           758 non-null    object\n",
      "dtypes: int64(5), object(8)\n",
      "memory usage: 77.1+ KB\n"
     ]
    }
   ],
   "source": [
    "data_set.info()"
   ]
  },
  {
   "cell_type": "markdown",
   "metadata": {
    "id": "Vb1AtFCml7DA"
   },
   "source": [
    "**VISUALIZACIÓN CATEGÓRICA**"
   ]
  },
  {
   "cell_type": "code",
   "execution_count": 11,
   "metadata": {
    "colab": {
     "base_uri": "https://localhost:8080/"
    },
    "id": "o3CLMErgoLUf",
    "outputId": "955529b0-2fa9-430f-cbff-67da278d5e51"
   },
   "outputs": [
    {
     "name": "stdout",
     "output_type": "stream",
     "text": [
      "2021\n",
      "==========\n",
      "Almunia de Doña Godina (La)\n",
      "Huesca\n",
      "Teruel\n",
      "Zaragoza\n",
      "==========\n",
      "Grado: Arquitectura Técnica\n",
      "Grado: Ingeniería Civil\n",
      "Grado: Ingeniería de Organización Industrial\n",
      "Grado: Ingeniería Mecatrónica\n",
      "Grado: Programa conjunto en Ingeniería Mecatrónica-Ingeniería de Organización  Industrial\n",
      "Grado: Administración y Dirección de Empresas\n",
      "Grado: Ciencias Ambientales\n",
      "Grado: Ciencias de la Actividad Física y del Deporte\n",
      "Grado: Enfermería\n",
      "Grado: Gestión y Administración Pública\n",
      "Grado: Ingeniería Agroalimentaria y del Medio Rural\n",
      "Grado: Magisterio en Educación Infantil\n",
      "Grado: Magisterio en Educación Primaria\n",
      "Grado: Medicina\n",
      "Grado: Nutrición Humana y Dietética\n",
      "Grado: Odontología\n",
      "Grado: Programa conjunto en Nutrición Humana y Dietética-Ciencias de la Actividad Física y del Deporte\n",
      "Máster: Dirección y planificación del turismo\n",
      "Máster: Estudios Avanzados sobre el Lenguaje, la Comunicación y sus Patologías\n",
      "Máster: Evaluación y Entrenamiento Físico para la Salud\n",
      "Máster: Ingeniería Agronómica\n",
      "Máster: Profesorado E.S.O., F.P. y Ens. Idiom, Art y Deport\n",
      "Grado: Bellas Artes\n",
      "Grado: Ingeniería Electrónica y Automática\n",
      "Grado: Ingeniería Informática\n",
      "Grado: Psicología\n",
      "Ingeniero Técnico en Informática de Gestión\n",
      "Máster: Innovación y Emprendimiento en Tecnologías para la Salud y el Bienestar\n",
      "Máster: Psicología General Sanitaria\n",
      "Ciencias Empresariales\n",
      "Derecho\n",
      "Diplomado Ciencias Empresariales\n",
      "Doctorado: PD Bioquímica y biología molecular [RD 99/2011]\n",
      "Doctorado: PD Calidad, seguridad y tecnología de los alimentos [RD 99/2011]\n",
      "Doctorado: PD Ciencia analítica en química [RD 99/2011]\n",
      "Doctorado: PD Ciencias agrarias y del medio natural [RD 99/2011]\n",
      "Doctorado: PD Ciencias biomédicas y biotecnológicas [RD 99/2011]\n",
      "Doctorado: PD Ciencias de la antigüedad [RD 99/2011]\n",
      "Doctorado: PD Ciencias de la salud y del deporte [RD 99/2011]\n",
      "Doctorado: PD Contabilidad y finanzas [RD 99/2011]\n",
      "Doctorado: PD Derecho [RD 99/2011]\n",
      "Doctorado: PD Derechos humanos y libertades fundamentales [RD 99/2011]\n",
      "Doctorado: PD Economía [RD 99/2011]\n",
      "Doctorado: PD Economía y gestión de las organizaciones [RD 99/2011]\n",
      "Doctorado: PD Educación [RD 99/2011]\n",
      "Doctorado: PD Energías renovables y eficiencia energética [RD 99/2011]\n",
      "Doctorado: PD Estudios ingleses [RD 99/2011]\n",
      "Doctorado: PD Filosofía [RD 99/2011]\n",
      "Doctorado: PD Física [RD 99/2011]\n",
      "Doctorado: PD Geología [RD 99/2011]\n",
      "Doctorado: PD Historia contemporánea [RD 99/2011]\n",
      "Doctorado: PD Historia del arte [RD 99/2011]\n",
      "Doctorado: PD Historia, sociedad y cultura: épocas medieval y moderna [RD 99/2011]\n",
      "Doctorado: PD Información y Comunicación [RD 99/2011]\n",
      "Doctorado: PD Ingeniería biomédica [RD 99/2011]\n",
      "Doctorado: PD Ingeniería de diseño y fabricación [RD 99/2011]\n",
      "Doctorado: PD Ingeniería de sistemas e informática [RD 99/2011]\n",
      "Doctorado: PD Ingeniería electrónica [RD 99/2011]\n",
      "Doctorado: PD Ingeniería mecánica [RD 99/2011]\n",
      "Doctorado: PD Ingeniería química y del medio ambiente [RD 99/2011]\n",
      "Doctorado: PD Lingüística hispánica [RD 99/2011]\n",
      "Doctorado: PD Literaturas hispánicas [RD 99/2011]\n",
      "Doctorado: PD Matemáticas y estadística [RD 99/2011]\n",
      "Doctorado: PD Mecánica de fluidos [RD 99/2011]\n",
      "Doctorado: PD Medicina [RD 99/2011]\n",
      "Doctorado: PD Medicina y sanidad animal [RD 99/2011]\n",
      "Doctorado: PD Nuevos territorios en la arquitectura [RD 99/2011]\n",
      "Doctorado: PD Ordenación del territorio y medio ambiente [RD 99/2011]\n",
      "Doctorado: PD Producción animal [RD 99/2011]\n",
      "Doctorado: PD Química física [RD 99/2011]\n",
      "Doctorado: PD Química inorgánica [RD 99/2011]\n",
      "Doctorado: PD Química orgánica [RD 99/2011]\n",
      "Doctorado: PD Relaciones de género y estudios feministas [RD 99/2011]\n",
      "Doctorado: PD Sociología de las políticas públicas y sociales [RD 99/2011]\n",
      "Doctorado: PD Tecnologías de la información y comunicaciones en redes moviles [RD 99/2011]\n",
      "Filología Hispánica\n",
      "Filología Inglesa\n",
      "Físicas\n",
      "Geografía e Historia\n",
      "Grado: Biotecnología\n",
      "Grado: Ciencia y Tecnología de los Alimentos\n",
      "Grado: Derecho\n",
      "Grado: Economía\n",
      "Grado: Estudios Clásicos\n",
      "Grado: Estudios en Arquitectura\n",
      "Grado: Estudios Ingleses\n",
      "Grado: Filología Hispánica\n",
      "Grado: Filosofía\n",
      "Grado: Finanzas y Contabilidad\n",
      "Grado: Física\n",
      "Grado: Fisioterapia\n",
      "Grado: Geografía y Ordenación del Territorio\n",
      "Grado: Geología\n",
      "Grado: Historia\n",
      "Grado: Historia del Arte\n",
      "Grado: Información y Documentación\n",
      "Grado: Ingeniería de Tecnologías Industriales\n",
      "Grado: Ingeniería de Tecnologías y Servicios de Telecomunicación\n",
      "Grado: Ingeniería Electrica\n",
      "Grado: Ingeniería Mecánica\n",
      "Grado: Ingeniería Química\n",
      "Grado: Ingeniero en Diseño Industrial y Desarrollo de Producto\n",
      "Grado: Lenguas Modernas\n",
      "Grado: Marketing e Investigación de Mercados\n",
      "Grado: Matemáticas\n",
      "Grado: Óptica y Optometría\n",
      "Grado: Periodismo\n",
      "Grado: Programa conjunto en Derecho-Administración y Dirección de Empresas\n",
      "Grado: Programa conjunto en Matemáticas-Ingeniería Informática\n",
      "Grado: Programa conjunto Física-Matemáticas (FisMat)\n",
      "Grado: Química\n",
      "Grado: Relaciones Laborales y Recursos Humanos\n",
      "Grado: Terapia Ocupacional\n",
      "Grado: Trabajo Social\n",
      "Grado: Turismo\n",
      "Grado: Veterinaria\n",
      "Historia del Arte\n",
      "Ingeniero Industrial\n",
      "Ingeniero Técnico Industrial\n",
      "Ingeniero Técnico Industrial, Esp. Electricidad\n",
      "Licenciado en Economía\n",
      "Licenciado en Matemáticas\n",
      "Máster: Abogacía\n",
      "Máster: Aprendizaje a lo largo de la vida: Iniciación a la investigación\n",
      "Máster: Arquitectura\n",
      "Máster: Auditoría\n",
      "Máster: Biología Molecular y Celular\n",
      "Máster: Calidad, Seguridad y Tecnología de los Alimentos\n",
      "Máster: Cond. genéticos, nutric. y amb. del crec. y desarrollo\n",
      "Máster: Consultoría de Información y Comunicación Digital\n",
      "Máster: Contabilidad y Finanzas\n",
      "Máster: Derecho de la Administración Pública\n",
      "Máster: Dirección, Estrategia y Marketing\n",
      "Máster: Dirección y Gestión de Adquisiciones de Sistemas para la Defensa\n",
      "Máster: Economía\n",
      "Máster: Energías Renovables y Eficiencia Energética\n",
      "Máster: Enseñanza del Español como Lengua Extranjera\n",
      "Máster: Estudios Avanzados en Historia del Arte\n",
      "Máster: Física y Tecnologías Físicas\n",
      "Máster: Geología: Técnicas y Aplicaciones\n",
      "Máster: Gerontología Social\n",
      "Máster: Gestión Administrativa\n",
      "Máster: Gestión del Patrimonio Cultural\n",
      "Máster: Historia Contemporánea\n",
      "Máster: Ingeniería biomédica\n",
      "Máster: Ingeniería de Diseño de Producto\n",
      "Máster: Ingeniería de Telecomunicación\n",
      "Máster: Ingeniería Electrónica\n",
      "Máster: Ingeniería Industrial\n",
      "Máster: Ingeniería Informática\n",
      "Máster: Ingeniería Mecánica\n",
      "Máster: Ingeniería Química\n",
      "Máster: Iniciación a la Investigación en Ciencias de la Enfermería\n",
      "Máster: Iniciación a la investigación en Medicina\n",
      "Máster: Investigación en Filosofía\n",
      "Máster: Investigación y Estudios Avanzados en Historia\n",
      "Máster: Materiales nanoestructurados para aplicaciones nanotecnológicas\n",
      "Máster: Modelización e Investigación Matemática, Estadística y Computación\n",
      "Máster: Mundo Antiguo y Patrimonio Arqueológico\n",
      "Máster: Nutrición animal\n",
      "Máster: Ordenación Territorial y Medioambiental\n",
      "Máster: Prevención de riesgos laborales\n",
      "Máster: Química Industrial\n",
      "Máster: Química Molecular y Catálisis Homogénea\n",
      "Máster: Relaciones de Género\n",
      "Máster: Robótica, Gráficos y Visión por Computador/Robotics, Graphics and Computer Vision\n",
      "Máster: Salud Global: Integración de la Salud Ambiental, Humana y Animal\n",
      "Máster: Salud pública\n",
      "Máster: Sociología de las Políticas Públicas y Sociales\n",
      "Máster: Tec.Información Geográfica para Ordenación Territorio: Sig/Teled\n",
      "Relaciones Laborales\n",
      "Terapia Ocupacional\n",
      "Trabajo Social\n",
      "==========\n",
      "Grado\n",
      "Máster\n",
      "Diplomatura o equivalente\n",
      "Licenciatura o equivalente\n",
      "Doctorado\n",
      "==========\n",
      "Abandono Voluntario\n",
      "Cambio de estudios sin simultaneidad\n",
      "Graduado\n",
      "Incumple Régimen de permanencia\n",
      "Traslado a otra Universidad\n",
      "==========\n",
      "Hombres\n",
      "Mujeres\n"
     ]
    }
   ],
   "source": [
    "categoricals = [\n",
    "    \"CURSO_ACADEMICO\",\n",
    "    \"LOCALIDAD\",\n",
    "    \"ESTUDIO\",\n",
    "    \"TIPO_ESTUDIO\",\n",
    "    \"TIPO_EGRESO\",\n",
    "    \"SEXO\"\n",
    "]\n",
    "for i in data_set[categoricals[0]].unique():\n",
    "  print(i)\n",
    "print(\"==========\")\n",
    "for j in data_set[categoricals[1]].unique():\n",
    "  print(j)\n",
    "print(\"==========\")\n",
    "for k in data_set[categoricals[2]].unique():\n",
    "  print(k)\n",
    "print(\"==========\")\n",
    "for l in data_set[categoricals[3]].unique():\n",
    "  print(l)\n",
    "print(\"==========\")\n",
    "for m in data_set[categoricals[4]].unique():\n",
    "  print(m)\n",
    "print(\"==========\")\n",
    "for n in data_set[categoricals[5]].unique():\n",
    "  print(n)"
   ]
  },
  {
   "cell_type": "markdown",
   "metadata": {
    "id": "yNFCancxUgV0"
   },
   "source": [
    "**VISUALIZACIÓN NUMÉRICA**"
   ]
  },
  {
   "cell_type": "code",
   "execution_count": 12,
   "metadata": {
    "colab": {
     "base_uri": "https://localhost:8080/",
     "height": 300
    },
    "id": "7BH--IzbUjsc",
    "outputId": "03d544b1-dd55-4ca6-ded6-de81e84e702d"
   },
   "outputs": [
    {
     "data": {
      "text/html": [
       "<div>\n",
       "<style scoped>\n",
       "    .dataframe tbody tr th:only-of-type {\n",
       "        vertical-align: middle;\n",
       "    }\n",
       "\n",
       "    .dataframe tbody tr th {\n",
       "        vertical-align: top;\n",
       "    }\n",
       "\n",
       "    .dataframe thead th {\n",
       "        text-align: right;\n",
       "    }\n",
       "</style>\n",
       "<table border=\"1\" class=\"dataframe\">\n",
       "  <thead>\n",
       "    <tr style=\"text-align: right;\">\n",
       "      <th></th>\n",
       "      <th>ALUMNOS_GRADUADOS</th>\n",
       "      <th>ALUMNOS_INTERRUMPEN_ESTUDIOS</th>\n",
       "      <th>ALUMNOS_INTERRUMPEN_EST_ANO1</th>\n",
       "      <th>ALUMNOS_TRASLADAN_OTRA_UNIV</th>\n",
       "    </tr>\n",
       "  </thead>\n",
       "  <tbody>\n",
       "    <tr>\n",
       "      <th>count</th>\n",
       "      <td>758.000000</td>\n",
       "      <td>758.000000</td>\n",
       "      <td>758.000000</td>\n",
       "      <td>758.000000</td>\n",
       "    </tr>\n",
       "    <tr>\n",
       "      <th>mean</th>\n",
       "      <td>6.779683</td>\n",
       "      <td>2.630607</td>\n",
       "      <td>1.199208</td>\n",
       "      <td>0.349604</td>\n",
       "    </tr>\n",
       "    <tr>\n",
       "      <th>std</th>\n",
       "      <td>21.462209</td>\n",
       "      <td>6.833805</td>\n",
       "      <td>3.229430</td>\n",
       "      <td>1.309630</td>\n",
       "    </tr>\n",
       "    <tr>\n",
       "      <th>min</th>\n",
       "      <td>0.000000</td>\n",
       "      <td>0.000000</td>\n",
       "      <td>0.000000</td>\n",
       "      <td>0.000000</td>\n",
       "    </tr>\n",
       "    <tr>\n",
       "      <th>25%</th>\n",
       "      <td>0.000000</td>\n",
       "      <td>0.000000</td>\n",
       "      <td>0.000000</td>\n",
       "      <td>0.000000</td>\n",
       "    </tr>\n",
       "    <tr>\n",
       "      <th>50%</th>\n",
       "      <td>0.000000</td>\n",
       "      <td>0.000000</td>\n",
       "      <td>0.000000</td>\n",
       "      <td>0.000000</td>\n",
       "    </tr>\n",
       "    <tr>\n",
       "      <th>75%</th>\n",
       "      <td>4.000000</td>\n",
       "      <td>2.000000</td>\n",
       "      <td>1.000000</td>\n",
       "      <td>0.000000</td>\n",
       "    </tr>\n",
       "    <tr>\n",
       "      <th>max</th>\n",
       "      <td>233.000000</td>\n",
       "      <td>98.000000</td>\n",
       "      <td>37.000000</td>\n",
       "      <td>14.000000</td>\n",
       "    </tr>\n",
       "  </tbody>\n",
       "</table>\n",
       "</div>"
      ],
      "text/plain": [
       "       ALUMNOS_GRADUADOS  ALUMNOS_INTERRUMPEN_ESTUDIOS  \\\n",
       "count         758.000000                    758.000000   \n",
       "mean            6.779683                      2.630607   \n",
       "std            21.462209                      6.833805   \n",
       "min             0.000000                      0.000000   \n",
       "25%             0.000000                      0.000000   \n",
       "50%             0.000000                      0.000000   \n",
       "75%             4.000000                      2.000000   \n",
       "max           233.000000                     98.000000   \n",
       "\n",
       "       ALUMNOS_INTERRUMPEN_EST_ANO1  ALUMNOS_TRASLADAN_OTRA_UNIV  \n",
       "count                    758.000000                   758.000000  \n",
       "mean                       1.199208                     0.349604  \n",
       "std                        3.229430                     1.309630  \n",
       "min                        0.000000                     0.000000  \n",
       "25%                        0.000000                     0.000000  \n",
       "50%                        0.000000                     0.000000  \n",
       "75%                        1.000000                     0.000000  \n",
       "max                       37.000000                    14.000000  "
      ]
     },
     "execution_count": 12,
     "metadata": {},
     "output_type": "execute_result"
    }
   ],
   "source": [
    "numerics = [\n",
    "    \"ALUMNOS_GRADUADOS\",\n",
    "    \"ALUMNOS_INTERRUMPEN_ESTUDIOS\",\n",
    "    \"ALUMNOS_INTERRUMPEN_EST_ANO1\",\n",
    "    \"ALUMNOS_TRASLADAN_OTRA_UNIV\"\n",
    "]\n",
    "data_set[[\n",
    "    numerics[0],\n",
    "    numerics[1],\n",
    "    numerics[2],\n",
    "    numerics[3]\n",
    "]].describe()"
   ]
  },
  {
   "cell_type": "markdown",
   "metadata": {
    "id": "kPex-U0jXzYO"
   },
   "source": [
    "**VISUALIZACIÓN MICELANIA**"
   ]
  },
  {
   "cell_type": "code",
   "execution_count": 13,
   "metadata": {
    "id": "tOVuQUWRX3D8"
   },
   "outputs": [],
   "source": [
    "apparently_categoricals = [\n",
    "    \"DURACION_MEDIA_GRADUADOS\",\n",
    "    \"TASA_EFICIENCIA\",\n",
    "    \"FECHA_ACTUALIZACION\"\n",
    "]"
   ]
  },
  {
   "cell_type": "markdown",
   "metadata": {
    "id": "c-cT4A-UZ4Kw"
   },
   "source": [
    "# **FASE: \"DATA CLEANING\"**"
   ]
  },
  {
   "cell_type": "markdown",
   "metadata": {
    "id": "0pbMU7ALSAo7"
   },
   "source": [
    "**DEPURACIÓN DE VARIABLES INNECESARIAS**"
   ]
  },
  {
   "cell_type": "code",
   "execution_count": 14,
   "metadata": {
    "colab": {
     "base_uri": "https://localhost:8080/"
    },
    "id": "6K-xiyPsSP4D",
    "outputId": "e8851650-d9ab-4293-9777-ee1fc8ee72ef"
   },
   "outputs": [
    {
     "name": "stdout",
     "output_type": "stream",
     "text": [
      "Columna eliminada:CURSO_ACADEMICO\n",
      "Columna eliminada:FECHA_ACTUALIZACION\n"
     ]
    }
   ],
   "source": [
    "to_drop = [\n",
    "    \"CURSO_ACADEMICO\",\n",
    "    \"FECHA_ACTUALIZACION\"\n",
    "]\n",
    "try:\n",
    "  data_set.drop(columns = to_drop, inplace = True)\n",
    "  categoricals.remove(to_drop[0])\n",
    "  apparently_categoricals.remove(to_drop[1])\n",
    "except:\n",
    "  print(\"Ha ocurrido un error en la definición de columnas.\")\n",
    "else:\n",
    "  for i in to_drop:\n",
    "    print(\"Columna eliminada:\" + i)"
   ]
  },
  {
   "cell_type": "markdown",
   "metadata": {
    "id": "Ur2WrcFbfUqO"
   },
   "source": [
    "# **FASE: \"DATA CURATION\"**"
   ]
  },
  {
   "cell_type": "markdown",
   "metadata": {
    "id": "nNl51l2Nf6lJ"
   },
   "source": [
    "**CONVERSIÓN DE CATEGÓRICO A NUMÉRICO**"
   ]
  },
  {
   "cell_type": "code",
   "execution_count": 15,
   "metadata": {
    "colab": {
     "base_uri": "https://localhost:8080/"
    },
    "id": "ppSWb0rxgQ0N",
    "outputId": "0b92cb9e-363b-4f05-ceaa-50e821324c4a"
   },
   "outputs": [
    {
     "name": "stdout",
     "output_type": "stream",
     "text": [
      "Finalizado.\n"
     ]
    }
   ],
   "source": [
    "try:\n",
    "  data_set[categoricals[0]] = data_set[categoricals[0]].apply(\n",
    "      lambda z:\n",
    "      0 if z == \"Zaragoza\" else 1\n",
    "  )\n",
    "  data_set[categoricals[1]] = data_set[categoricals[1]].apply(\n",
    "      lambda z:\n",
    "      0 if z == \"Grado: Filosofía\" else 1\n",
    "  )\n",
    "  data_set[categoricals[2]] = data_set[categoricals[2]].apply(\n",
    "      lambda z:\n",
    "      0 if z == \"Grado\" else 1\n",
    "  )\n",
    "  data_set[categoricals[3]] = data_set[categoricals[3]].apply(\n",
    "      lambda z:\n",
    "      0 if z == \"Graduado\" else 1\n",
    "  )\n",
    "  data_set[categoricals[4]] = data_set[categoricals[4]].apply(\n",
    "      lambda z:\n",
    "      0 if z == \"Hombres\" else 1\n",
    "  )\n",
    "except:\n",
    "  print(\"Revisa la función anónima. No se ha podido procesar los cambios.\")\n",
    "else:\n",
    "  print(\"Finalizado.\")"
   ]
  },
  {
   "cell_type": "markdown",
   "metadata": {
    "id": "i8Jp7Uirhfvk"
   },
   "source": [
    "**CONVERSION DE APARENTE CATEGÓRICO A NUMÉRICO**"
   ]
  },
  {
   "cell_type": "code",
   "execution_count": 16,
   "metadata": {
    "colab": {
     "base_uri": "https://localhost:8080/"
    },
    "id": "IWT4ewrthj7X",
    "outputId": "1a46d1d6-0a9d-4d28-dff7-5a49e8aeaebf"
   },
   "outputs": [
    {
     "name": "stdout",
     "output_type": "stream",
     "text": [
      "Revisa la función anónima. No se ha podido procesar los cambios.\n"
     ]
    }
   ],
   "source": [
    "try:\n",
    "  data_set[apparently_categoricals[0]] = data_set[\n",
    "      apparently_categoricals[0]\n",
    "  ].str.replace(\",\", \".\").astype(numpy.float64)\n",
    "  data_set[apparently_categoricals[1]] = data_set[\n",
    "      apparently_categoricals[1]\n",
    "  ].str.replace(\",\", \".\").astype(numpy.float64)\n",
    "except:\n",
    "  print(\"Revisa la función anónima. No se ha podido procesar los cambios.\")\n",
    "else:\n",
    "  print(\"Finalizado.\")"
   ]
  },
  {
   "cell_type": "markdown",
   "metadata": {
    "id": "g49VJ3XCpSVu"
   },
   "source": [
    "**ASIGNACIÓN DE VALOR PARA REGISTROS \"NaN\"**"
   ]
  },
  {
   "cell_type": "code",
   "execution_count": 17,
   "metadata": {
    "id": "msFXAWN4zTHv"
   },
   "outputs": [],
   "source": [
    "data_set[apparently_categoricals[0]] = data_set[\n",
    "    apparently_categoricals[0]\n",
    "].fillna(0)\n",
    "data_set[apparently_categoricals[1]] = data_set[\n",
    "    apparently_categoricals[1]\n",
    "].fillna(0)"
   ]
  },
  {
   "cell_type": "markdown",
   "metadata": {
    "id": "p7WKqUi0w0em"
   },
   "source": [
    "**ACTUALIZACIÓN DE LISTAS**"
   ]
  },
  {
   "cell_type": "code",
   "execution_count": 18,
   "metadata": {
    "id": "xkEN88-7w3Jb"
   },
   "outputs": [],
   "source": [
    "numerics.append(apparently_categoricals[0])\n",
    "numerics.append(apparently_categoricals[1])"
   ]
  },
  {
   "cell_type": "markdown",
   "metadata": {
    "id": "68ABIgZDfm6d"
   },
   "source": [
    "# **VISUALIZACIÓN DE RESULTADOS**"
   ]
  },
  {
   "cell_type": "markdown",
   "metadata": {
    "id": "A2LdIuCdv81g"
   },
   "source": [
    "**RECAPITULACIÓN**"
   ]
  },
  {
   "cell_type": "code",
   "execution_count": 19,
   "metadata": {
    "colab": {
     "base_uri": "https://localhost:8080/"
    },
    "id": "egGSCvibv7Qo",
    "outputId": "1bc1a6dc-b723-4812-a38b-3575b4c106ee"
   },
   "outputs": [
    {
     "name": "stdout",
     "output_type": "stream",
     "text": [
      "<class 'pandas.core.frame.DataFrame'>\n",
      "RangeIndex: 758 entries, 0 to 757\n",
      "Data columns (total 11 columns):\n",
      " #   Column                        Non-Null Count  Dtype \n",
      "---  ------                        --------------  ----- \n",
      " 0   LOCALIDAD                     758 non-null    int64 \n",
      " 1   ESTUDIO                       758 non-null    int64 \n",
      " 2   TIPO_ESTUDIO                  758 non-null    int64 \n",
      " 3   TIPO_EGRESO                   758 non-null    int64 \n",
      " 4   SEXO                          758 non-null    int64 \n",
      " 5   ALUMNOS_GRADUADOS             758 non-null    int64 \n",
      " 6   ALUMNOS_INTERRUMPEN_ESTUDIOS  758 non-null    int64 \n",
      " 7   ALUMNOS_INTERRUMPEN_EST_ANO1  758 non-null    int64 \n",
      " 8   ALUMNOS_TRASLADAN_OTRA_UNIV   758 non-null    int64 \n",
      " 9   DURACION_MEDIA_GRADUADOS      758 non-null    object\n",
      " 10  TASA_EFICIENCIA               758 non-null    object\n",
      "dtypes: int64(9), object(2)\n",
      "memory usage: 65.3+ KB\n"
     ]
    }
   ],
   "source": [
    "data_set.info()"
   ]
  },
  {
   "cell_type": "markdown",
   "metadata": {
    "id": "gYItd0sWwbGz"
   },
   "source": [
    "**GRÁFICOS DE VARIABLES**"
   ]
  },
  {
   "cell_type": "code",
   "execution_count": 20,
   "metadata": {
    "colab": {
     "base_uri": "https://localhost:8080/",
     "height": 1000
    },
    "id": "b1XEojoH9BF7",
    "outputId": "e9e7c998-35c0-4239-e243-e104507984cb"
   },
   "outputs": [
    {
     "data": {
      "text/plain": [
       "array([[<Axes: title={'center': 'LOCALIDAD'}>,\n",
       "        <Axes: title={'center': 'ESTUDIO'}>,\n",
       "        <Axes: title={'center': 'TIPO_ESTUDIO'}>],\n",
       "       [<Axes: title={'center': 'TIPO_EGRESO'}>,\n",
       "        <Axes: title={'center': 'SEXO'}>,\n",
       "        <Axes: title={'center': 'ALUMNOS_GRADUADOS'}>],\n",
       "       [<Axes: title={'center': 'ALUMNOS_INTERRUMPEN_ESTUDIOS'}>,\n",
       "        <Axes: title={'center': 'ALUMNOS_INTERRUMPEN_EST_ANO1'}>,\n",
       "        <Axes: title={'center': 'ALUMNOS_TRASLADAN_OTRA_UNIV'}>]],\n",
       "      dtype=object)"
      ]
     },
     "execution_count": 20,
     "metadata": {},
     "output_type": "execute_result"
    },
    {
     "data": {
      "image/png": "[encoded data removed]",
      "text/plain": [
       "<Figure size 2000x2000 with 9 Axes>"
      ]
     },
     "metadata": {},
     "output_type": "display_data"
    }
   ],
   "source": [
    "data_set.hist(\n",
    "    density = False,\n",
    "    figsize = (20, 20),\n",
    "    histtype = \"bar\",\n",
    "    orientation = \"vertical\"\n",
    ")"
   ]
  },
  {
   "cell_type": "markdown",
   "metadata": {
    "id": "Mi7mpHHLrDDx"
   },
   "source": [
    "# **ANÁLISIS DEL \"DATA SET\" PREPROCESADO**"
   ]
  },
  {
   "cell_type": "markdown",
   "metadata": {
    "id": "Q3EOivsvsU_F"
   },
   "source": [
    "**ENFOQUE EN LA VARIABLE \"GRADUACIÓN\"**"
   ]
  },
  {
   "cell_type": "code",
   "execution_count": 21,
   "metadata": {
    "colab": {
     "base_uri": "https://localhost:8080/"
    },
    "id": "zuwfsrQj1U5k",
    "outputId": "d97f2968-97b4-4eeb-9343-a4f35a3d89f7"
   },
   "outputs": [
    {
     "name": "stdout",
     "output_type": "stream",
     "text": [
      "Variables categóricas:  ['LOCALIDAD', 'ESTUDIO', 'TIPO_ESTUDIO', 'TIPO_EGRESO', 'SEXO']\n",
      "variables numéricas:  ['ALUMNOS_GRADUADOS', 'ALUMNOS_INTERRUMPEN_ESTUDIOS', 'ALUMNOS_INTERRUMPEN_EST_ANO1', 'ALUMNOS_TRASLADAN_OTRA_UNIV', 'DURACION_MEDIA_GRADUADOS', 'TASA_EFICIENCIA']\n"
     ]
    }
   ],
   "source": [
    "print(\"Variables categóricas: \", categoricals)\n",
    "print(\"variables numéricas: \", numerics)"
   ]
  },
  {
   "cell_type": "code",
   "execution_count": 22,
   "metadata": {
    "colab": {
     "base_uri": "https://localhost:8080/"
    },
    "id": "ZZ4EFh9AscCw",
    "outputId": "719f9c17-81e7-427e-de54-5aff9088149f"
   },
   "outputs": [
    {
     "name": "stdout",
     "output_type": "stream",
     "text": [
      "Total: 758\n",
      "Alumnos graduados: 298\n",
      "% Egresados: 39.31398416886543 %\n",
      "Alumnos no graduados: 460\n",
      "% No egresados: 60.68601583113457 %\n"
     ]
    }
   ],
   "source": [
    "egresados = data_set[data_set[categoricals[3]] == 0]\n",
    "no_egresados = data_set[data_set[categoricals[3]] == 1]\n",
    "total = len(data_set)\n",
    "cantidad_egresados = len(egresados)\n",
    "cantidad_no_egresados = len(no_egresados)\n",
    "print(\"Total:\", total)\n",
    "print(\"Alumnos graduados:\", cantidad_egresados)\n",
    "print(\"% Egresados:\", 1.*cantidad_egresados/total*100.0, \"%\")\n",
    "print(\"Alumnos no graduados:\", cantidad_no_egresados)\n",
    "print(\"% No egresados:\", 1.*cantidad_no_egresados/total*100.0, \"%\")"
   ]
  },
  {
   "cell_type": "markdown",
   "metadata": {
    "id": "or-fBVvDrLmE"
   },
   "source": [
    "**CORRELACIONES CON GRADUACIÓN**"
   ]
  },
  {
   "cell_type": "code",
   "execution_count": 23,
   "metadata": {
    "colab": {
     "base_uri": "https://localhost:8080/",
     "height": 1000
    },
    "id": "cmsGlAmprJ2B",
    "outputId": "9abde081-21fd-46fc-b976-d15e49a7878c"
   },
   "outputs": [
    {
     "data": {
      "image/png": "[encoded data removed]",
      "text/plain": [
       "<Figure size 2000x2000 with 2 Axes>"
      ]
     },
     "metadata": {},
     "output_type": "display_data"
    }
   ],
   "source": [
    "# Identificar columnas que deberían ser numéricas\n",
    "numerics_to_fix = [\"DURACION_MEDIA_GRADUADOS\", \"TASA_EFICIENCIA\"]\n",
    "\n",
    "# Reemplazar comas por puntos y convertir a float\n",
    "for col in numerics_to_fix:\n",
    "    data_set[col] = data_set[col].str.replace(',', '.').astype(float)\n",
    "\n",
    "# Ahora calcula las correlaciones\n",
    "correlations = data_set.corr()\n",
    "\n",
    "# Graficar el heatmap de correlaciones\n",
    "f, ax = plt.subplots(figsize=(20, 20))\n",
    "sns.heatmap(correlations, annot=True, cmap='coolwarm')\n",
    "plt.show()\n"
   ]
  },
  {
   "cell_type": "markdown",
   "metadata": {
    "id": "NxHpJ5crnZYP"
   },
   "source": [
    "# **SEPARACIÓN DEL \"DATA SET\"**"
   ]
  },
  {
   "cell_type": "markdown",
   "metadata": {
    "id": "045USZ4z2sME"
   },
   "source": [
    "**GRUPO DE ENTRADA**"
   ]
  },
  {
   "cell_type": "code",
   "execution_count": 24,
   "metadata": {
    "colab": {
     "base_uri": "https://localhost:8080/",
     "height": 424
    },
    "id": "Phhgc8_nnftA",
    "outputId": "4daaf6b6-d077-466b-c0b8-bedbd381a1e3"
   },
   "outputs": [
    {
     "data": {
      "text/html": [
       "<div>\n",
       "<style scoped>\n",
       "    .dataframe tbody tr th:only-of-type {\n",
       "        vertical-align: middle;\n",
       "    }\n",
       "\n",
       "    .dataframe tbody tr th {\n",
       "        vertical-align: top;\n",
       "    }\n",
       "\n",
       "    .dataframe thead th {\n",
       "        text-align: right;\n",
       "    }\n",
       "</style>\n",
       "<table border=\"1\" class=\"dataframe\">\n",
       "  <thead>\n",
       "    <tr style=\"text-align: right;\">\n",
       "      <th></th>\n",
       "      <th>DURACION_MEDIA_GRADUADOS</th>\n",
       "      <th>TASA_EFICIENCIA</th>\n",
       "      <th>ALUMNOS_INTERRUMPEN_ESTUDIOS</th>\n",
       "      <th>ALUMNOS_INTERRUMPEN_EST_ANO1</th>\n",
       "    </tr>\n",
       "  </thead>\n",
       "  <tbody>\n",
       "    <tr>\n",
       "      <th>0</th>\n",
       "      <td>NaN</td>\n",
       "      <td>NaN</td>\n",
       "      <td>12</td>\n",
       "      <td>5</td>\n",
       "    </tr>\n",
       "    <tr>\n",
       "      <th>1</th>\n",
       "      <td>NaN</td>\n",
       "      <td>NaN</td>\n",
       "      <td>5</td>\n",
       "      <td>3</td>\n",
       "    </tr>\n",
       "    <tr>\n",
       "      <th>2</th>\n",
       "      <td>NaN</td>\n",
       "      <td>NaN</td>\n",
       "      <td>1</td>\n",
       "      <td>1</td>\n",
       "    </tr>\n",
       "    <tr>\n",
       "      <th>3</th>\n",
       "      <td>7.0</td>\n",
       "      <td>70.00</td>\n",
       "      <td>0</td>\n",
       "      <td>0</td>\n",
       "    </tr>\n",
       "    <tr>\n",
       "      <th>4</th>\n",
       "      <td>11.0</td>\n",
       "      <td>75.72</td>\n",
       "      <td>0</td>\n",
       "      <td>0</td>\n",
       "    </tr>\n",
       "    <tr>\n",
       "      <th>...</th>\n",
       "      <td>...</td>\n",
       "      <td>...</td>\n",
       "      <td>...</td>\n",
       "      <td>...</td>\n",
       "    </tr>\n",
       "    <tr>\n",
       "      <th>753</th>\n",
       "      <td>NaN</td>\n",
       "      <td>NaN</td>\n",
       "      <td>0</td>\n",
       "      <td>0</td>\n",
       "    </tr>\n",
       "    <tr>\n",
       "      <th>754</th>\n",
       "      <td>NaN</td>\n",
       "      <td>NaN</td>\n",
       "      <td>0</td>\n",
       "      <td>0</td>\n",
       "    </tr>\n",
       "    <tr>\n",
       "      <th>755</th>\n",
       "      <td>NaN</td>\n",
       "      <td>NaN</td>\n",
       "      <td>0</td>\n",
       "      <td>0</td>\n",
       "    </tr>\n",
       "    <tr>\n",
       "      <th>756</th>\n",
       "      <td>NaN</td>\n",
       "      <td>NaN</td>\n",
       "      <td>0</td>\n",
       "      <td>0</td>\n",
       "    </tr>\n",
       "    <tr>\n",
       "      <th>757</th>\n",
       "      <td>NaN</td>\n",
       "      <td>NaN</td>\n",
       "      <td>0</td>\n",
       "      <td>0</td>\n",
       "    </tr>\n",
       "  </tbody>\n",
       "</table>\n",
       "<p>758 rows × 4 columns</p>\n",
       "</div>"
      ],
      "text/plain": [
       "     DURACION_MEDIA_GRADUADOS  TASA_EFICIENCIA  ALUMNOS_INTERRUMPEN_ESTUDIOS  \\\n",
       "0                         NaN              NaN                            12   \n",
       "1                         NaN              NaN                             5   \n",
       "2                         NaN              NaN                             1   \n",
       "3                         7.0            70.00                             0   \n",
       "4                        11.0            75.72                             0   \n",
       "..                        ...              ...                           ...   \n",
       "753                       NaN              NaN                             0   \n",
       "754                       NaN              NaN                             0   \n",
       "755                       NaN              NaN                             0   \n",
       "756                       NaN              NaN                             0   \n",
       "757                       NaN              NaN                             0   \n",
       "\n",
       "     ALUMNOS_INTERRUMPEN_EST_ANO1  \n",
       "0                               5  \n",
       "1                               3  \n",
       "2                               1  \n",
       "3                               0  \n",
       "4                               0  \n",
       "..                            ...  \n",
       "753                             0  \n",
       "754                             0  \n",
       "755                             0  \n",
       "756                             0  \n",
       "757                             0  \n",
       "\n",
       "[758 rows x 4 columns]"
      ]
     },
     "execution_count": 24,
     "metadata": {},
     "output_type": "execute_result"
    }
   ],
   "source": [
    "x_num = data_set[\n",
    "    [\n",
    "        numerics[4],\n",
    "        numerics[5],\n",
    "        numerics[1],\n",
    "        numerics[2]\n",
    "    ]\n",
    "]\n",
    "x_num"
   ]
  },
  {
   "cell_type": "markdown",
   "metadata": {
    "id": "6DSt5m0r5djs"
   },
   "source": [
    "**CODIFICACIÓN DE VALORES**"
   ]
  },
  {
   "cell_type": "code",
   "execution_count": 25,
   "metadata": {
    "colab": {
     "base_uri": "https://localhost:8080/",
     "height": 424
    },
    "id": "4sCzAWLO4YEP",
    "outputId": "d24c21b7-7b89-4790-f4e3-2275a385a335"
   },
   "outputs": [
    {
     "data": {
      "text/html": [
       "<div>\n",
       "<style scoped>\n",
       "    .dataframe tbody tr th:only-of-type {\n",
       "        vertical-align: middle;\n",
       "    }\n",
       "\n",
       "    .dataframe tbody tr th {\n",
       "        vertical-align: top;\n",
       "    }\n",
       "\n",
       "    .dataframe thead th {\n",
       "        text-align: right;\n",
       "    }\n",
       "</style>\n",
       "<table border=\"1\" class=\"dataframe\">\n",
       "  <thead>\n",
       "    <tr style=\"text-align: right;\">\n",
       "      <th></th>\n",
       "      <th>0</th>\n",
       "      <th>1</th>\n",
       "      <th>2</th>\n",
       "      <th>3</th>\n",
       "      <th>4</th>\n",
       "      <th>5</th>\n",
       "      <th>6</th>\n",
       "      <th>7</th>\n",
       "      <th>8</th>\n",
       "      <th>9</th>\n",
       "      <th>...</th>\n",
       "      <th>351</th>\n",
       "      <th>352</th>\n",
       "      <th>353</th>\n",
       "      <th>354</th>\n",
       "      <th>355</th>\n",
       "      <th>356</th>\n",
       "      <th>357</th>\n",
       "      <th>358</th>\n",
       "      <th>359</th>\n",
       "      <th>360</th>\n",
       "    </tr>\n",
       "  </thead>\n",
       "  <tbody>\n",
       "    <tr>\n",
       "      <th>0</th>\n",
       "      <td>0.0</td>\n",
       "      <td>0.0</td>\n",
       "      <td>0.0</td>\n",
       "      <td>0.0</td>\n",
       "      <td>0.0</td>\n",
       "      <td>0.0</td>\n",
       "      <td>0.0</td>\n",
       "      <td>0.0</td>\n",
       "      <td>0.0</td>\n",
       "      <td>0.0</td>\n",
       "      <td>...</td>\n",
       "      <td>0.0</td>\n",
       "      <td>0.0</td>\n",
       "      <td>0.0</td>\n",
       "      <td>0.0</td>\n",
       "      <td>0.0</td>\n",
       "      <td>0.0</td>\n",
       "      <td>0.0</td>\n",
       "      <td>0.0</td>\n",
       "      <td>0.0</td>\n",
       "      <td>0.0</td>\n",
       "    </tr>\n",
       "    <tr>\n",
       "      <th>1</th>\n",
       "      <td>0.0</td>\n",
       "      <td>0.0</td>\n",
       "      <td>0.0</td>\n",
       "      <td>0.0</td>\n",
       "      <td>0.0</td>\n",
       "      <td>0.0</td>\n",
       "      <td>0.0</td>\n",
       "      <td>0.0</td>\n",
       "      <td>0.0</td>\n",
       "      <td>0.0</td>\n",
       "      <td>...</td>\n",
       "      <td>0.0</td>\n",
       "      <td>0.0</td>\n",
       "      <td>0.0</td>\n",
       "      <td>0.0</td>\n",
       "      <td>0.0</td>\n",
       "      <td>0.0</td>\n",
       "      <td>0.0</td>\n",
       "      <td>0.0</td>\n",
       "      <td>0.0</td>\n",
       "      <td>0.0</td>\n",
       "    </tr>\n",
       "    <tr>\n",
       "      <th>2</th>\n",
       "      <td>0.0</td>\n",
       "      <td>0.0</td>\n",
       "      <td>0.0</td>\n",
       "      <td>0.0</td>\n",
       "      <td>0.0</td>\n",
       "      <td>0.0</td>\n",
       "      <td>0.0</td>\n",
       "      <td>0.0</td>\n",
       "      <td>0.0</td>\n",
       "      <td>0.0</td>\n",
       "      <td>...</td>\n",
       "      <td>0.0</td>\n",
       "      <td>0.0</td>\n",
       "      <td>0.0</td>\n",
       "      <td>0.0</td>\n",
       "      <td>0.0</td>\n",
       "      <td>0.0</td>\n",
       "      <td>0.0</td>\n",
       "      <td>0.0</td>\n",
       "      <td>0.0</td>\n",
       "      <td>0.0</td>\n",
       "    </tr>\n",
       "    <tr>\n",
       "      <th>3</th>\n",
       "      <td>0.0</td>\n",
       "      <td>0.0</td>\n",
       "      <td>0.0</td>\n",
       "      <td>0.0</td>\n",
       "      <td>0.0</td>\n",
       "      <td>0.0</td>\n",
       "      <td>0.0</td>\n",
       "      <td>0.0</td>\n",
       "      <td>0.0</td>\n",
       "      <td>0.0</td>\n",
       "      <td>...</td>\n",
       "      <td>0.0</td>\n",
       "      <td>0.0</td>\n",
       "      <td>0.0</td>\n",
       "      <td>0.0</td>\n",
       "      <td>0.0</td>\n",
       "      <td>0.0</td>\n",
       "      <td>0.0</td>\n",
       "      <td>0.0</td>\n",
       "      <td>0.0</td>\n",
       "      <td>0.0</td>\n",
       "    </tr>\n",
       "    <tr>\n",
       "      <th>4</th>\n",
       "      <td>0.0</td>\n",
       "      <td>0.0</td>\n",
       "      <td>0.0</td>\n",
       "      <td>0.0</td>\n",
       "      <td>0.0</td>\n",
       "      <td>0.0</td>\n",
       "      <td>0.0</td>\n",
       "      <td>0.0</td>\n",
       "      <td>0.0</td>\n",
       "      <td>0.0</td>\n",
       "      <td>...</td>\n",
       "      <td>0.0</td>\n",
       "      <td>0.0</td>\n",
       "      <td>0.0</td>\n",
       "      <td>0.0</td>\n",
       "      <td>0.0</td>\n",
       "      <td>0.0</td>\n",
       "      <td>0.0</td>\n",
       "      <td>0.0</td>\n",
       "      <td>0.0</td>\n",
       "      <td>0.0</td>\n",
       "    </tr>\n",
       "  </tbody>\n",
       "</table>\n",
       "<p>5 rows × 361 columns</p>\n",
       "</div>"
      ],
      "text/plain": [
       "   0    1    2    3    4    5    6    7    8    9    ...  351  352  353  354  \\\n",
       "0  0.0  0.0  0.0  0.0  0.0  0.0  0.0  0.0  0.0  0.0  ...  0.0  0.0  0.0  0.0   \n",
       "1  0.0  0.0  0.0  0.0  0.0  0.0  0.0  0.0  0.0  0.0  ...  0.0  0.0  0.0  0.0   \n",
       "2  0.0  0.0  0.0  0.0  0.0  0.0  0.0  0.0  0.0  0.0  ...  0.0  0.0  0.0  0.0   \n",
       "3  0.0  0.0  0.0  0.0  0.0  0.0  0.0  0.0  0.0  0.0  ...  0.0  0.0  0.0  0.0   \n",
       "4  0.0  0.0  0.0  0.0  0.0  0.0  0.0  0.0  0.0  0.0  ...  0.0  0.0  0.0  0.0   \n",
       "\n",
       "   355  356  357  358  359  360  \n",
       "0  0.0  0.0  0.0  0.0  0.0  0.0  \n",
       "1  0.0  0.0  0.0  0.0  0.0  0.0  \n",
       "2  0.0  0.0  0.0  0.0  0.0  0.0  \n",
       "3  0.0  0.0  0.0  0.0  0.0  0.0  \n",
       "4  0.0  0.0  0.0  0.0  0.0  0.0  \n",
       "\n",
       "[5 rows x 361 columns]"
      ]
     },
     "execution_count": 25,
     "metadata": {},
     "output_type": "execute_result"
    }
   ],
   "source": [
    "from sklearn.preprocessing import OneHotEncoder\n",
    "import pandas as pd\n",
    "\n",
    "# Suponiendo que x_num ya está definido como un DataFrame o matriz\n",
    "one_hot_encoder = OneHotEncoder()\n",
    "x = one_hot_encoder.fit_transform(x_num).toarray()\n",
    "\n",
    "# Creación de un DataFrame con pandas\n",
    "x = pd.DataFrame(x)\n",
    "x.head()  # Para visualizar las primeras filas del DataFrame\n"
   ]
  },
  {
   "cell_type": "markdown",
   "metadata": {
    "id": "xmDyM41A5iCV"
   },
   "source": [
    "**UNIFICACIÓN DE \"DATA FRAMES\"**"
   ]
  },
  {
   "cell_type": "code",
   "execution_count": 26,
   "metadata": {
    "colab": {
     "base_uri": "https://localhost:8080/",
     "height": 488
    },
    "id": "tsjSGb656D9g",
    "outputId": "bf7b6933-5a72-421e-cb56-60684bfe2bc2"
   },
   "outputs": [
    {
     "ename": "NameError",
     "evalue": "name 'pandas' is not defined",
     "output_type": "error",
     "traceback": [
      "\u001b[1;31m---------------------------------------------------------------------------\u001b[0m",
      "\u001b[1;31mNameError\u001b[0m                                 Traceback (most recent call last)",
      "Cell \u001b[1;32mIn[26], line 4\u001b[0m\n\u001b[0;32m      1\u001b[0m \u001b[38;5;28;01mfrom\u001b[39;00m \u001b[38;5;21;01msklearn\u001b[39;00m\u001b[38;5;21;01m.\u001b[39;00m\u001b[38;5;21;01mpreprocessing\u001b[39;00m \u001b[38;5;28;01mimport\u001b[39;00m OneHotEncoder\n\u001b[0;32m      2\u001b[0m \u001b[38;5;28;01mimport\u001b[39;00m \u001b[38;5;21;01mpandas\u001b[39;00m \u001b[38;5;28;01mas\u001b[39;00m \u001b[38;5;21;01mpd\u001b[39;00m\n\u001b[1;32m----> 4\u001b[0m x_join \u001b[38;5;241m=\u001b[39m \u001b[43mpandas\u001b[49m\u001b[38;5;241m.\u001b[39mconcat([x, x_num], axis \u001b[38;5;241m=\u001b[39m \u001b[38;5;241m1\u001b[39m)\n\u001b[0;32m      5\u001b[0m x_join\n",
      "\u001b[1;31mNameError\u001b[0m: name 'pandas' is not defined"
     ]
    }
   ],
   "source": [
    "from sklearn.preprocessing import OneHotEncoder\n",
    "import pandas as pd\n",
    "\n",
    "x_join = pandas.concat([x, x_num], axis = 1)\n",
    "x_join"
   ]
  },
  {
   "cell_type": "markdown",
   "metadata": {
    "id": "7txQZzMf6f8h"
   },
   "source": [
    "**ESCALADO DE GRUPOS**"
   ]
  },
  {
   "cell_type": "code",
   "execution_count": null,
   "metadata": {
    "colab": {
     "base_uri": "https://localhost:8080/"
    },
    "id": "VeA2axiW6jxC",
    "outputId": "e11db48b-61a3-46fa-a639-2061addeb4ef"
   },
   "outputs": [
    {
     "ename": "TypeError",
     "evalue": "Feature names are only supported if all input features have string names, but your input has ['int', 'str'] as feature name / column name types. If you want feature names to be stored and validated, you must convert them all to strings, by using X.columns = X.columns.astype(str) for example. Otherwise you can remove feature / column names from your input data, or convert them all to a non-string data type.",
     "output_type": "error",
     "traceback": [
      "\u001b[1;31m---------------------------------------------------------------------------\u001b[0m",
      "\u001b[1;31mTypeError\u001b[0m                                 Traceback (most recent call last)",
      "Cell \u001b[1;32mIn[27], line 2\u001b[0m\n\u001b[0;32m      1\u001b[0m scaler \u001b[38;5;241m=\u001b[39m MinMaxScaler()\n\u001b[1;32m----> 2\u001b[0m x_scl \u001b[38;5;241m=\u001b[39m \u001b[43mscaler\u001b[49m\u001b[38;5;241;43m.\u001b[39;49m\u001b[43mfit_transform\u001b[49m\u001b[43m(\u001b[49m\u001b[43mx_join\u001b[49m\u001b[43m)\u001b[49m\n\u001b[0;32m      3\u001b[0m x_scl\n",
      "File \u001b[1;32mc:\\Users\\Jhack Alberth\\AppData\\Local\\Programs\\Python\\Python312\\Lib\\site-packages\\sklearn\\utils\\_set_output.py:313\u001b[0m, in \u001b[0;36m_wrap_method_output.<locals>.wrapped\u001b[1;34m(self, X, *args, **kwargs)\u001b[0m\n\u001b[0;32m    311\u001b[0m \u001b[38;5;129m@wraps\u001b[39m(f)\n\u001b[0;32m    312\u001b[0m \u001b[38;5;28;01mdef\u001b[39;00m \u001b[38;5;21mwrapped\u001b[39m(\u001b[38;5;28mself\u001b[39m, X, \u001b[38;5;241m*\u001b[39margs, \u001b[38;5;241m*\u001b[39m\u001b[38;5;241m*\u001b[39mkwargs):\n\u001b[1;32m--> 313\u001b[0m     data_to_wrap \u001b[38;5;241m=\u001b[39m \u001b[43mf\u001b[49m\u001b[43m(\u001b[49m\u001b[38;5;28;43mself\u001b[39;49m\u001b[43m,\u001b[49m\u001b[43m \u001b[49m\u001b[43mX\u001b[49m\u001b[43m,\u001b[49m\u001b[43m \u001b[49m\u001b[38;5;241;43m*\u001b[39;49m\u001b[43margs\u001b[49m\u001b[43m,\u001b[49m\u001b[43m \u001b[49m\u001b[38;5;241;43m*\u001b[39;49m\u001b[38;5;241;43m*\u001b[39;49m\u001b[43mkwargs\u001b[49m\u001b[43m)\u001b[49m\n\u001b[0;32m    314\u001b[0m     \u001b[38;5;28;01mif\u001b[39;00m \u001b[38;5;28misinstance\u001b[39m(data_to_wrap, \u001b[38;5;28mtuple\u001b[39m):\n\u001b[0;32m    315\u001b[0m         \u001b[38;5;66;03m# only wrap the first output for cross decomposition\u001b[39;00m\n\u001b[0;32m    316\u001b[0m         return_tuple \u001b[38;5;241m=\u001b[39m (\n\u001b[0;32m    317\u001b[0m             _wrap_data_with_container(method, data_to_wrap[\u001b[38;5;241m0\u001b[39m], X, \u001b[38;5;28mself\u001b[39m),\n\u001b[0;32m    318\u001b[0m             \u001b[38;5;241m*\u001b[39mdata_to_wrap[\u001b[38;5;241m1\u001b[39m:],\n\u001b[0;32m    319\u001b[0m         )\n",
      "File \u001b[1;32mc:\\Users\\Jhack Alberth\\AppData\\Local\\Programs\\Python\\Python312\\Lib\\site-packages\\sklearn\\base.py:1098\u001b[0m, in \u001b[0;36mTransformerMixin.fit_transform\u001b[1;34m(self, X, y, **fit_params)\u001b[0m\n\u001b[0;32m   1083\u001b[0m         warnings\u001b[38;5;241m.\u001b[39mwarn(\n\u001b[0;32m   1084\u001b[0m             (\n\u001b[0;32m   1085\u001b[0m                 \u001b[38;5;124mf\u001b[39m\u001b[38;5;124m\"\u001b[39m\u001b[38;5;124mThis object (\u001b[39m\u001b[38;5;132;01m{\u001b[39;00m\u001b[38;5;28mself\u001b[39m\u001b[38;5;241m.\u001b[39m\u001b[38;5;18m__class__\u001b[39m\u001b[38;5;241m.\u001b[39m\u001b[38;5;18m__name__\u001b[39m\u001b[38;5;132;01m}\u001b[39;00m\u001b[38;5;124m) has a `transform`\u001b[39m\u001b[38;5;124m\"\u001b[39m\n\u001b[1;32m   (...)\u001b[0m\n\u001b[0;32m   1093\u001b[0m             \u001b[38;5;167;01mUserWarning\u001b[39;00m,\n\u001b[0;32m   1094\u001b[0m         )\n\u001b[0;32m   1096\u001b[0m \u001b[38;5;28;01mif\u001b[39;00m y \u001b[38;5;129;01mis\u001b[39;00m \u001b[38;5;28;01mNone\u001b[39;00m:\n\u001b[0;32m   1097\u001b[0m     \u001b[38;5;66;03m# fit method of arity 1 (unsupervised transformation)\u001b[39;00m\n\u001b[1;32m-> 1098\u001b[0m     \u001b[38;5;28;01mreturn\u001b[39;00m \u001b[38;5;28;43mself\u001b[39;49m\u001b[38;5;241;43m.\u001b[39;49m\u001b[43mfit\u001b[49m\u001b[43m(\u001b[49m\u001b[43mX\u001b[49m\u001b[43m,\u001b[49m\u001b[43m \u001b[49m\u001b[38;5;241;43m*\u001b[39;49m\u001b[38;5;241;43m*\u001b[39;49m\u001b[43mfit_params\u001b[49m\u001b[43m)\u001b[49m\u001b[38;5;241m.\u001b[39mtransform(X)\n\u001b[0;32m   1099\u001b[0m \u001b[38;5;28;01melse\u001b[39;00m:\n\u001b[0;32m   1100\u001b[0m     \u001b[38;5;66;03m# fit method of arity 2 (supervised transformation)\u001b[39;00m\n\u001b[0;32m   1101\u001b[0m     \u001b[38;5;28;01mreturn\u001b[39;00m \u001b[38;5;28mself\u001b[39m\u001b[38;5;241m.\u001b[39mfit(X, y, \u001b[38;5;241m*\u001b[39m\u001b[38;5;241m*\u001b[39mfit_params)\u001b[38;5;241m.\u001b[39mtransform(X)\n",
      "File \u001b[1;32mc:\\Users\\Jhack Alberth\\AppData\\Local\\Programs\\Python\\Python312\\Lib\\site-packages\\sklearn\\preprocessing\\_data.py:450\u001b[0m, in \u001b[0;36mMinMaxScaler.fit\u001b[1;34m(self, X, y)\u001b[0m\n\u001b[0;32m    448\u001b[0m \u001b[38;5;66;03m# Reset internal state before fitting\u001b[39;00m\n\u001b[0;32m    449\u001b[0m \u001b[38;5;28mself\u001b[39m\u001b[38;5;241m.\u001b[39m_reset()\n\u001b[1;32m--> 450\u001b[0m \u001b[38;5;28;01mreturn\u001b[39;00m \u001b[38;5;28;43mself\u001b[39;49m\u001b[38;5;241;43m.\u001b[39;49m\u001b[43mpartial_fit\u001b[49m\u001b[43m(\u001b[49m\u001b[43mX\u001b[49m\u001b[43m,\u001b[49m\u001b[43m \u001b[49m\u001b[43my\u001b[49m\u001b[43m)\u001b[49m\n",
      "File \u001b[1;32mc:\\Users\\Jhack Alberth\\AppData\\Local\\Programs\\Python\\Python312\\Lib\\site-packages\\sklearn\\base.py:1473\u001b[0m, in \u001b[0;36m_fit_context.<locals>.decorator.<locals>.wrapper\u001b[1;34m(estimator, *args, **kwargs)\u001b[0m\n\u001b[0;32m   1466\u001b[0m     estimator\u001b[38;5;241m.\u001b[39m_validate_params()\n\u001b[0;32m   1468\u001b[0m \u001b[38;5;28;01mwith\u001b[39;00m config_context(\n\u001b[0;32m   1469\u001b[0m     skip_parameter_validation\u001b[38;5;241m=\u001b[39m(\n\u001b[0;32m   1470\u001b[0m         prefer_skip_nested_validation \u001b[38;5;129;01mor\u001b[39;00m global_skip_validation\n\u001b[0;32m   1471\u001b[0m     )\n\u001b[0;32m   1472\u001b[0m ):\n\u001b[1;32m-> 1473\u001b[0m     \u001b[38;5;28;01mreturn\u001b[39;00m \u001b[43mfit_method\u001b[49m\u001b[43m(\u001b[49m\u001b[43mestimator\u001b[49m\u001b[43m,\u001b[49m\u001b[43m \u001b[49m\u001b[38;5;241;43m*\u001b[39;49m\u001b[43margs\u001b[49m\u001b[43m,\u001b[49m\u001b[43m \u001b[49m\u001b[38;5;241;43m*\u001b[39;49m\u001b[38;5;241;43m*\u001b[39;49m\u001b[43mkwargs\u001b[49m\u001b[43m)\u001b[49m\n",
      "File \u001b[1;32mc:\\Users\\Jhack Alberth\\AppData\\Local\\Programs\\Python\\Python312\\Lib\\site-packages\\sklearn\\preprocessing\\_data.py:490\u001b[0m, in \u001b[0;36mMinMaxScaler.partial_fit\u001b[1;34m(self, X, y)\u001b[0m\n\u001b[0;32m    487\u001b[0m xp, _ \u001b[38;5;241m=\u001b[39m get_namespace(X)\n\u001b[0;32m    489\u001b[0m first_pass \u001b[38;5;241m=\u001b[39m \u001b[38;5;129;01mnot\u001b[39;00m \u001b[38;5;28mhasattr\u001b[39m(\u001b[38;5;28mself\u001b[39m, \u001b[38;5;124m\"\u001b[39m\u001b[38;5;124mn_samples_seen_\u001b[39m\u001b[38;5;124m\"\u001b[39m)\n\u001b[1;32m--> 490\u001b[0m X \u001b[38;5;241m=\u001b[39m \u001b[38;5;28;43mself\u001b[39;49m\u001b[38;5;241;43m.\u001b[39;49m\u001b[43m_validate_data\u001b[49m\u001b[43m(\u001b[49m\n\u001b[0;32m    491\u001b[0m \u001b[43m    \u001b[49m\u001b[43mX\u001b[49m\u001b[43m,\u001b[49m\n\u001b[0;32m    492\u001b[0m \u001b[43m    \u001b[49m\u001b[43mreset\u001b[49m\u001b[38;5;241;43m=\u001b[39;49m\u001b[43mfirst_pass\u001b[49m\u001b[43m,\u001b[49m\n\u001b[0;32m    493\u001b[0m \u001b[43m    \u001b[49m\u001b[43mdtype\u001b[49m\u001b[38;5;241;43m=\u001b[39;49m\u001b[43m_array_api\u001b[49m\u001b[38;5;241;43m.\u001b[39;49m\u001b[43msupported_float_dtypes\u001b[49m\u001b[43m(\u001b[49m\u001b[43mxp\u001b[49m\u001b[43m)\u001b[49m\u001b[43m,\u001b[49m\n\u001b[0;32m    494\u001b[0m \u001b[43m    \u001b[49m\u001b[43mforce_all_finite\u001b[49m\u001b[38;5;241;43m=\u001b[39;49m\u001b[38;5;124;43m\"\u001b[39;49m\u001b[38;5;124;43mallow-nan\u001b[39;49m\u001b[38;5;124;43m\"\u001b[39;49m\u001b[43m,\u001b[49m\n\u001b[0;32m    495\u001b[0m \u001b[43m\u001b[49m\u001b[43m)\u001b[49m\n\u001b[0;32m    497\u001b[0m data_min \u001b[38;5;241m=\u001b[39m _array_api\u001b[38;5;241m.\u001b[39m_nanmin(X, axis\u001b[38;5;241m=\u001b[39m\u001b[38;5;241m0\u001b[39m, xp\u001b[38;5;241m=\u001b[39mxp)\n\u001b[0;32m    498\u001b[0m data_max \u001b[38;5;241m=\u001b[39m _array_api\u001b[38;5;241m.\u001b[39m_nanmax(X, axis\u001b[38;5;241m=\u001b[39m\u001b[38;5;241m0\u001b[39m, xp\u001b[38;5;241m=\u001b[39mxp)\n",
      "File \u001b[1;32mc:\\Users\\Jhack Alberth\\AppData\\Local\\Programs\\Python\\Python312\\Lib\\site-packages\\sklearn\\base.py:608\u001b[0m, in \u001b[0;36mBaseEstimator._validate_data\u001b[1;34m(self, X, y, reset, validate_separately, cast_to_ndarray, **check_params)\u001b[0m\n\u001b[0;32m    537\u001b[0m \u001b[38;5;28;01mdef\u001b[39;00m \u001b[38;5;21m_validate_data\u001b[39m(\n\u001b[0;32m    538\u001b[0m     \u001b[38;5;28mself\u001b[39m,\n\u001b[0;32m    539\u001b[0m     X\u001b[38;5;241m=\u001b[39m\u001b[38;5;124m\"\u001b[39m\u001b[38;5;124mno_validation\u001b[39m\u001b[38;5;124m\"\u001b[39m,\n\u001b[1;32m   (...)\u001b[0m\n\u001b[0;32m    544\u001b[0m     \u001b[38;5;241m*\u001b[39m\u001b[38;5;241m*\u001b[39mcheck_params,\n\u001b[0;32m    545\u001b[0m ):\n\u001b[0;32m    546\u001b[0m \u001b[38;5;250m    \u001b[39m\u001b[38;5;124;03m\"\"\"Validate input data and set or check the `n_features_in_` attribute.\u001b[39;00m\n\u001b[0;32m    547\u001b[0m \n\u001b[0;32m    548\u001b[0m \u001b[38;5;124;03m    Parameters\u001b[39;00m\n\u001b[1;32m   (...)\u001b[0m\n\u001b[0;32m    606\u001b[0m \u001b[38;5;124;03m        validated.\u001b[39;00m\n\u001b[0;32m    607\u001b[0m \u001b[38;5;124;03m    \"\"\"\u001b[39;00m\n\u001b[1;32m--> 608\u001b[0m     \u001b[38;5;28;43mself\u001b[39;49m\u001b[38;5;241;43m.\u001b[39;49m\u001b[43m_check_feature_names\u001b[49m\u001b[43m(\u001b[49m\u001b[43mX\u001b[49m\u001b[43m,\u001b[49m\u001b[43m \u001b[49m\u001b[43mreset\u001b[49m\u001b[38;5;241;43m=\u001b[39;49m\u001b[43mreset\u001b[49m\u001b[43m)\u001b[49m\n\u001b[0;32m    610\u001b[0m     \u001b[38;5;28;01mif\u001b[39;00m y \u001b[38;5;129;01mis\u001b[39;00m \u001b[38;5;28;01mNone\u001b[39;00m \u001b[38;5;129;01mand\u001b[39;00m \u001b[38;5;28mself\u001b[39m\u001b[38;5;241m.\u001b[39m_get_tags()[\u001b[38;5;124m\"\u001b[39m\u001b[38;5;124mrequires_y\u001b[39m\u001b[38;5;124m\"\u001b[39m]:\n\u001b[0;32m    611\u001b[0m         \u001b[38;5;28;01mraise\u001b[39;00m \u001b[38;5;167;01mValueError\u001b[39;00m(\n\u001b[0;32m    612\u001b[0m             \u001b[38;5;124mf\u001b[39m\u001b[38;5;124m\"\u001b[39m\u001b[38;5;124mThis \u001b[39m\u001b[38;5;132;01m{\u001b[39;00m\u001b[38;5;28mself\u001b[39m\u001b[38;5;241m.\u001b[39m\u001b[38;5;18m__class__\u001b[39m\u001b[38;5;241m.\u001b[39m\u001b[38;5;18m__name__\u001b[39m\u001b[38;5;132;01m}\u001b[39;00m\u001b[38;5;124m estimator \u001b[39m\u001b[38;5;124m\"\u001b[39m\n\u001b[0;32m    613\u001b[0m             \u001b[38;5;124m\"\u001b[39m\u001b[38;5;124mrequires y to be passed, but the target y is None.\u001b[39m\u001b[38;5;124m\"\u001b[39m\n\u001b[0;32m    614\u001b[0m         )\n",
      "File \u001b[1;32mc:\\Users\\Jhack Alberth\\AppData\\Local\\Programs\\Python\\Python312\\Lib\\site-packages\\sklearn\\base.py:469\u001b[0m, in \u001b[0;36mBaseEstimator._check_feature_names\u001b[1;34m(self, X, reset)\u001b[0m\n\u001b[0;32m    449\u001b[0m \u001b[38;5;250m\u001b[39m\u001b[38;5;124;03m\"\"\"Set or check the `feature_names_in_` attribute.\u001b[39;00m\n\u001b[0;32m    450\u001b[0m \n\u001b[0;32m    451\u001b[0m \u001b[38;5;124;03m.. versionadded:: 1.0\u001b[39;00m\n\u001b[1;32m   (...)\u001b[0m\n\u001b[0;32m    465\u001b[0m \u001b[38;5;124;03m       should set `reset=False`.\u001b[39;00m\n\u001b[0;32m    466\u001b[0m \u001b[38;5;124;03m\"\"\"\u001b[39;00m\n\u001b[0;32m    468\u001b[0m \u001b[38;5;28;01mif\u001b[39;00m reset:\n\u001b[1;32m--> 469\u001b[0m     feature_names_in \u001b[38;5;241m=\u001b[39m \u001b[43m_get_feature_names\u001b[49m\u001b[43m(\u001b[49m\u001b[43mX\u001b[49m\u001b[43m)\u001b[49m\n\u001b[0;32m    470\u001b[0m     \u001b[38;5;28;01mif\u001b[39;00m feature_names_in \u001b[38;5;129;01mis\u001b[39;00m \u001b[38;5;129;01mnot\u001b[39;00m \u001b[38;5;28;01mNone\u001b[39;00m:\n\u001b[0;32m    471\u001b[0m         \u001b[38;5;28mself\u001b[39m\u001b[38;5;241m.\u001b[39mfeature_names_in_ \u001b[38;5;241m=\u001b[39m feature_names_in\n",
      "File \u001b[1;32mc:\\Users\\Jhack Alberth\\AppData\\Local\\Programs\\Python\\Python312\\Lib\\site-packages\\sklearn\\utils\\validation.py:2279\u001b[0m, in \u001b[0;36m_get_feature_names\u001b[1;34m(X)\u001b[0m\n\u001b[0;32m   2277\u001b[0m \u001b[38;5;66;03m# mixed type of string and non-string is not supported\u001b[39;00m\n\u001b[0;32m   2278\u001b[0m \u001b[38;5;28;01mif\u001b[39;00m \u001b[38;5;28mlen\u001b[39m(types) \u001b[38;5;241m>\u001b[39m \u001b[38;5;241m1\u001b[39m \u001b[38;5;129;01mand\u001b[39;00m \u001b[38;5;124m\"\u001b[39m\u001b[38;5;124mstr\u001b[39m\u001b[38;5;124m\"\u001b[39m \u001b[38;5;129;01min\u001b[39;00m types:\n\u001b[1;32m-> 2279\u001b[0m     \u001b[38;5;28;01mraise\u001b[39;00m \u001b[38;5;167;01mTypeError\u001b[39;00m(\n\u001b[0;32m   2280\u001b[0m         \u001b[38;5;124m\"\u001b[39m\u001b[38;5;124mFeature names are only supported if all input features have string names, \u001b[39m\u001b[38;5;124m\"\u001b[39m\n\u001b[0;32m   2281\u001b[0m         \u001b[38;5;124mf\u001b[39m\u001b[38;5;124m\"\u001b[39m\u001b[38;5;124mbut your input has \u001b[39m\u001b[38;5;132;01m{\u001b[39;00mtypes\u001b[38;5;132;01m}\u001b[39;00m\u001b[38;5;124m as feature name / column name types. \u001b[39m\u001b[38;5;124m\"\u001b[39m\n\u001b[0;32m   2282\u001b[0m         \u001b[38;5;124m\"\u001b[39m\u001b[38;5;124mIf you want feature names to be stored and validated, you must convert \u001b[39m\u001b[38;5;124m\"\u001b[39m\n\u001b[0;32m   2283\u001b[0m         \u001b[38;5;124m\"\u001b[39m\u001b[38;5;124mthem all to strings, by using X.columns = X.columns.astype(str) for \u001b[39m\u001b[38;5;124m\"\u001b[39m\n\u001b[0;32m   2284\u001b[0m         \u001b[38;5;124m\"\u001b[39m\u001b[38;5;124mexample. Otherwise you can remove feature / column names from your input \u001b[39m\u001b[38;5;124m\"\u001b[39m\n\u001b[0;32m   2285\u001b[0m         \u001b[38;5;124m\"\u001b[39m\u001b[38;5;124mdata, or convert them all to a non-string data type.\u001b[39m\u001b[38;5;124m\"\u001b[39m\n\u001b[0;32m   2286\u001b[0m     )\n\u001b[0;32m   2288\u001b[0m \u001b[38;5;66;03m# Only feature names of all strings are supported\u001b[39;00m\n\u001b[0;32m   2289\u001b[0m \u001b[38;5;28;01mif\u001b[39;00m \u001b[38;5;28mlen\u001b[39m(types) \u001b[38;5;241m==\u001b[39m \u001b[38;5;241m1\u001b[39m \u001b[38;5;129;01mand\u001b[39;00m types[\u001b[38;5;241m0\u001b[39m] \u001b[38;5;241m==\u001b[39m \u001b[38;5;124m\"\u001b[39m\u001b[38;5;124mstr\u001b[39m\u001b[38;5;124m\"\u001b[39m:\n",
      "\u001b[1;31mTypeError\u001b[0m: Feature names are only supported if all input features have string names, but your input has ['int', 'str'] as feature name / column name types. If you want feature names to be stored and validated, you must convert them all to strings, by using X.columns = X.columns.astype(str) for example. Otherwise you can remove feature / column names from your input data, or convert them all to a non-string data type."
     ]
    }
   ],
   "source": [
    "scaler = MinMaxScaler()\n",
    "x_scl = scaler.fit_transform(x_join)\n",
    "x_scl"
   ]
  },
  {
   "cell_type": "markdown",
   "metadata": {
    "id": "iLMpewtF7K7K"
   },
   "source": [
    "**GRUPO DE SALIDA**"
   ]
  },
  {
   "cell_type": "code",
   "execution_count": null,
   "metadata": {
    "colab": {
     "base_uri": "https://localhost:8080/"
    },
    "id": "2s-Uv5kX7SLR",
    "outputId": "6a4694ce-0c26-4166-a3fd-90c9b209aa95"
   },
   "outputs": [
    {
     "data": {
      "text/plain": [
       "0      1\n",
       "1      1\n",
       "2      1\n",
       "3      0\n",
       "4      0\n",
       "      ..\n",
       "753    1\n",
       "754    1\n",
       "755    1\n",
       "756    1\n",
       "757    1\n",
       "Name: TIPO_EGRESO, Length: 758, dtype: int64"
      ]
     },
     "execution_count": 27,
     "metadata": {},
     "output_type": "execute_result"
    }
   ],
   "source": [
    "y = data_set[categoricals[3]]\n",
    "y"
   ]
  },
  {
   "cell_type": "markdown",
   "metadata": {
    "id": "5SQUQFff7_ct"
   },
   "source": [
    "# **DESARROLLO DEL MODELO**"
   ]
  },
  {
   "cell_type": "markdown",
   "metadata": {
    "id": "ncJRlaeB8ETh"
   },
   "source": [
    "**ASIGNACIÓN DE PARTES**"
   ]
  },
  {
   "cell_type": "code",
   "execution_count": null,
   "metadata": {
    "id": "dCiek7vK8Dd_"
   },
   "outputs": [],
   "source": [
    "x_train, x_test, y_train, y_test = train_test_split(x_scl, y, test_size = 0.25)"
   ]
  },
  {
   "cell_type": "code",
   "execution_count": null,
   "metadata": {
    "colab": {
     "base_uri": "https://localhost:8080/"
    },
    "id": "mL6rVMy2_SmO",
    "outputId": "5372281e-d3c1-4822-8df0-419f4f730c15"
   },
   "outputs": [
    {
     "data": {
      "text/plain": [
       "(568, 365)"
      ]
     },
     "execution_count": 29,
     "metadata": {},
     "output_type": "execute_result"
    }
   ],
   "source": [
    "x_train.shape"
   ]
  },
  {
   "cell_type": "code",
   "execution_count": null,
   "metadata": {
    "colab": {
     "base_uri": "https://localhost:8080/"
    },
    "id": "ZhEmulCf_Xsz",
    "outputId": "d8bef757-990a-4eda-be4d-9546e0dad781"
   },
   "outputs": [
    {
     "data": {
      "text/plain": [
       "(190, 365)"
      ]
     },
     "execution_count": 30,
     "metadata": {},
     "output_type": "execute_result"
    }
   ],
   "source": [
    "x_test.shape"
   ]
  },
  {
   "cell_type": "markdown",
   "metadata": {
    "id": "nDF__tCR8iIH"
   },
   "source": [
    "**RED NEURONAL**"
   ]
  },
  {
   "cell_type": "code",
   "execution_count": null,
   "metadata": {
    "id": "EOqp1ysn8wBI"
   },
   "outputs": [],
   "source": [
    "model = tensorflow.keras.models.Sequential()\n",
    "model.add(tensorflow.keras.layers.Dense(\n",
    "    units = 500,\n",
    "    activation='relu',\n",
    "    input_shape=(365, ))\n",
    ")\n",
    "model.add(tensorflow.keras.layers.Dense(units = 500, activation='relu'))\n",
    "model.add(tensorflow.keras.layers.Dense(units = 500, activation='relu'))\n",
    "model.add(tensorflow.keras.layers.Dense(units = 500, activation='relu'))\n",
    "model.add(tensorflow.keras.layers.Dense(units = 500, activation='relu'))\n",
    "model.add(tensorflow.keras.layers.Dense(units = 500, activation='relu'))\n",
    "model.add(tensorflow.keras.layers.Dense(units = 1, activation='sigmoid'))"
   ]
  },
  {
   "cell_type": "code",
   "execution_count": null,
   "metadata": {
    "colab": {
     "base_uri": "https://localhost:8080/"
    },
    "id": "pXIjjPA4874n",
    "outputId": "b1642f8a-e68c-4743-d6b7-85e6516e5d44"
   },
   "outputs": [
    {
     "name": "stdout",
     "output_type": "stream",
     "text": [
      "Model: \"sequential\"\n",
      "_________________________________________________________________\n",
      " Layer (type)                Output Shape              Param #   \n",
      "=================================================================\n",
      " dense (Dense)               (None, 500)               183000    \n",
      "                                                                 \n",
      " dense_1 (Dense)             (None, 500)               250500    \n",
      "                                                                 \n",
      " dense_2 (Dense)             (None, 500)               250500    \n",
      "                                                                 \n",
      " dense_3 (Dense)             (None, 500)               250500    \n",
      "                                                                 \n",
      " dense_4 (Dense)             (None, 500)               250500    \n",
      "                                                                 \n",
      " dense_5 (Dense)             (None, 500)               250500    \n",
      "                                                                 \n",
      " dense_6 (Dense)             (None, 1)                 501       \n",
      "                                                                 \n",
      "=================================================================\n",
      "Total params: 1,436,001\n",
      "Trainable params: 1,436,001\n",
      "Non-trainable params: 0\n",
      "_________________________________________________________________\n"
     ]
    }
   ],
   "source": [
    "model.summary()"
   ]
  },
  {
   "cell_type": "code",
   "execution_count": null,
   "metadata": {
    "id": "tsMFwuXr89FW"
   },
   "outputs": [],
   "source": [
    "model.compile(\n",
    "    optimizer='Adam',\n",
    "    loss = 'binary_crossentropy',\n",
    "    metrics=['accuracy']\n",
    ")"
   ]
  },
  {
   "cell_type": "markdown",
   "metadata": {
    "id": "mjCHQIJ59nkf"
   },
   "source": [
    "# **ENTRENAMIENTO DEL MODELO**"
   ]
  },
  {
   "cell_type": "markdown",
   "metadata": {
    "id": "BYxafznC9hzy"
   },
   "source": [
    "**UTILIZACIÓN DE RED NEURONAL**"
   ]
  },
  {
   "cell_type": "code",
   "execution_count": null,
   "metadata": {
    "colab": {
     "base_uri": "https://localhost:8080/"
    },
    "id": "runnUpwR9Aey",
    "outputId": "a74fdf29-71ba-41ba-9e59-8258d3c40f87"
   },
   "outputs": [
    {
     "name": "stdout",
     "output_type": "stream",
     "text": [
      "Epoch 1/100\n",
      "12/12 [==============================] - 1s 21ms/step - loss: 0.2701 - accuracy: 0.9313\n",
      "Epoch 2/100\n",
      "12/12 [==============================] - 0s 20ms/step - loss: 0.1034 - accuracy: 0.9824\n",
      "Epoch 3/100\n",
      "12/12 [==============================] - 0s 19ms/step - loss: 0.0864 - accuracy: 0.9912\n",
      "Epoch 4/100\n",
      "12/12 [==============================] - 0s 19ms/step - loss: 0.0253 - accuracy: 0.9947\n",
      "Epoch 5/100\n",
      "12/12 [==============================] - 0s 20ms/step - loss: 0.0268 - accuracy: 0.9947\n",
      "Epoch 6/100\n",
      "12/12 [==============================] - 0s 20ms/step - loss: 0.0221 - accuracy: 0.9947\n",
      "Epoch 7/100\n",
      "12/12 [==============================] - 0s 19ms/step - loss: 0.0239 - accuracy: 0.9947\n",
      "Epoch 8/100\n",
      "12/12 [==============================] - 0s 20ms/step - loss: 0.0226 - accuracy: 0.9947\n",
      "Epoch 9/100\n",
      "12/12 [==============================] - 0s 20ms/step - loss: 0.0232 - accuracy: 0.9947\n",
      "Epoch 10/100\n",
      "12/12 [==============================] - 0s 21ms/step - loss: 0.0320 - accuracy: 0.9947\n",
      "Epoch 11/100\n",
      "12/12 [==============================] - 0s 19ms/step - loss: 0.0279 - accuracy: 0.9947\n",
      "Epoch 12/100\n",
      "12/12 [==============================] - 0s 19ms/step - loss: 0.0236 - accuracy: 0.9947\n",
      "Epoch 13/100\n",
      "12/12 [==============================] - 0s 19ms/step - loss: 0.0230 - accuracy: 0.9947\n",
      "Epoch 14/100\n",
      "12/12 [==============================] - 0s 20ms/step - loss: 0.0236 - accuracy: 0.9947\n",
      "Epoch 15/100\n",
      "12/12 [==============================] - 0s 19ms/step - loss: 0.0231 - accuracy: 0.9947\n",
      "Epoch 16/100\n",
      "12/12 [==============================] - 0s 19ms/step - loss: 0.0255 - accuracy: 0.9947\n",
      "Epoch 17/100\n",
      "12/12 [==============================] - 0s 19ms/step - loss: 0.0247 - accuracy: 0.9947\n",
      "Epoch 18/100\n",
      "12/12 [==============================] - 0s 20ms/step - loss: 0.0244 - accuracy: 0.9947\n",
      "Epoch 19/100\n",
      "12/12 [==============================] - 0s 19ms/step - loss: 0.0243 - accuracy: 0.9947\n",
      "Epoch 20/100\n",
      "12/12 [==============================] - 0s 19ms/step - loss: 0.0236 - accuracy: 0.9947\n",
      "Epoch 21/100\n",
      "12/12 [==============================] - 0s 19ms/step - loss: 0.0239 - accuracy: 0.9947\n",
      "Epoch 22/100\n",
      "12/12 [==============================] - 0s 19ms/step - loss: 0.0220 - accuracy: 0.9947\n",
      "Epoch 23/100\n",
      "12/12 [==============================] - 0s 19ms/step - loss: 0.0226 - accuracy: 0.9947\n",
      "Epoch 24/100\n",
      "12/12 [==============================] - 0s 19ms/step - loss: 0.0284 - accuracy: 0.9947\n",
      "Epoch 25/100\n",
      "12/12 [==============================] - 0s 18ms/step - loss: 0.0314 - accuracy: 0.9947\n",
      "Epoch 26/100\n",
      "12/12 [==============================] - 0s 19ms/step - loss: 0.0247 - accuracy: 0.9947\n",
      "Epoch 27/100\n",
      "12/12 [==============================] - 0s 21ms/step - loss: 0.0250 - accuracy: 0.9947\n",
      "Epoch 28/100\n",
      "12/12 [==============================] - 0s 19ms/step - loss: 0.0230 - accuracy: 0.9947\n",
      "Epoch 29/100\n",
      "12/12 [==============================] - 0s 19ms/step - loss: 0.0231 - accuracy: 0.9947\n",
      "Epoch 30/100\n",
      "12/12 [==============================] - 0s 18ms/step - loss: 0.0223 - accuracy: 0.9947\n",
      "Epoch 31/100\n",
      "12/12 [==============================] - 0s 21ms/step - loss: 0.0232 - accuracy: 0.9947\n",
      "Epoch 32/100\n",
      "12/12 [==============================] - 0s 20ms/step - loss: 0.0232 - accuracy: 0.9947\n",
      "Epoch 33/100\n",
      "12/12 [==============================] - 0s 19ms/step - loss: 0.0245 - accuracy: 0.9947\n",
      "Epoch 34/100\n",
      "12/12 [==============================] - 0s 18ms/step - loss: 0.0227 - accuracy: 0.9947\n",
      "Epoch 35/100\n",
      "12/12 [==============================] - 0s 20ms/step - loss: 0.0227 - accuracy: 0.9947\n",
      "Epoch 36/100\n",
      "12/12 [==============================] - 0s 19ms/step - loss: 0.0227 - accuracy: 0.9947\n",
      "Epoch 37/100\n",
      "12/12 [==============================] - 0s 19ms/step - loss: 0.0228 - accuracy: 0.9947\n",
      "Epoch 38/100\n",
      "12/12 [==============================] - 0s 19ms/step - loss: 0.0227 - accuracy: 0.9947\n",
      "Epoch 39/100\n",
      "12/12 [==============================] - 0s 19ms/step - loss: 0.0230 - accuracy: 0.9947\n",
      "Epoch 40/100\n",
      "12/12 [==============================] - 0s 21ms/step - loss: 0.0256 - accuracy: 0.9947\n",
      "Epoch 41/100\n",
      "12/12 [==============================] - 0s 19ms/step - loss: 0.0234 - accuracy: 0.9947\n",
      "Epoch 42/100\n",
      "12/12 [==============================] - 0s 20ms/step - loss: 0.0275 - accuracy: 0.9947\n",
      "Epoch 43/100\n",
      "12/12 [==============================] - 0s 19ms/step - loss: 0.0270 - accuracy: 0.9947\n",
      "Epoch 44/100\n",
      "12/12 [==============================] - 0s 20ms/step - loss: 0.0248 - accuracy: 0.9947\n",
      "Epoch 45/100\n",
      "12/12 [==============================] - 0s 19ms/step - loss: 0.0229 - accuracy: 0.9947\n",
      "Epoch 46/100\n",
      "12/12 [==============================] - 0s 19ms/step - loss: 0.0243 - accuracy: 0.9947\n",
      "Epoch 47/100\n",
      "12/12 [==============================] - 0s 19ms/step - loss: 0.0296 - accuracy: 0.9947\n",
      "Epoch 48/100\n",
      "12/12 [==============================] - 0s 20ms/step - loss: 0.0220 - accuracy: 0.9947\n",
      "Epoch 49/100\n",
      "12/12 [==============================] - 0s 20ms/step - loss: 0.0255 - accuracy: 0.9947\n",
      "Epoch 50/100\n",
      "12/12 [==============================] - 0s 18ms/step - loss: 0.0259 - accuracy: 0.9947\n",
      "Epoch 51/100\n",
      "12/12 [==============================] - 0s 19ms/step - loss: 0.0225 - accuracy: 0.9947\n",
      "Epoch 52/100\n",
      "12/12 [==============================] - 0s 19ms/step - loss: 0.0233 - accuracy: 0.9947\n",
      "Epoch 53/100\n",
      "12/12 [==============================] - 0s 19ms/step - loss: 0.0233 - accuracy: 0.9947\n",
      "Epoch 54/100\n",
      "12/12 [==============================] - 0s 18ms/step - loss: 0.0225 - accuracy: 0.9947\n",
      "Epoch 55/100\n",
      "12/12 [==============================] - 0s 18ms/step - loss: 0.0230 - accuracy: 0.9947\n",
      "Epoch 56/100\n",
      "12/12 [==============================] - 0s 19ms/step - loss: 0.0226 - accuracy: 0.9947\n",
      "Epoch 57/100\n",
      "12/12 [==============================] - 0s 20ms/step - loss: 0.0229 - accuracy: 0.9947\n",
      "Epoch 58/100\n",
      "12/12 [==============================] - 0s 20ms/step - loss: 0.0225 - accuracy: 0.9947\n",
      "Epoch 59/100\n",
      "12/12 [==============================] - 0s 20ms/step - loss: 0.0225 - accuracy: 0.9947\n",
      "Epoch 60/100\n",
      "12/12 [==============================] - 0s 19ms/step - loss: 0.0226 - accuracy: 0.9947\n",
      "Epoch 61/100\n",
      "12/12 [==============================] - 0s 20ms/step - loss: 0.0229 - accuracy: 0.9947\n",
      "Epoch 62/100\n",
      "12/12 [==============================] - 0s 20ms/step - loss: 0.0229 - accuracy: 0.9947\n",
      "Epoch 63/100\n",
      "12/12 [==============================] - 0s 19ms/step - loss: 0.0231 - accuracy: 0.9947\n",
      "Epoch 64/100\n",
      "12/12 [==============================] - 0s 19ms/step - loss: 0.0264 - accuracy: 0.9947\n",
      "Epoch 65/100\n",
      "12/12 [==============================] - 0s 20ms/step - loss: 0.0218 - accuracy: 0.9947\n",
      "Epoch 66/100\n",
      "12/12 [==============================] - 0s 19ms/step - loss: 0.0231 - accuracy: 0.9947\n",
      "Epoch 67/100\n",
      "12/12 [==============================] - 0s 18ms/step - loss: 0.0225 - accuracy: 0.9947\n",
      "Epoch 68/100\n",
      "12/12 [==============================] - 0s 19ms/step - loss: 0.0226 - accuracy: 0.9947\n",
      "Epoch 69/100\n",
      "12/12 [==============================] - 0s 20ms/step - loss: 0.0227 - accuracy: 0.9947\n",
      "Epoch 70/100\n",
      "12/12 [==============================] - 0s 19ms/step - loss: 0.0233 - accuracy: 0.9947\n",
      "Epoch 71/100\n",
      "12/12 [==============================] - 0s 19ms/step - loss: 0.0229 - accuracy: 0.9947\n",
      "Epoch 72/100\n",
      "12/12 [==============================] - 0s 19ms/step - loss: 0.0225 - accuracy: 0.9947\n",
      "Epoch 73/100\n",
      "12/12 [==============================] - 0s 19ms/step - loss: 0.0228 - accuracy: 0.9947\n",
      "Epoch 74/100\n",
      "12/12 [==============================] - 0s 22ms/step - loss: 0.0232 - accuracy: 0.9947\n",
      "Epoch 75/100\n",
      "12/12 [==============================] - 0s 20ms/step - loss: 0.0228 - accuracy: 0.9947\n",
      "Epoch 76/100\n",
      "12/12 [==============================] - 0s 19ms/step - loss: 0.0239 - accuracy: 0.9947\n",
      "Epoch 77/100\n",
      "12/12 [==============================] - 0s 19ms/step - loss: 0.0238 - accuracy: 0.9947\n",
      "Epoch 78/100\n",
      "12/12 [==============================] - 0s 21ms/step - loss: 0.0232 - accuracy: 0.9947\n",
      "Epoch 79/100\n",
      "12/12 [==============================] - 0s 20ms/step - loss: 0.0224 - accuracy: 0.9947\n",
      "Epoch 80/100\n",
      "12/12 [==============================] - 0s 19ms/step - loss: 0.0236 - accuracy: 0.9947\n",
      "Epoch 81/100\n",
      "12/12 [==============================] - 0s 20ms/step - loss: 0.0227 - accuracy: 0.9947\n",
      "Epoch 82/100\n",
      "12/12 [==============================] - 0s 20ms/step - loss: 0.0223 - accuracy: 0.9947\n",
      "Epoch 83/100\n",
      "12/12 [==============================] - 0s 19ms/step - loss: 0.0230 - accuracy: 0.9947\n",
      "Epoch 84/100\n",
      "12/12 [==============================] - 0s 19ms/step - loss: 0.0224 - accuracy: 0.9947\n",
      "Epoch 85/100\n",
      "12/12 [==============================] - 0s 19ms/step - loss: 0.0254 - accuracy: 0.9947\n",
      "Epoch 86/100\n",
      "12/12 [==============================] - 0s 20ms/step - loss: 0.0248 - accuracy: 0.9947\n",
      "Epoch 87/100\n",
      "12/12 [==============================] - 0s 19ms/step - loss: 0.0237 - accuracy: 0.9947\n",
      "Epoch 88/100\n",
      "12/12 [==============================] - 0s 19ms/step - loss: 0.0232 - accuracy: 0.9947\n",
      "Epoch 89/100\n",
      "12/12 [==============================] - 0s 19ms/step - loss: 0.0269 - accuracy: 0.9947\n",
      "Epoch 90/100\n",
      "12/12 [==============================] - 0s 21ms/step - loss: 0.0264 - accuracy: 0.9947\n",
      "Epoch 91/100\n",
      "12/12 [==============================] - 1s 49ms/step - loss: 0.0250 - accuracy: 0.9947\n",
      "Epoch 92/100\n",
      "12/12 [==============================] - 0s 26ms/step - loss: 0.0230 - accuracy: 0.9947\n",
      "Epoch 93/100\n",
      "12/12 [==============================] - 0s 20ms/step - loss: 0.0245 - accuracy: 0.9947\n",
      "Epoch 94/100\n",
      "12/12 [==============================] - 0s 41ms/step - loss: 0.0286 - accuracy: 0.9947\n",
      "Epoch 95/100\n",
      "12/12 [==============================] - 0s 32ms/step - loss: 0.0317 - accuracy: 0.9947\n",
      "Epoch 96/100\n",
      "12/12 [==============================] - 0s 21ms/step - loss: 0.0322 - accuracy: 0.9947\n",
      "Epoch 97/100\n",
      "12/12 [==============================] - 0s 19ms/step - loss: 0.0243 - accuracy: 0.9947\n",
      "Epoch 98/100\n",
      "12/12 [==============================] - 0s 19ms/step - loss: 0.0230 - accuracy: 0.9947\n",
      "Epoch 99/100\n",
      "12/12 [==============================] - 0s 19ms/step - loss: 0.0224 - accuracy: 0.9947\n",
      "Epoch 100/100\n",
      "12/12 [==============================] - 0s 21ms/step - loss: 0.0237 - accuracy: 0.9947\n"
     ]
    }
   ],
   "source": [
    "epochs_hist = model.fit(x_train, y_train, epochs = 100, batch_size=50)"
   ]
  },
  {
   "cell_type": "code",
   "execution_count": null,
   "metadata": {
    "colab": {
     "base_uri": "https://localhost:8080/"
    },
    "id": "9YvkHLB79P2E",
    "outputId": "2085d32e-87d7-4f66-f97a-1a3cc18659b5"
   },
   "outputs": [
    {
     "name": "stdout",
     "output_type": "stream",
     "text": [
      "6/6 [==============================] - 0s 6ms/step\n"
     ]
    },
    {
     "data": {
      "text/plain": [
       "array([[7.6083825e-07],\n",
       "       [9.4843799e-01],\n",
       "       [1.0000000e+00],\n",
       "       [1.0000000e+00],\n",
       "       [1.2781415e-15],\n",
       "       [9.4843799e-01],\n",
       "       [2.4903831e-13],\n",
       "       [3.7609398e-15],\n",
       "       [1.0000000e+00],\n",
       "       [9.4843799e-01],\n",
       "       [2.4280512e-11],\n",
       "       [2.2919652e-13],\n",
       "       [1.0000000e+00],\n",
       "       [1.0000000e+00],\n",
       "       [9.4843799e-01],\n",
       "       [1.0000000e+00],\n",
       "       [1.2781415e-15],\n",
       "       [1.0000000e+00],\n",
       "       [1.0000000e+00],\n",
       "       [5.8177998e-06],\n",
       "       [2.7227417e-13],\n",
       "       [1.0000000e+00],\n",
       "       [1.0000000e+00],\n",
       "       [1.0000000e+00],\n",
       "       [1.0000000e+00],\n",
       "       [9.8952628e-13],\n",
       "       [1.0000000e+00],\n",
       "       [3.9124953e-12],\n",
       "       [1.3566661e-06],\n",
       "       [1.0000000e+00],\n",
       "       [1.0000000e+00],\n",
       "       [1.6317477e-13],\n",
       "       [1.0000000e+00],\n",
       "       [3.1487576e-13],\n",
       "       [1.0000000e+00],\n",
       "       [1.8239796e-06],\n",
       "       [1.0000000e+00],\n",
       "       [1.0000000e+00],\n",
       "       [1.0000000e+00],\n",
       "       [1.0000000e+00],\n",
       "       [1.0000000e+00],\n",
       "       [1.0000000e+00],\n",
       "       [1.0000000e+00],\n",
       "       [2.2577254e-11],\n",
       "       [2.6897535e-13],\n",
       "       [2.6924583e-13],\n",
       "       [1.0000000e+00],\n",
       "       [1.0000000e+00],\n",
       "       [1.0000000e+00],\n",
       "       [1.3546004e-12],\n",
       "       [1.0000000e+00],\n",
       "       [1.5283414e-06],\n",
       "       [1.0000000e+00],\n",
       "       [1.0000000e+00],\n",
       "       [1.0000000e+00],\n",
       "       [1.0000000e+00],\n",
       "       [1.0000000e+00],\n",
       "       [9.4843799e-01],\n",
       "       [9.4843799e-01],\n",
       "       [9.4843799e-01],\n",
       "       [1.0000000e+00],\n",
       "       [1.3995633e-12],\n",
       "       [1.0000000e+00],\n",
       "       [1.8419275e-16],\n",
       "       [1.0000000e+00],\n",
       "       [1.0000000e+00],\n",
       "       [8.6276038e-14],\n",
       "       [3.7609398e-15],\n",
       "       [1.2781415e-15],\n",
       "       [1.0000000e+00],\n",
       "       [1.0000000e+00],\n",
       "       [1.0000000e+00],\n",
       "       [1.3287878e-12],\n",
       "       [1.2781415e-15],\n",
       "       [9.4843799e-01],\n",
       "       [1.0000000e+00],\n",
       "       [6.1160272e-08],\n",
       "       [1.0000000e+00],\n",
       "       [3.5529470e-07],\n",
       "       [1.0000000e+00],\n",
       "       [1.0000000e+00],\n",
       "       [9.4843799e-01],\n",
       "       [3.9124953e-12],\n",
       "       [9.4843799e-01],\n",
       "       [9.4843799e-01],\n",
       "       [1.0000000e+00],\n",
       "       [9.4843799e-01],\n",
       "       [1.0000000e+00],\n",
       "       [9.4843799e-01],\n",
       "       [1.7893929e-12],\n",
       "       [8.7152171e-13],\n",
       "       [1.0000000e+00],\n",
       "       [1.0000000e+00],\n",
       "       [1.0000000e+00],\n",
       "       [1.2781366e-15],\n",
       "       [3.8480449e-14],\n",
       "       [1.0000000e+00],\n",
       "       [9.4843799e-01],\n",
       "       [1.0000000e+00],\n",
       "       [2.2084118e-13],\n",
       "       [7.2041878e-08],\n",
       "       [1.0000000e+00],\n",
       "       [1.0000000e+00],\n",
       "       [1.2091737e-06],\n",
       "       [6.9399498e-06],\n",
       "       [1.0000000e+00],\n",
       "       [9.4843799e-01],\n",
       "       [1.0782981e-06],\n",
       "       [8.1164710e-14],\n",
       "       [1.0000000e+00],\n",
       "       [1.1103559e-12],\n",
       "       [1.0000000e+00],\n",
       "       [1.6621390e-13],\n",
       "       [1.0000000e+00],\n",
       "       [1.0000000e+00],\n",
       "       [1.0000000e+00],\n",
       "       [9.4843799e-01],\n",
       "       [1.0000000e+00],\n",
       "       [6.2516339e-13],\n",
       "       [9.3373020e-13],\n",
       "       [1.0000000e+00],\n",
       "       [1.0000000e+00],\n",
       "       [1.0000000e+00],\n",
       "       [1.0000000e+00],\n",
       "       [1.0000000e+00],\n",
       "       [1.0000000e+00],\n",
       "       [2.0420644e-10],\n",
       "       [1.0000000e+00],\n",
       "       [1.0000000e+00],\n",
       "       [1.8635581e-12],\n",
       "       [4.3903659e-14],\n",
       "       [1.0000000e+00],\n",
       "       [1.2781415e-15],\n",
       "       [1.0000000e+00],\n",
       "       [9.4843799e-01],\n",
       "       [9.4843799e-01],\n",
       "       [1.0000000e+00],\n",
       "       [1.2781415e-15],\n",
       "       [1.0000000e+00],\n",
       "       [1.0000000e+00],\n",
       "       [9.4843799e-01],\n",
       "       [1.0000000e+00],\n",
       "       [5.5818655e-14],\n",
       "       [9.4843799e-01],\n",
       "       [9.4843799e-01],\n",
       "       [5.1097385e-07],\n",
       "       [9.9999982e-01],\n",
       "       [1.0000000e+00],\n",
       "       [7.6307782e-07],\n",
       "       [1.0000000e+00],\n",
       "       [1.0000000e+00],\n",
       "       [1.1844085e-06],\n",
       "       [7.7540214e-12],\n",
       "       [1.0000000e+00],\n",
       "       [9.5468819e-14],\n",
       "       [9.4843799e-01],\n",
       "       [1.0000000e+00],\n",
       "       [1.0000000e+00],\n",
       "       [1.0000000e+00],\n",
       "       [1.0000000e+00],\n",
       "       [1.0000000e+00],\n",
       "       [7.7399728e-15],\n",
       "       [4.6554019e-12],\n",
       "       [1.0000000e+00],\n",
       "       [3.2075393e-12],\n",
       "       [1.0000000e+00],\n",
       "       [9.4843799e-01],\n",
       "       [7.4209557e-13],\n",
       "       [9.4843799e-01],\n",
       "       [1.0592065e-11],\n",
       "       [1.1220883e-13],\n",
       "       [1.2781415e-15],\n",
       "       [1.0000000e+00],\n",
       "       [1.0000000e+00],\n",
       "       [9.4843799e-01],\n",
       "       [1.0000000e+00],\n",
       "       [9.4843799e-01],\n",
       "       [1.0000000e+00],\n",
       "       [1.0000000e+00],\n",
       "       [1.0000000e+00],\n",
       "       [1.0000000e+00],\n",
       "       [2.1643521e-06],\n",
       "       [9.4843799e-01],\n",
       "       [9.4843799e-01],\n",
       "       [1.0000000e+00],\n",
       "       [1.0000000e+00],\n",
       "       [1.0000000e+00],\n",
       "       [7.0672854e-08],\n",
       "       [1.0000000e+00],\n",
       "       [2.6120230e-07]], dtype=float32)"
      ]
     },
     "execution_count": 35,
     "metadata": {},
     "output_type": "execute_result"
    }
   ],
   "source": [
    "y_pred = model.predict(x_test)\n",
    "y_pred"
   ]
  },
  {
   "cell_type": "markdown",
   "metadata": {
    "id": "VbuhYbbl_7f4"
   },
   "source": [
    "# **ANÁLISIS DE RESULTADOS**"
   ]
  },
  {
   "cell_type": "markdown",
   "metadata": {
    "id": "XZEeP4u8_zsM"
   },
   "source": [
    "**CONVERSIÓN BOOLEANA**"
   ]
  },
  {
   "cell_type": "code",
   "execution_count": null,
   "metadata": {
    "colab": {
     "base_uri": "https://localhost:8080/"
    },
    "id": "97PClsd8ACP-",
    "outputId": "51a53379-29f9-4e66-9fc8-c35faa4bbf06"
   },
   "outputs": [
    {
     "data": {
      "text/plain": [
       "array([[False],\n",
       "       [ True],\n",
       "       [ True],\n",
       "       [ True],\n",
       "       [False],\n",
       "       [ True],\n",
       "       [False],\n",
       "       [False],\n",
       "       [ True],\n",
       "       [ True],\n",
       "       [False],\n",
       "       [False],\n",
       "       [ True],\n",
       "       [ True],\n",
       "       [ True],\n",
       "       [ True],\n",
       "       [False],\n",
       "       [ True],\n",
       "       [ True],\n",
       "       [False],\n",
       "       [False],\n",
       "       [ True],\n",
       "       [ True],\n",
       "       [ True],\n",
       "       [ True],\n",
       "       [False],\n",
       "       [ True],\n",
       "       [False],\n",
       "       [False],\n",
       "       [ True],\n",
       "       [ True],\n",
       "       [False],\n",
       "       [ True],\n",
       "       [False],\n",
       "       [ True],\n",
       "       [False],\n",
       "       [ True],\n",
       "       [ True],\n",
       "       [ True],\n",
       "       [ True],\n",
       "       [ True],\n",
       "       [ True],\n",
       "       [ True],\n",
       "       [False],\n",
       "       [False],\n",
       "       [False],\n",
       "       [ True],\n",
       "       [ True],\n",
       "       [ True],\n",
       "       [False],\n",
       "       [ True],\n",
       "       [False],\n",
       "       [ True],\n",
       "       [ True],\n",
       "       [ True],\n",
       "       [ True],\n",
       "       [ True],\n",
       "       [ True],\n",
       "       [ True],\n",
       "       [ True],\n",
       "       [ True],\n",
       "       [False],\n",
       "       [ True],\n",
       "       [False],\n",
       "       [ True],\n",
       "       [ True],\n",
       "       [False],\n",
       "       [False],\n",
       "       [False],\n",
       "       [ True],\n",
       "       [ True],\n",
       "       [ True],\n",
       "       [False],\n",
       "       [False],\n",
       "       [ True],\n",
       "       [ True],\n",
       "       [False],\n",
       "       [ True],\n",
       "       [False],\n",
       "       [ True],\n",
       "       [ True],\n",
       "       [ True],\n",
       "       [False],\n",
       "       [ True],\n",
       "       [ True],\n",
       "       [ True],\n",
       "       [ True],\n",
       "       [ True],\n",
       "       [ True],\n",
       "       [False],\n",
       "       [False],\n",
       "       [ True],\n",
       "       [ True],\n",
       "       [ True],\n",
       "       [False],\n",
       "       [False],\n",
       "       [ True],\n",
       "       [ True],\n",
       "       [ True],\n",
       "       [False],\n",
       "       [False],\n",
       "       [ True],\n",
       "       [ True],\n",
       "       [False],\n",
       "       [False],\n",
       "       [ True],\n",
       "       [ True],\n",
       "       [False],\n",
       "       [False],\n",
       "       [ True],\n",
       "       [False],\n",
       "       [ True],\n",
       "       [False],\n",
       "       [ True],\n",
       "       [ True],\n",
       "       [ True],\n",
       "       [ True],\n",
       "       [ True],\n",
       "       [False],\n",
       "       [False],\n",
       "       [ True],\n",
       "       [ True],\n",
       "       [ True],\n",
       "       [ True],\n",
       "       [ True],\n",
       "       [ True],\n",
       "       [False],\n",
       "       [ True],\n",
       "       [ True],\n",
       "       [False],\n",
       "       [False],\n",
       "       [ True],\n",
       "       [False],\n",
       "       [ True],\n",
       "       [ True],\n",
       "       [ True],\n",
       "       [ True],\n",
       "       [False],\n",
       "       [ True],\n",
       "       [ True],\n",
       "       [ True],\n",
       "       [ True],\n",
       "       [False],\n",
       "       [ True],\n",
       "       [ True],\n",
       "       [False],\n",
       "       [ True],\n",
       "       [ True],\n",
       "       [False],\n",
       "       [ True],\n",
       "       [ True],\n",
       "       [False],\n",
       "       [False],\n",
       "       [ True],\n",
       "       [False],\n",
       "       [ True],\n",
       "       [ True],\n",
       "       [ True],\n",
       "       [ True],\n",
       "       [ True],\n",
       "       [ True],\n",
       "       [False],\n",
       "       [False],\n",
       "       [ True],\n",
       "       [False],\n",
       "       [ True],\n",
       "       [ True],\n",
       "       [False],\n",
       "       [ True],\n",
       "       [False],\n",
       "       [False],\n",
       "       [False],\n",
       "       [ True],\n",
       "       [ True],\n",
       "       [ True],\n",
       "       [ True],\n",
       "       [ True],\n",
       "       [ True],\n",
       "       [ True],\n",
       "       [ True],\n",
       "       [ True],\n",
       "       [False],\n",
       "       [ True],\n",
       "       [ True],\n",
       "       [ True],\n",
       "       [ True],\n",
       "       [ True],\n",
       "       [False],\n",
       "       [ True],\n",
       "       [False]])"
      ]
     },
     "execution_count": 36,
     "metadata": {},
     "output_type": "execute_result"
    }
   ],
   "source": [
    "y_pred = (y_pred > 0.5)\n",
    "y_pred"
   ]
  },
  {
   "cell_type": "markdown",
   "metadata": {
    "id": "E03MMd_4AI5j"
   },
   "source": [
    "**GRÁFICA DEL MODELO: EVALUACIÓN DE PÉRDIDA**"
   ]
  },
  {
   "cell_type": "code",
   "execution_count": null,
   "metadata": {
    "colab": {
     "base_uri": "https://localhost:8080/",
     "height": 312
    },
    "id": "ZfmJj_9OAPyT",
    "outputId": "9100e56a-b625-41aa-8ad5-4f74138ef079"
   },
   "outputs": [
    {
     "data": {
      "text/plain": [
       "<matplotlib.legend.Legend at 0x7f3e161d3750>"
      ]
     },
     "execution_count": 37,
     "metadata": {},
     "output_type": "execute_result"
    },
    {
     "data": {
      "image/png": "[encoded data removed]",
      "text/plain": [
       "<Figure size 432x288 with 1 Axes>"
      ]
     },
     "metadata": {
      "needs_background": "light"
     },
     "output_type": "display_data"
    }
   ],
   "source": [
    "matplotlib.pyplot.plot(epochs_hist.history['loss'])\n",
    "matplotlib.pyplot.title(\"Función de Pérdidas del Modelo durante el Entrenamiento\")\n",
    "matplotlib.pyplot.xlabel(\"Epochs\")\n",
    "matplotlib.pyplot.ylabel(\"Error de Entrenamiento\")\n",
    "matplotlib.pyplot.legend([\"Error de Entrenamiento\"])"
   ]
  },
  {
   "cell_type": "markdown",
   "metadata": {
    "id": "aUf1cXIGAes0"
   },
   "source": [
    "**GRÁFICA DEL MODELO: EVALUACIÓN DE ACIERTOS**"
   ]
  },
  {
   "cell_type": "code",
   "execution_count": null,
   "metadata": {
    "colab": {
     "base_uri": "https://localhost:8080/",
     "height": 312
    },
    "id": "beuWn2ktAZ__",
    "outputId": "e65125e7-42b7-48d2-a821-13bb70581e3c"
   },
   "outputs": [
    {
     "data": {
      "text/plain": [
       "<matplotlib.legend.Legend at 0x7f3e1619f790>"
      ]
     },
     "execution_count": 38,
     "metadata": {},
     "output_type": "execute_result"
    },
    {
     "data": {
      "image/png": "[encoded data removed]",
      "text/plain": [
       "<Figure size 432x288 with 1 Axes>"
      ]
     },
     "metadata": {
      "needs_background": "light"
     },
     "output_type": "display_data"
    }
   ],
   "source": [
    "matplotlib.pyplot.plot(epochs_hist.history['accuracy'])\n",
    "matplotlib.pyplot.title(\"Tasa de Acierto del Modelo durante el Entrenamiento\")\n",
    "matplotlib.pyplot.xlabel(\"Epochs\")\n",
    "matplotlib.pyplot.ylabel(\"Accuracy de Entrenamiento\")\n",
    "matplotlib.pyplot.legend([\"Accuracy de Entrenamiento\"])"
   ]
  },
  {
   "cell_type": "markdown",
   "metadata": {
    "id": "YubmPzVHAzAV"
   },
   "source": [
    "**RESULTADOS DE GRUPO: TEST**"
   ]
  },
  {
   "cell_type": "code",
   "execution_count": null,
   "metadata": {
    "colab": {
     "base_uri": "https://localhost:8080/",
     "height": 282
    },
    "id": "9vHKXtEEAybD",
    "outputId": "954fba48-1d86-4587-af0a-f53394df41fc"
   },
   "outputs": [
    {
     "data": {
      "text/plain": [
       "<matplotlib.axes._subplots.AxesSubplot at 0x7f3e16134c90>"
      ]
     },
     "execution_count": 39,
     "metadata": {},
     "output_type": "execute_result"
    },
    {
     "data": {
      "image/png": "[encoded data removed]",
      "text/plain": [
       "<Figure size 432x288 with 2 Axes>"
      ]
     },
     "metadata": {
      "needs_background": "light"
     },
     "output_type": "display_data"
    }
   ],
   "source": [
    "test_result = confusion_matrix(y_test, y_pred)\n",
    "seaborn.heatmap(test_result, annot=True)"
   ]
  },
  {
   "cell_type": "markdown",
   "metadata": {
    "id": "Sxm_gqHABRUa"
   },
   "source": [
    "**REPORTE DE PREDICCIÓN**"
   ]
  },
  {
   "cell_type": "code",
   "execution_count": null,
   "metadata": {
    "colab": {
     "base_uri": "https://localhost:8080/"
    },
    "id": "77Sy28dCBG2I",
    "outputId": "613c63d7-b3df-49cf-87da-fe6226f376ca"
   },
   "outputs": [
    {
     "name": "stdout",
     "output_type": "stream",
     "text": [
      "              precision    recall  f1-score   support\n",
      "\n",
      "           0       1.00      0.98      0.99        66\n",
      "           1       0.99      1.00      1.00       124\n",
      "\n",
      "    accuracy                           0.99       190\n",
      "   macro avg       1.00      0.99      0.99       190\n",
      "weighted avg       0.99      0.99      0.99       190\n",
      "\n"
     ]
    }
   ],
   "source": [
    "print(classification_report(y_test, y_pred))"
   ]
  }
 ],
 "metadata": {
  "colab": {
   "collapsed_sections": [
    "Huh6lwAU9rAa",
    "KWPIvxIlMTru",
    "f0TjVTgGRRft",
    "c-cT4A-UZ4Kw",
    "Ur2WrcFbfUqO",
    "68ABIgZDfm6d",
    "Mi7mpHHLrDDx",
    "NxHpJ5crnZYP",
    "5SQUQFff7_ct",
    "mjCHQIJ59nkf",
    "VbuhYbbl_7f4"
   ],
   "provenance": []
  },
  "kernelspec": {
   "display_name": "Python 3",
   "name": "python3"
  },
  "language_info": {
   "codemirror_mode": {
    "name": "ipython",
    "version": 3
   },
   "file_extension": ".py",
   "mimetype": "text/x-python",
   "name": "python",
   "nbconvert_exporter": "python",
   "pygments_lexer": "ipython3",
   "version": "3.12.4"
  }
 },
 "nbformat": 4,
 "nbformat_minor": 0
}
