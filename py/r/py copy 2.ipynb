{
 "cells": [
  {
   "cell_type": "code",
   "execution_count": 8,
   "metadata": {},
   "outputs": [
    {
     "name": "stderr",
     "output_type": "stream",
     "text": [
      "WARNING:absl:You are saving your model as an HDF5 file via `model.save()` or `keras.saving.save_model(model)`. This file format is considered legacy. We recommend using instead the native Keras format, e.g. `model.save('my_model.keras')` or `keras.saving.save_model(model, 'my_model.keras')`. \n"
     ]
    },
    {
     "name": "stdout",
     "output_type": "stream",
     "text": [
      "Modelo guardado como 'modelo_pitagoras.h5'\n"
     ]
    },
    {
     "data": {
      "image/png": "[encoded data removed]",
      "text/plain": [
       "<Figure size 640x480 with 1 Axes>"
      ]
     },
     "metadata": {},
     "output_type": "display_data"
    },
    {
     "name": "stdout",
     "output_type": "stream",
     "text": [
      "Predicción de la hipotenusa para a=3 y b=4:\n",
      "WARNING:tensorflow:6 out of the last 6 calls to <function TensorFlowTrainer.make_predict_function.<locals>.one_step_on_data_distributed at 0x000001F81226F380> triggered tf.function retracing. Tracing is expensive and the excessive number of tracings could be due to (1) creating @tf.function repeatedly in a loop, (2) passing tensors with different shapes, (3) passing Python objects instead of tensors. For (1), please define your @tf.function outside of the loop. For (2), @tf.function has reduce_retracing=True option that can avoid unnecessary retracing. For (3), please refer to https://www.tensorflow.org/guide/function#controlling_retracing and https://www.tensorflow.org/api_docs/python/tf/function for  more details.\n"
     ]
    },
    {
     "name": "stderr",
     "output_type": "stream",
     "text": [
      "WARNING:tensorflow:6 out of the last 6 calls to <function TensorFlowTrainer.make_predict_function.<locals>.one_step_on_data_distributed at 0x000001F81226F380> triggered tf.function retracing. Tracing is expensive and the excessive number of tracings could be due to (1) creating @tf.function repeatedly in a loop, (2) passing tensors with different shapes, (3) passing Python objects instead of tensors. For (1), please define your @tf.function outside of the loop. For (2), @tf.function has reduce_retracing=True option that can avoid unnecessary retracing. For (3), please refer to https://www.tensorflow.org/guide/function#controlling_retracing and https://www.tensorflow.org/api_docs/python/tf/function for  more details.\n"
     ]
    },
    {
     "name": "stdout",
     "output_type": "stream",
     "text": [
      "\u001b[1m1/1\u001b[0m \u001b[32m━━━━━━━━━━━━━━━━━━━━\u001b[0m\u001b[37m\u001b[0m \u001b[1m0s\u001b[0m 35ms/step\n",
      "[[5.015288]]\n",
      "The tensorboard extension is already loaded. To reload it, use:\n",
      "  %reload_ext tensorboard\n"
     ]
    },
    {
     "data": {
      "text/plain": [
       "Reusing TensorBoard on port 6006 (pid 32976), started 0:45:23 ago. (Use '!kill 32976' to kill it.)"
      ]
     },
     "metadata": {},
     "output_type": "display_data"
    },
    {
     "data": {
      "text/html": [
       "\n",
       "      <iframe id=\"tensorboard-frame-4d54b3028c2b3a5f\" width=\"100%\" height=\"800\" frameborder=\"0\">\n",
       "      </iframe>\n",
       "      <script>\n",
       "        (function() {\n",
       "          const frame = document.getElementById(\"tensorboard-frame-4d54b3028c2b3a5f\");\n",
       "          const url = new URL(\"http://localhost\");\n",
       "          const port = 6006;\n",
       "          if (port) {\n",
       "            url.port = port;\n",
       "          }\n",
       "          frame.src = url;\n",
       "        })();\n",
       "      </script>\n",
       "    "
      ],
      "text/plain": [
       "<IPython.core.display.HTML object>"
      ]
     },
     "metadata": {},
     "output_type": "display_data"
    }
   ],
   "source": [
    "import tensorflow as tf\n",
    "import numpy as np\n",
    "import datetime\n",
    "import matplotlib.pyplot as plt\n",
    "from tensorflow.keras.optimizers import Adam\n",
    "\n",
    "# Generamos 500 datos de entrenamiento para el Teorema de Pitágoras\n",
    "a_values = np.random.uniform(1, 10, 500)\n",
    "b_values = np.random.uniform(1, 10, 500)\n",
    "c_values = np.sqrt(a_values**2 + b_values**2)  # Hipotenusa calculada\n",
    "\n",
    "X = np.column_stack((a_values, b_values))  # Catetos 'a' y 'b' como entradas\n",
    "y = c_values  # Hipotenusa 'c' como salida\n",
    "\n",
    "# Definimos el modelo de red neuronal\n",
    "model = tf.keras.Sequential([\n",
    "    tf.keras.layers.Input(shape=(2,)),\n",
    "    tf.keras.layers.Dense(units=8, activation='relu', name='hidden_layer1'),\n",
    "    tf.keras.layers.Dense(units=8, activation='relu', name='hidden_layer2'),\n",
    "    tf.keras.layers.Dense(units=1, name='output_layer')\n",
    "])\n",
    "\n",
    "# Compilamos el modelo\n",
    "model.compile(optimizer=Adam(learning_rate=0.01), loss='mean_squared_error')\n",
    "\n",
    "# Configuramos TensorBoard para capturar activaciones en las capas ocultas\n",
    "log_dir = \"logs/pitagoras/\" + datetime.datetime.now().strftime(\"%Y%m%d-%H%M%S\")\n",
    "tensorboard_callback = tf.keras.callbacks.TensorBoard(log_dir=log_dir, histogram_freq=1, write_graph=True, write_images=True)\n",
    "\n",
    "# Entrenamos el modelo y guardamos el historial de pérdidas\n",
    "history = model.fit(X, y, epochs=500, verbose=0, callbacks=[tensorboard_callback])\n",
    "\n",
    "# Guardar el modelo entrenado\n",
    "model.save('modelo_pitagoras.h5')\n",
    "print(\"Modelo guardado como 'modelo_pitagoras.h5'\")\n",
    "\n",
    "# Graficamos la magnitud de pérdida\n",
    "plt.plot(history.history['loss'])\n",
    "plt.xlabel('Épocas')\n",
    "plt.ylabel('Magnitud de pérdida')\n",
    "plt.title('Magnitud de pérdida durante el entrenamiento')\n",
    "plt.show()\n",
    "\n",
    "# Predicción de ejemplo\n",
    "print(\"Predicción de la hipotenusa para a=3 y b=4:\")\n",
    "print(model.predict(np.array([[3.0, 4.0]])))\n",
    "\n",
    "# Lanzamos TensorBoard para ver las activaciones en capas ocultas\n",
    "%load_ext tensorboard\n",
    "%tensorboard --logdir logs/pitagoras"
   ]
  },
  {
   "cell_type": "code",
   "execution_count": 9,
   "metadata": {},
   "outputs": [
    {
     "name": "stderr",
     "output_type": "stream",
     "text": [
      "WARNING:absl:Compiled the loaded model, but the compiled metrics have yet to be built. `model.compile_metrics` will be empty until you train or evaluate the model.\n"
     ]
    },
    {
     "ename": "KeyError",
     "evalue": "'Exception encountered when calling Functional.call().\\n\\n\\x1b[1m2165063034272\\x1b[0m\\n\\nArguments received by Functional.call():\\n  • inputs=tf.Tensor(shape=(1, 2), dtype=float32)\\n  • training=False\\n  • mask=None'",
     "output_type": "error",
     "traceback": [
      "\u001b[1;31m---------------------------------------------------------------------------\u001b[0m",
      "\u001b[1;31mKeyError\u001b[0m                                  Traceback (most recent call last)",
      "Cell \u001b[1;32mIn[9], line 25\u001b[0m\n\u001b[0;32m     22\u001b[0m     \u001b[38;5;28;01mreturn\u001b[39;00m activation\n\u001b[0;32m     24\u001b[0m \u001b[38;5;66;03m# Obtener las activaciones de cada capa oculta\u001b[39;00m\n\u001b[1;32m---> 25\u001b[0m activation_hidden1 \u001b[38;5;241m=\u001b[39m \u001b[43mget_layer_activation\u001b[49m\u001b[43m(\u001b[49m\u001b[43mmodel\u001b[49m\u001b[43m,\u001b[49m\u001b[43m \u001b[49m\u001b[38;5;124;43m'\u001b[39;49m\u001b[38;5;124;43mhidden_layer1\u001b[39;49m\u001b[38;5;124;43m'\u001b[39;49m\u001b[43m,\u001b[49m\u001b[43m \u001b[49m\u001b[43minput_data\u001b[49m\u001b[43m)\u001b[49m\n\u001b[0;32m     26\u001b[0m activation_hidden2 \u001b[38;5;241m=\u001b[39m get_layer_activation(model, \u001b[38;5;124m'\u001b[39m\u001b[38;5;124mhidden_layer2\u001b[39m\u001b[38;5;124m'\u001b[39m, input_data)\n\u001b[0;32m     28\u001b[0m \u001b[38;5;66;03m# Visualizar las activaciones de la primera capa oculta\u001b[39;00m\n",
      "Cell \u001b[1;32mIn[9], line 21\u001b[0m, in \u001b[0;36mget_layer_activation\u001b[1;34m(model, layer_name, input_data)\u001b[0m\n\u001b[0;32m     19\u001b[0m \u001b[38;5;66;03m# Compilamos y llamamos al modelo intermedio\u001b[39;00m\n\u001b[0;32m     20\u001b[0m intermediate_layer_model\u001b[38;5;241m.\u001b[39mbuild(input_shape\u001b[38;5;241m=\u001b[39m(\u001b[38;5;28;01mNone\u001b[39;00m, \u001b[38;5;241m2\u001b[39m))\n\u001b[1;32m---> 21\u001b[0m activation \u001b[38;5;241m=\u001b[39m \u001b[43mintermediate_layer_model\u001b[49m\u001b[38;5;241;43m.\u001b[39;49m\u001b[43mpredict\u001b[49m\u001b[43m(\u001b[49m\u001b[43minput_data\u001b[49m\u001b[43m)\u001b[49m\n\u001b[0;32m     22\u001b[0m \u001b[38;5;28;01mreturn\u001b[39;00m activation\n",
      "File \u001b[1;32mc:\\Users\\Jhack Alberth\\AppData\\Local\\Programs\\Python\\Python312\\Lib\\site-packages\\keras\\src\\utils\\traceback_utils.py:122\u001b[0m, in \u001b[0;36mfilter_traceback.<locals>.error_handler\u001b[1;34m(*args, **kwargs)\u001b[0m\n\u001b[0;32m    119\u001b[0m     filtered_tb \u001b[38;5;241m=\u001b[39m _process_traceback_frames(e\u001b[38;5;241m.\u001b[39m__traceback__)\n\u001b[0;32m    120\u001b[0m     \u001b[38;5;66;03m# To get the full stack trace, call:\u001b[39;00m\n\u001b[0;32m    121\u001b[0m     \u001b[38;5;66;03m# `keras.config.disable_traceback_filtering()`\u001b[39;00m\n\u001b[1;32m--> 122\u001b[0m     \u001b[38;5;28;01mraise\u001b[39;00m e\u001b[38;5;241m.\u001b[39mwith_traceback(filtered_tb) \u001b[38;5;28;01mfrom\u001b[39;00m \u001b[38;5;28;01mNone\u001b[39;00m\n\u001b[0;32m    123\u001b[0m \u001b[38;5;28;01mfinally\u001b[39;00m:\n\u001b[0;32m    124\u001b[0m     \u001b[38;5;28;01mdel\u001b[39;00m filtered_tb\n",
      "File \u001b[1;32mc:\\Users\\Jhack Alberth\\AppData\\Local\\Programs\\Python\\Python312\\Lib\\site-packages\\keras\\src\\ops\\function.py:179\u001b[0m, in \u001b[0;36mFunction._run_through_graph\u001b[1;34m(self, inputs, operation_fn, call_fn)\u001b[0m\n\u001b[0;32m    177\u001b[0m output_tensors \u001b[38;5;241m=\u001b[39m []\n\u001b[0;32m    178\u001b[0m \u001b[38;5;28;01mfor\u001b[39;00m x \u001b[38;5;129;01min\u001b[39;00m \u001b[38;5;28mself\u001b[39m\u001b[38;5;241m.\u001b[39moutputs:\n\u001b[1;32m--> 179\u001b[0m     output_tensors\u001b[38;5;241m.\u001b[39mappend(\u001b[43mtensor_dict\u001b[49m\u001b[43m[\u001b[49m\u001b[38;5;28;43mid\u001b[39;49m\u001b[43m(\u001b[49m\u001b[43mx\u001b[49m\u001b[43m)\u001b[49m\u001b[43m]\u001b[49m)\n\u001b[0;32m    181\u001b[0m \u001b[38;5;28;01mreturn\u001b[39;00m tree\u001b[38;5;241m.\u001b[39mpack_sequence_as(\u001b[38;5;28mself\u001b[39m\u001b[38;5;241m.\u001b[39m_outputs_struct, output_tensors)\n",
      "\u001b[1;31mKeyError\u001b[0m: 'Exception encountered when calling Functional.call().\\n\\n\\x1b[1m2165063034272\\x1b[0m\\n\\nArguments received by Functional.call():\\n  • inputs=tf.Tensor(shape=(1, 2), dtype=float32)\\n  • training=False\\n  • mask=None'"
     ]
    }
   ],
   "source": [
    "import tensorflow as tf\n",
    "import numpy as np\n",
    "import matplotlib.pyplot as plt\n",
    "from tensorflow.keras.models import load_model\n",
    "from tensorflow.keras.layers import Input\n",
    "\n",
    "# Cargar el modelo entrenado\n",
    "model = load_model('modelo_pitagoras.h5')\n",
    "\n",
    "# Definir la entrada explícitamente y compilar el modelo\n",
    "input_data = np.array([[3.0, 4.0]])\n",
    "model.build(input_shape=(None, 2))\n",
    "\n",
    "# Función para obtener las activaciones de una capa específica\n",
    "def get_layer_activation(model, layer_name, input_data):\n",
    "    # Crear una nueva entrada explícita para el modelo intermedio\n",
    "    input_layer = Input(shape=(2,))\n",
    "    intermediate_layer_model = tf.keras.Model(inputs=input_layer, outputs=model.get_layer(layer_name).output)\n",
    "    # Compilamos y llamamos al modelo intermedio\n",
    "    intermediate_layer_model.build(input_shape=(None, 2))\n",
    "    activation = intermediate_layer_model.predict(input_data)\n",
    "    return activation\n",
    "\n",
    "# Obtener las activaciones de cada capa oculta\n",
    "activation_hidden1 = get_layer_activation(model, 'hidden_layer1', input_data)\n",
    "activation_hidden2 = get_layer_activation(model, 'hidden_layer2', input_data)\n",
    "\n",
    "# Visualizar las activaciones de la primera capa oculta\n",
    "plt.figure(figsize=(10, 4))\n",
    "plt.bar(range(activation_hidden1.shape[1]), activation_hidden1[0], color='lightblue')\n",
    "plt.xlabel('Neurona')\n",
    "plt.ylabel('Activación')\n",
    "plt.title('Activaciones de la Capa Oculta 1 (hidden_layer1)')\n",
    "plt.show()\n",
    "\n",
    "# Visualizar las activaciones de la segunda capa oculta\n",
    "plt.figure(figsize=(10, 4))\n",
    "plt.bar(range(activation_hidden2.shape[1]), activation_hidden2[0], color='lightgreen')\n",
    "plt.xlabel('Neurona')\n",
    "plt.ylabel('Activación')\n",
    "plt.title('Activaciones de la Capa Oculta 2 (hidden_layer2)')\n",
    "plt.show()\n"
   ]
  },
  {
   "cell_type": "code",
   "execution_count": 10,
   "metadata": {},
   "outputs": [
    {
     "name": "stderr",
     "output_type": "stream",
     "text": [
      "WARNING:absl:Compiled the loaded model, but the compiled metrics have yet to be built. `model.compile_metrics` will be empty until you train or evaluate the model.\n"
     ]
    }
   ],
   "source": [
    "import tkinter as tk\n",
    "from tensorflow.keras.models import load_model\n",
    "import numpy as np\n",
    "\n",
    "# Cargar el modelo guardado\n",
    "model = load_model('modelo_pitagoras.h5')\n",
    "\n",
    "# Función para calcular la hipotenusa, área y perímetro\n",
    "def calcular():\n",
    "    a = float(entry_a.get())\n",
    "    b = float(entry_b.get())\n",
    "    resultado = model.predict(np.array([[a, b]]))\n",
    "    h = resultado[0][0]\n",
    "\n",
    "    # Cálculos adicionales\n",
    "    area = 0.5 * a * b\n",
    "    perimetro = a + b + h\n",
    "\n",
    "    # Mostrar los resultados\n",
    "    label_hipotenusa.config(text=f\"Hipotenusa (h): {h:.2f}\")\n",
    "    label_area.config(text=f\"Área: {area:.2f}\")\n",
    "    label_perimetro.config(text=f\"Perímetro: {perimetro:.2f}\")\n",
    "\n",
    "# Crear ventana de Tkinter\n",
    "ventana = tk.Tk()\n",
    "ventana.title(\"Teorema de Pitágoras - Calculadora\")\n",
    "\n",
    "# Configuración de la cuadrícula para que la interfaz sea más ordenada\n",
    "ventana.columnconfigure([0, 1, 2], weight=1)\n",
    "\n",
    "# Etiqueta y entrada para el Cateto a\n",
    "tk.Label(ventana, text=\"Lado a:\").grid(row=0, column=0, padx=10, pady=10, sticky=\"e\")\n",
    "entry_a = tk.Entry(ventana, width=10)\n",
    "entry_a.grid(row=0, column=1, pady=10)\n",
    "\n",
    "# Etiqueta y entrada para el Cateto b\n",
    "tk.Label(ventana, text=\"Lado b:\").grid(row=1, column=0, padx=10, pady=10, sticky=\"e\")\n",
    "entry_b = tk.Entry(ventana, width=10)\n",
    "entry_b.grid(row=1, column=1, pady=10)\n",
    "\n",
    "# Botón para calcular\n",
    "boton_calcular = tk.Button(ventana, text=\"Calcular\", command=calcular)\n",
    "boton_calcular.grid(row=2, column=0, columnspan=2, pady=10)\n",
    "\n",
    "# Área para mostrar el triángulo y los resultados\n",
    "canvas = tk.Canvas(ventana, width=200, height=200, bg=\"white\")\n",
    "canvas.grid(row=0, column=2, rowspan=3, padx=20)\n",
    "\n",
    "# Dibujar el triángulo en el canvas\n",
    "canvas.create_polygon(10, 180, 180, 180, 10, 10, outline=\"black\", fill=\"lightblue\", width=2)\n",
    "canvas.create_text(95, 190, text=\"Lado a\", anchor=\"n\")\n",
    "canvas.create_text(20, 95, text=\"Lado b\", anchor=\"w\")\n",
    "canvas.create_text(95, 80, text=\"Hipotenusa (h)\", anchor=\"s\")\n",
    "\n",
    "# Etiquetas para mostrar los resultados de la hipotenusa, el área y el perímetro\n",
    "label_hipotenusa = tk.Label(ventana, text=\"Hipotenusa (h):\", font=(\"Arial\", 10, \"bold\"))\n",
    "label_hipotenusa.grid(row=3, column=0, columnspan=2, pady=5)\n",
    "\n",
    "label_area = tk.Label(ventana, text=\"Área:\", font=(\"Arial\", 10, \"bold\"))\n",
    "label_area.grid(row=4, column=0, columnspan=2, pady=5)\n",
    "\n",
    "label_perimetro = tk.Label(ventana, text=\"Perímetro:\", font=(\"Arial\", 10, \"bold\"))\n",
    "label_perimetro.grid(row=5, column=0, columnspan=2, pady=5)\n",
    "\n",
    "# Iniciar la ventana\n",
    "ventana.mainloop()\n"
   ]
  }
 ],
 "metadata": {
  "kernelspec": {
   "display_name": "Python 3",
   "language": "python",
   "name": "python3"
  },
  "language_info": {
   "codemirror_mode": {
    "name": "ipython",
    "version": 3
   },
   "file_extension": ".py",
   "mimetype": "text/x-python",
   "name": "python",
   "nbconvert_exporter": "python",
   "pygments_lexer": "ipython3",
   "version": "3.12.4"
  }
 },
 "nbformat": 4,
 "nbformat_minor": 2
}
