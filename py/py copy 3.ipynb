{
 "cells": [
  {
   "cell_type": "code",
   "execution_count": 1,
   "metadata": {},
   "outputs": [
    {
     "name": "stdout",
     "output_type": "stream",
     "text": [
      "ChatCompletionMessage(content='¡Hola, amigo mío,\\nDe repito: ¡Hola, ablame en español, yo!\\n\\nQuería que hablemos de este tema,\\nEl fuego rojo que te llama.\\n\\n\"¡Ablama en español\", esa es la respuesta,\\nPuedes responder y responder, cada vez más.\\n\\n¿Cuál es tu respuesta?', refusal=None, role='assistant', function_call=None, tool_calls=None)\n"
     ]
    }
   ],
   "source": [
    "# Example: reuse your existing OpenAI setup\n",
    "from openai import OpenAI\n",
    "\n",
    "# Point to the local server\n",
    "client = OpenAI(base_url=\"http://localhost:1234/v1\", api_key=\"lm-studio\")\n",
    "\n",
    "completion = client.chat.completions.create(\n",
    "  model=\"bartowski/Llama-3.2-1B-Instruct-GGUF\",\n",
    "  messages=[\n",
    "    {\"role\": \"system\", \"content\": \"Always answer in rhymes.\"},\n",
    "    {\"role\": \"user\", \"content\": \"hola ablame en español porfa\"}\n",
    "  ],\n",
    "  temperature=0.7,\n",
    ")\n",
    "\n",
    "print(completion.choices[0].message)"
   ]
  },
  {
   "cell_type": "code",
   "execution_count": 2,
   "metadata": {},
   "outputs": [
    {
     "name": "stdout",
     "output_type": "stream",
     "text": [
      "Asistente:  What is the command to open a specific video on YouTube?\n"
     ]
    }
   ],
   "source": [
    "import os\n",
    "import urllib.parse  # Para codificar la búsqueda en la URL\n",
    "from openai import OpenAI\n",
    "\n",
    "# Configuración del cliente API de OpenAI\n",
    "client = OpenAI(base_url=\"http://localhost:1234/v1\", api_key=\"lm-studio\")\n",
    "\n",
    "# Función para ejecutar comandos del sistema y realizar búsquedas en YouTube\n",
    "def ejecutar_comando(comando):\n",
    "    comando = comando.lower()\n",
    "    \n",
    "    # Si el usuario quiere abrir solo YouTube\n",
    "    if \"abrir youtube\" in comando and \"buscar\" not in comando:\n",
    "        os.system(\"start https://www.youtube.com\")  # En Windows\n",
    "        # os.system(\"open https://www.youtube.com\")  # En macOS\n",
    "        # os.system(\"xdg-open https://www.youtube.com\")  # En Linux\n",
    "        return \"Abriendo YouTube...\"\n",
    "    \n",
    "    # Si el usuario quiere buscar algo en YouTube\n",
    "    elif \"buscar\" in comando and \"youtube\" in comando:\n",
    "        # Extraer el término de búsqueda del comando\n",
    "        termino_busqueda = comando.split(\"buscar\")[1].strip()\n",
    "        query = urllib.parse.quote(termino_busqueda)  # Codificar la búsqueda para la URL\n",
    "        url_busqueda = f\"https://www.youtube.com/results?search_query={query}\"\n",
    "        \n",
    "        # Ejecutar el comando del sistema para abrir el navegador con la búsqueda\n",
    "        os.system(f\"start {url_busqueda}\")  # En Windows\n",
    "        # os.system(f\"open {url_busqueda}\")  # En macOS\n",
    "        # os.system(f\"xdg-open {url_busqueda}\")  # En Linux\n",
    "        \n",
    "        return f\"Buscando '{termino_busqueda}' en YouTube...\"\n",
    "    \n",
    "    else:\n",
    "        return \"Comando no reconocido.\"\n",
    "\n",
    "# Bucle principal de la conversación\n",
    "history = [\n",
    "    {\"role\": \"system\", \"content\": \"You are an assistant that can execute system commands like opening YouTube or searching on YouTube.\"},\n",
    "]\n",
    "\n",
    "while True:\n",
    "    # Solicitud al modelo\n",
    "    completion = client.chat.completions.create(\n",
    "        model=\"bartowski/Llama-3.2-1B-Instruct-GGUF\",\n",
    "        messages=history,\n",
    "        temperature=0.7,\n",
    "        stream=True,\n",
    "    )\n",
    "\n",
    "    # Almacena la respuesta del modelo\n",
    "    respuesta_modelo = \"\"\n",
    "    for chunk in completion:\n",
    "        if chunk.choices[0].delta.content:\n",
    "            respuesta_modelo += chunk.choices[0].delta.content\n",
    "\n",
    "    # Imprimir respuesta del modelo\n",
    "    print(f\"Asistente: {respuesta_modelo}\")\n",
    "\n",
    "    # Verificar si hay un comando a ejecutar\n",
    "    respuesta_usuario = input(\"> \")\n",
    "    history.append({\"role\": \"user\", \"content\": respuesta_usuario})\n",
    "\n",
    "    # Verifica si el usuario quiere ejecutar un comando\n",
    "    resultado_comando = ejecutar_comando(respuesta_usuario)\n",
    "    print(f\"{resultado_comando}\")\n"
   ]
  },
  {
   "cell_type": "code",
   "execution_count": 2,
   "metadata": {},
   "outputs": [
    {
     "name": "stdout",
     "output_type": "stream",
     "text": [
      "Chat interactivo con la IA (presiona Ctrl+C para salir)\n",
      "\n"
     ]
    }
   ],
   "source": [
    "from openai import OpenAI\n",
    "\n",
    "# Configurar el cliente para conectarse al servidor local\n",
    "client = OpenAI(base_url=\"http://localhost:1234/v1\", api_key=\"lm-studio\")\n",
    "\n",
    "# Función para obtener el embedding de un texto\n",
    "def get_embedding(text, model=\"nomic-ai/nomic-embed-text-v1.5-GGUF\"):\n",
    "    text = text.replace(\"\\n\", \" \")  # Limpiar el texto\n",
    "    return client.embeddings.create(input=[text], model=model).data[0].embedding\n",
    "\n",
    "# Función para hacer que la IA responda en rima usando embeddings como contexto\n",
    "def ask_in_rhyme(text):\n",
    "    embedding = get_embedding(text)  # Obtener el embedding del texto ingresado\n",
    "    \n",
    "    # Hacer una solicitud a la IA para responder en rima\n",
    "    completion = client.chat.completions.create(\n",
    "        model=\"bartowski/Llama-3.2-1B-Instruct-GGUF\",\n",
    "        messages=[\n",
    "            {\"role\": \"system\", \"content\": \"Always answer in rhymes.\"},\n",
    "            {\"role\": \"user\", \"content\": f\"Here is some context based on the embedding: {embedding}. Now respond to this: {text}\"}\n",
    "        ],\n",
    "        temperature=0.7,\n",
    "    )\n",
    "    \n",
    "    # Imprimir la respuesta en rima\n",
    "    return completion.choices[0].message['content']\n",
    "\n",
    "# Bucle interactivo para que el usuario escriba y la IA responda\n",
    "def interactive_chat():\n",
    "    print(\"Chat interactivo con la IA (presiona Ctrl+C para salir)\\n\")\n",
    "    while True:\n",
    "        # Leer el input del usuario\n",
    "        user_input = input(\"Tú: \")\n",
    "        \n",
    "        # Si el usuario no ingresa nada, terminamos el ciclo\n",
    "        if not user_input:\n",
    "            print(\"Terminando la conversación...\")\n",
    "            break\n",
    "        \n",
    "        # Obtener la respuesta de la IA\n",
    "        response = ask_in_rhyme(user_input)\n",
    "        \n",
    "        # Mostrar la respuesta de la IA\n",
    "        print(f\"IA: {response}\\n\")\n",
    "\n",
    "# Iniciar el chat interactivo\n",
    "if __name__ == \"__main__\":\n",
    "    interactive_chat()\n"
   ]
  }
 ],
 "metadata": {
  "kernelspec": {
   "display_name": "Python 3",
   "language": "python",
   "name": "python3"
  },
  "language_info": {
   "codemirror_mode": {
    "name": "ipython",
    "version": 3
   },
   "file_extension": ".py",
   "mimetype": "text/x-python",
   "name": "python",
   "nbconvert_exporter": "python",
   "pygments_lexer": "ipython3",
   "version": "3.12.4"
  }
 },
 "nbformat": 4,
 "nbformat_minor": 2
}
