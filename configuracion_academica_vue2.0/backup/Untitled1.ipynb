{
 "cells": [
  {
   "cell_type": "code",
   "execution_count": 3,
   "metadata": {},
   "outputs": [
    {
     "name": "stdout",
     "output_type": "stream",
     "text": [
      "Requirement already satisfied: requests in c:\\users\\jhack alberth\\appdata\\local\\programs\\python\\python312\\lib\\site-packages (2.32.3)\n",
      "Requirement already satisfied: charset-normalizer<4,>=2 in c:\\users\\jhack alberth\\appdata\\local\\programs\\python\\python312\\lib\\site-packages (from requests) (3.3.2)\n",
      "Requirement already satisfied: idna<4,>=2.5 in c:\\users\\jhack alberth\\appdata\\local\\programs\\python\\python312\\lib\\site-packages (from requests) (3.7)\n",
      "Requirement already satisfied: urllib3<3,>=1.21.1 in c:\\users\\jhack alberth\\appdata\\local\\programs\\python\\python312\\lib\\site-packages (from requests) (2.2.2)\n",
      "Requirement already satisfied: certifi>=2017.4.17 in c:\\users\\jhack alberth\\appdata\\local\\programs\\python\\python312\\lib\\site-packages (from requests) (2024.7.4)\n"
     ]
    },
    {
     "name": "stderr",
     "output_type": "stream",
     "text": [
      "\n",
      "[notice] A new release of pip is available: 24.2 -> 24.3.1\n",
      "[notice] To update, run: python.exe -m pip install --upgrade pip\n"
     ]
    }
   ],
   "source": [
    "!pip install requests"
   ]
  },
  {
   "cell_type": "code",
   "execution_count": 11,
   "metadata": {},
   "outputs": [
    {
     "name": "stdout",
     "output_type": "stream",
     "text": [
      "GET /omesa/categorias: Éxito\n",
      "[{'n_id_categoria': '2', 'v_titulo': 'dasdasd'}, {'n_id_categoria': '9', 'v_titulo': 'SAsaSas'}, {'n_id_categoria': '10', 'v_titulo': 'ASasa'}, {'n_id_categoria': '11', 'v_titulo': 'SasAS'}, {'n_id_categoria': '12', 'v_titulo': 'SasA'}, {'n_id_categoria': '1', 'v_titulo': 'baki'}, {'n_id_categoria': '3', 'v_titulo': 'carrito'}, {'n_id_categoria': '4', 'v_titulo': 'SSasAS'}, {'n_id_categoria': '5', 'v_titulo': 'SAsaS'}, {'n_id_categoria': '6', 'v_titulo': 'SasaS'}, {'n_id_categoria': '7', 'v_titulo': 'saS'}, {'n_id_categoria': '8', 'v_titulo': 'sASAsaS'}]\n"
     ]
    }
   ],
   "source": [
    "import requests\n",
    "\n",
    "url = \"http://127.0.0.1:8000/omesa/categorias\"\n",
    "\n",
    "response = requests.get(url)\n",
    "\n",
    "if response.status_code == 200:\n",
    "    print(\"GET /omesa/categorias: Éxito\")\n",
    "    print(response.json())  # Muestra los datos recibidos\n",
    "else:\n",
    "    print(f\"GET /omesa/categorias: Error {response.status_code}\")\n"
   ]
  },
  {
   "cell_type": "code",
   "execution_count": 12,
   "metadata": {},
   "outputs": [
    {
     "name": "stdout",
     "output_type": "stream",
     "text": [
      "GET /omesa/categorias/2: Éxito\n",
      "{'n_id_categoria': '2', 'v_titulo': 'dasdasd'}\n"
     ]
    }
   ],
   "source": [
    "id_categoria = 2  # Cambia el ID según sea necesario\n",
    "url = f\"http://127.0.0.1:8000/omesa/categorias/{id_categoria}\"\n",
    "\n",
    "response = requests.get(url)\n",
    "\n",
    "if response.status_code == 200:\n",
    "    print(f\"GET /omesa/categorias/{id_categoria}: Éxito\")\n",
    "    print(response.json())  # Muestra los datos de la categoría\n",
    "else:\n",
    "    print(f\"GET /omesa/categorias/{id_categoria}: Error {response.status_code}\")\n"
   ]
  },
  {
   "cell_type": "code",
   "execution_count": 15,
   "metadata": {},
   "outputs": [],
   "source": [
    "import requests\n",
    "\n",
    "# URL base de la API\n",
    "BASE_URL = \"http://127.0.0.1:8000/omesa/categorias\"\n",
    "\n",
    "# Test para crear una nueva categoría (POST)\n",
    "def test_create_category():\n",
    "    # Datos de la nueva categoría\n",
    "    new_category = {\n",
    "        \"V_TITULO\": \"Nueva Categoria de Test\"\n",
    "    }\n",
    "    \n",
    "    # Enviamos la solicitud POST para crear la nueva categoría\n",
    "    response = requests.post(BASE_URL, json=new_category)\n",
    "    \n",
    "    if response.status_code == 201:\n",
    "        created_category = response.json()\n",
    "        # Verificamos si el título de la categoría coincide\n",
    "        if created_category[\"v_titulo\"] == new_category[\"V_TITULO\"]:\n",
    "            print(f\"Categoría '{new_category['V_TITULO']}' creada correctamente.\")\n",
    "        else:\n",
    "            print(\"El título de la categoría no coincide con el enviado.\")\n",
    "    else:\n",
    "        print(f\"No se pudo crear la categoría. Status code: {response.status_code}\")\n",
    "        # Esto imprime el mensaje de error devuelto por la API, si lo hay\n",
    "        try:\n",
    "            error_message = response.json()\n",
    "            print(f\"Error: {error_message.get('error', 'No se proporcionó un mensaje de error.')}\")\n",
    "        except ValueError:\n",
    "            print(\"No se pudo obtener un mensaje de error claro.\")\n"
   ]
  }
 ],
 "metadata": {
  "kernelspec": {
   "display_name": "Python 3",
   "language": "python",
   "name": "python3"
  },
  "language_info": {
   "codemirror_mode": {
    "name": "ipython",
    "version": 3
   },
   "file_extension": ".py",
   "mimetype": "text/x-python",
   "name": "python",
   "nbconvert_exporter": "python",
   "pygments_lexer": "ipython3",
   "version": "3.12.4"
  }
 },
 "nbformat": 4,
 "nbformat_minor": 2
}
